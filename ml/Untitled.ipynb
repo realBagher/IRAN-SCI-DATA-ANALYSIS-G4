{
 "cells": [
  {
   "cell_type": "code",
   "execution_count": 15,
   "id": "b2e750be-de5d-4cac-940a-0af91a5d07bf",
   "metadata": {},
   "outputs": [],
   "source": [
    "import numpy as np\n",
    "import matplotlib.pyplot as plt\n",
    "from sklearn.cluster import DBSCAN\n",
    "import pandas as pd\n"
   ]
  },
  {
   "cell_type": "code",
   "execution_count": 2,
   "id": "657c3bcf-f51b-476d-9a5e-eb670334d12f",
   "metadata": {},
   "outputs": [],
   "source": [
    "df_income_cost = pd.read_excel('Sumrzd_data.xlsx', engine=\"openpyxl\", sheet_name=None, index_col=0)"
   ]
  },
  {
   "cell_type": "code",
   "execution_count": 3,
   "id": "748ed68e-1ed7-4ce3-9890-92be0cc0ff1b",
   "metadata": {},
   "outputs": [],
   "source": [
    "X = df_income_cost['R99.xlsx']"
   ]
  },
  {
   "cell_type": "code",
   "execution_count": 6,
   "id": "a073695a-3c3d-4540-ba30-ca74950f3033",
   "metadata": {},
   "outputs": [
    {
     "data": {
      "image/png": "[encoded data removed]",
      "text/plain": [
       "<Figure size 640x480 with 1 Axes>"
      ]
     },
     "metadata": {},
     "output_type": "display_data"
    }
   ],
   "source": [
    "from sklearn.neighbors import NearestNeighbors\n",
    "import numpy as np\n",
    "import matplotlib.pyplot as plt\n",
    "\n",
    "\n",
    "neighbors = NearestNeighbors(n_neighbors=2)\n",
    "neighbors_fit = neighbors.fit(X)\n",
    "distances, indices = neighbors_fit.kneighbors(X)\n",
    "\n",
    "distances = np.sort(distances, axis=0)\n",
    "distances = distances[17825:, 1]\n",
    "plt.plot(distances)\n",
    "plt.ylabel('k-NN Distance')\n",
    "plt.xlabel('Data Points')\n",
    "plt.show()"
   ]
  },
  {
   "cell_type": "code",
   "execution_count": 7,
   "id": "846ea950-6a64-410f-827f-cea1ca36a7bd",
   "metadata": {},
   "outputs": [
    {
     "data": {
      "text/plain": [
       "array([3.98957023e+08, 4.24305771e+08, 4.47869985e+08, 6.93369046e+08,\n",
       "       1.13282952e+09, 5.00001716e+09, 5.66315819e+09])"
      ]
     },
     "execution_count": 7,
     "metadata": {},
     "output_type": "execute_result"
    }
   ],
   "source": [
    "distances"
   ]
  },
  {
   "cell_type": "code",
   "execution_count": 8,
   "id": "2b559e11-9ca2-4a10-b2ef-89d3fec845f9",
   "metadata": {},
   "outputs": [],
   "source": [
    "eps_value = (distances[4] + distances[5]) / 2"
   ]
  },
  {
   "cell_type": "code",
   "execution_count": 9,
   "id": "710e12d7-41ef-445b-9de7-954249d03450",
   "metadata": {},
   "outputs": [
    {
     "data": {
      "text/plain": [
       "372805491.1544868"
      ]
     },
     "execution_count": 9,
     "metadata": {},
     "output_type": "execute_result"
    }
   ],
   "source": [
    "eps_value"
   ]
  },
  {
   "cell_type": "code",
   "execution_count": 10,
   "id": "28a3b215-68fb-47e3-9798-ea481a31ed15",
   "metadata": {},
   "outputs": [],
   "source": [
    "from collections import Counter\n"
   ]
  },
  {
   "cell_type": "code",
   "execution_count": null,
   "id": "caa89b76-a13b-4018-a9a4-55817fbf4def",
   "metadata": {},
   "outputs": [
    {
     "name": "stdout",
     "output_type": "stream",
     "text": [
      "372805491.1544868\n",
      "******************************\n",
      "min_samples = 1, Number of clusters: 10\n",
      "Cluster 0: 17818 points\n",
      "Cluster 1: 5 points\n",
      "Cluster 2: 1 points\n",
      "Cluster 3: 1 points\n",
      "Cluster 4: 1 points\n",
      "Cluster 5: 1 points\n",
      "Cluster 6: 2 points\n",
      "Cluster 7: 1 points\n",
      "Cluster 8: 1 points\n",
      "Cluster 9: 1 points\n",
      "min_samples = 2, Number of clusters: 3\n",
      "min_samples = 3, Number of clusters: 2\n",
      "min_samples = 4, Number of clusters: 2\n",
      "min_samples = 5, Number of clusters: 2\n",
      "min_samples = 6, Number of clusters: 1\n",
      "min_samples = 7, Number of clusters: 1\n",
      "min_samples = 8, Number of clusters: 1\n",
      "min_samples = 9, Number of clusters: 1\n",
      "365349381.33139706\n",
      "******************************\n",
      "min_samples = 1, Number of clusters: 11\n",
      "min_samples = 2, Number of clusters: 4\n",
      "min_samples = 3, Number of clusters: 2\n",
      "min_samples = 4, Number of clusters: 2\n",
      "min_samples = 5, Number of clusters: 1\n",
      "min_samples = 6, Number of clusters: 1\n",
      "min_samples = 7, Number of clusters: 1\n",
      "min_samples = 8, Number of clusters: 1\n",
      "min_samples = 9, Number of clusters: 1\n",
      "358042393.70476913\n",
      "******************************\n",
      "min_samples = 1, Number of clusters: 11\n",
      "min_samples = 2, Number of clusters: 4\n",
      "min_samples = 3, Number of clusters: 2\n",
      "min_samples = 4, Number of clusters: 2\n",
      "min_samples = 5, Number of clusters: 1\n",
      "min_samples = 6, Number of clusters: 1\n",
      "min_samples = 7, Number of clusters: 1\n",
      "min_samples = 8, Number of clusters: 1\n",
      "min_samples = 9, Number of clusters: 1\n",
      "350881545.83067375\n",
      "******************************\n",
      "min_samples = 1, Number of clusters: 11\n",
      "min_samples = 2, Number of clusters: 4\n",
      "min_samples = 3, Number of clusters: 2\n",
      "min_samples = 4, Number of clusters: 1\n",
      "min_samples = 5, Number of clusters: 1\n",
      "min_samples = 6, Number of clusters: 1\n",
      "min_samples = 7, Number of clusters: 1\n",
      "min_samples = 8, Number of clusters: 1\n",
      "min_samples = 9, Number of clusters: 1\n",
      "343863914.9140603\n",
      "******************************\n",
      "min_samples = 1, Number of clusters: 11\n",
      "min_samples = 2, Number of clusters: 4\n",
      "min_samples = 3, Number of clusters: 2\n",
      "min_samples = 4, Number of clusters: 1\n",
      "min_samples = 5, Number of clusters: 1\n",
      "min_samples = 6, Number of clusters: 1\n",
      "min_samples = 7, Number of clusters: 1\n",
      "min_samples = 8, Number of clusters: 1\n",
      "min_samples = 9, Number of clusters: 1\n",
      "336986636.6157791\n",
      "******************************\n",
      "min_samples = 1, Number of clusters: 13\n",
      "min_samples = 2, Number of clusters: 5\n",
      "min_samples = 3, Number of clusters: 3\n",
      "min_samples = 4, Number of clusters: 2\n",
      "min_samples = 5, Number of clusters: 1\n",
      "min_samples = 6, Number of clusters: 1\n",
      "min_samples = 7, Number of clusters: 1\n",
      "min_samples = 8, Number of clusters: 1\n",
      "min_samples = 9, Number of clusters: 1\n",
      "330246903.8834635\n",
      "******************************\n",
      "min_samples = 1, Number of clusters: 13\n",
      "min_samples = 2, Number of clusters: 5\n",
      "min_samples = 3, Number of clusters: 3\n",
      "min_samples = 4, Number of clusters: 1\n",
      "min_samples = 5, Number of clusters: 1\n",
      "min_samples = 6, Number of clusters: 1\n",
      "min_samples = 7, Number of clusters: 1\n",
      "min_samples = 8, Number of clusters: 1\n",
      "min_samples = 9, Number of clusters: 1\n",
      "323641965.80579424\n",
      "******************************\n",
      "min_samples = 1, Number of clusters: 16\n",
      "min_samples = 2, Number of clusters: 5\n",
      "min_samples = 3, Number of clusters: 3\n",
      "min_samples = 4, Number of clusters: 1\n",
      "min_samples = 5, Number of clusters: 1\n",
      "min_samples = 6, Number of clusters: 1\n",
      "min_samples = 7, Number of clusters: 1\n",
      "min_samples = 8, Number of clusters: 1\n",
      "min_samples = 9, Number of clusters: 1\n",
      "317169126.4896783\n",
      "******************************\n",
      "min_samples = 1, Number of clusters: 16\n",
      "min_samples = 2, Number of clusters: 5\n",
      "min_samples = 3, Number of clusters: 3\n",
      "min_samples = 4, Number of clusters: 1\n",
      "min_samples = 5, Number of clusters: 1\n",
      "min_samples = 6, Number of clusters: 1\n",
      "min_samples = 7, Number of clusters: 1\n",
      "min_samples = 8, Number of clusters: 1\n",
      "min_samples = 9, Number of clusters: 1\n",
      "310825743.95988476\n",
      "******************************\n",
      "min_samples = 1, Number of clusters: 17\n",
      "min_samples = 2, Number of clusters: 4\n",
      "min_samples = 3, Number of clusters: 3\n",
      "min_samples = 4, Number of clusters: 1\n",
      "min_samples = 5, Number of clusters: 1\n",
      "min_samples = 6, Number of clusters: 1\n",
      "min_samples = 7, Number of clusters: 1\n",
      "min_samples = 8, Number of clusters: 1\n",
      "min_samples = 9, Number of clusters: 1\n",
      "304609229.08068705\n",
      "******************************\n",
      "min_samples = 1, Number of clusters: 19\n",
      "min_samples = 2, Number of clusters: 4\n",
      "min_samples = 3, Number of clusters: 3\n",
      "min_samples = 4, Number of clusters: 1\n",
      "min_samples = 5, Number of clusters: 1\n",
      "min_samples = 6, Number of clusters: 1\n",
      "min_samples = 7, Number of clusters: 1\n",
      "min_samples = 8, Number of clusters: 1\n",
      "min_samples = 9, Number of clusters: 1\n",
      "298517044.4990733\n",
      "******************************\n",
      "min_samples = 1, Number of clusters: 19\n",
      "min_samples = 2, Number of clusters: 4\n",
      "min_samples = 3, Number of clusters: 3\n",
      "min_samples = 4, Number of clusters: 1\n",
      "min_samples = 5, Number of clusters: 1\n",
      "min_samples = 6, Number of clusters: 1\n",
      "min_samples = 7, Number of clusters: 1\n",
      "min_samples = 8, Number of clusters: 1\n",
      "min_samples = 9, Number of clusters: 1\n",
      "292546703.6090919\n",
      "******************************\n",
      "min_samples = 1, Number of clusters: 19\n",
      "min_samples = 2, Number of clusters: 4\n",
      "min_samples = 3, Number of clusters: 3\n",
      "min_samples = 4, Number of clusters: 1\n",
      "min_samples = 5, Number of clusters: 1\n",
      "min_samples = 6, Number of clusters: 1\n",
      "min_samples = 7, Number of clusters: 1\n",
      "min_samples = 8, Number of clusters: 1\n",
      "min_samples = 9, Number of clusters: 1\n",
      "286695769.53691006\n",
      "******************************\n",
      "min_samples = 1, Number of clusters: 19\n",
      "min_samples = 2, Number of clusters: 4\n",
      "min_samples = 3, Number of clusters: 3\n",
      "min_samples = 4, Number of clusters: 1\n",
      "min_samples = 5, Number of clusters: 1\n",
      "min_samples = 6, Number of clusters: 1\n",
      "min_samples = 7, Number of clusters: 1\n",
      "min_samples = 8, Number of clusters: 1\n",
      "min_samples = 9, Number of clusters: 1\n",
      "280961854.14617187\n",
      "******************************\n",
      "min_samples = 1, Number of clusters: 19\n",
      "min_samples = 2, Number of clusters: 4\n",
      "min_samples = 3, Number of clusters: 3\n",
      "min_samples = 4, Number of clusters: 1\n",
      "min_samples = 5, Number of clusters: 1\n",
      "min_samples = 6, Number of clusters: 1\n",
      "min_samples = 7, Number of clusters: 1\n",
      "min_samples = 8, Number of clusters: 1\n",
      "min_samples = 9, Number of clusters: 1\n",
      "275342617.0632484\n",
      "******************************\n",
      "min_samples = 1, Number of clusters: 20\n",
      "min_samples = 2, Number of clusters: 5\n"
     ]
    }
   ],
   "source": [
    "flag = 0\n",
    "limit_range = 10\n",
    "while flag != 1:\n",
    "    print(eps_value)\n",
    "    print('*'*30)\n",
    "    \n",
    "    for min_s in range(1, limit_range):\n",
    "        dbscan = DBSCAN(eps=eps_value, min_samples=min_s)\n",
    "        clusters = dbscan.fit_predict(X)\n",
    "        n_clusters = len(set(clusters)) - (1 if -1 in clusters else 0)\n",
    "        print(f'min_samples = {min_s}, Number of clusters: {n_clusters}')\n",
    "        if n_clusters == 10:\n",
    "            cluster_counts = Counter(clusters)\n",
    "            for cluster_id, count in cluster_counts.items():\n",
    "                if cluster_id == -1:\n",
    "                    print(f\"Noise points: {count}\")\n",
    "                else:\n",
    "                    print(f\"Cluster {cluster_id}: {count} points\")\n",
    "    else:\n",
    "\n",
    "        if n_clusters >= limit_range:\n",
    "            limit_range += 20\n",
    "        eps_value = eps_value * 0.98\n",
    "        "
   ]
  },
  {
   "cell_type": "code",
   "execution_count": null,
   "id": "e92b0ed4-3dff-4ad9-b8e8-087b0ed3c728",
   "metadata": {},
   "outputs": [],
   "source": [
    "dbscan = DBSCAN(eps=372805491.1544868, min_samples=1)\n",
    "clusters = dbscan.fit_predict(X)"
   ]
  },
  {
   "cell_type": "code",
   "execution_count": null,
   "id": "56a017b0-b917-4be6-ada8-e85e584a1415",
   "metadata": {},
   "outputs": [],
   "source": [
    "plt.figure(figsize=(20, 6))\n",
    "unique_labels = set(clusters)\n",
    "colors = [plt.cm.Spectral(each) for each in np.linspace(0, 1, len(unique_labels))]\n",
    "\n",
    "for k, col in zip(unique_labels, colors):\n",
    "    if k == -1:\n",
    "        # رنگ سیاه برای نقاط نویزی\n",
    "        col = [0, 0, 0, 1]  \n",
    "    class_member_mask = (clusters == k)\n",
    "    \n",
    "    # اگر X یک DataFrame است، از .values استفاده کنید\n",
    "    xy = X[class_member_mask]\n",
    "    plt.plot(xy.iloc[:, 0].values, xy.iloc[:, 1].values, 'o', markerfacecolor=tuple(col),\n",
    "             markeredgecolor='k', markersize=6)\n",
    "\n",
    "plt.title('DBSCAN clustering')\n",
    "plt.show()\n"
   ]
  }
 ],
 "metadata": {
  "kernelspec": {
   "display_name": "Python 3 (ipykernel)",
   "language": "python",
   "name": "python3"
  },
  "language_info": {
   "codemirror_mode": {
    "name": "ipython",
    "version": 3
   },
   "file_extension": ".py",
   "mimetype": "text/x-python",
   "name": "python",
   "nbconvert_exporter": "python",
   "pygments_lexer": "ipython3",
   "version": "3.11.7"
  }
 },
 "nbformat": 4,
 "nbformat_minor": 5
}
