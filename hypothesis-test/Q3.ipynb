{
 "cells": [
  {
   "cell_type": "code",
   "execution_count": 1,
   "id": "initial_id",
   "metadata": {
    "ExecuteTime": {
     "end_time": "2024-09-19T19:09:00.062967Z",
     "start_time": "2024-09-19T19:09:00.058297Z"
    }
   },
   "outputs": [],
   "source": [
    "import pandas as pd\n",
    "from scipy.stats import mannwhitneyu\n",
    "import scipy.stats as stats"
   ]
  },
  {
   "cell_type": "code",
   "execution_count": 2,
   "id": "c50ad21d61fe3c8f",
   "metadata": {
    "ExecuteTime": {
     "end_time": "2024-09-19T19:09:00.648449Z",
     "start_time": "2024-09-19T19:09:00.637554Z"
    }
   },
   "outputs": [],
   "source": [
    "ALPHA = 0.05\n",
    "\n",
    "cols_to_sum = ['netincome_w_y', 'perk_w_y', 'wage_w_y', 'income_s_y', 'income_pension', 'income_rent',\n",
    "               'income_interest', 'income_aid', 'income_resale', 'income_transfer', 'subsidy']\n",
    "\n",
    "def anderson(result):\n",
    "    print(f\"Statistic: {result.statistic}\")\n",
    "    print(f\"Critical Values: {result.critical_values}\")\n",
    "    print(f\"Significance Levels: {result.significance_level}\")\n",
    "\n",
    "    for i in range(len(result.critical_values)):\n",
    "        if result.statistic > result.critical_values[i]:\n",
    "            print(f\"At the {result.significance_level[i]}% significance level, data is NOT normal.\")\n",
    "        else:\n",
    "            print(f\"At the {result.significance_level[i]}% significance level, data is normal.\")"
   ]
  },
  {
   "cell_type": "markdown",
   "id": "fc2569d5694d61a5",
   "metadata": {},
   "source": [
    "# 1398"
   ]
  },
  {
   "cell_type": "code",
   "execution_count": 3,
   "id": "6e13ccddb2f0ed8d",
   "metadata": {
    "ExecuteTime": {
     "end_time": "2024-09-19T19:25:17.167964Z",
     "start_time": "2024-09-19T19:25:03.872649Z"
    }
   },
   "outputs": [],
   "source": [
    "U98P1 = pd.read_excel('../datasets/U98.xlsx', sheet_name='U98P1')\n",
    "U98P4S01 = pd.read_excel('../datasets/U98.xlsx', sheet_name='U98P4S01')\n",
    "U98P4S02 = pd.read_excel('../datasets/U98.xlsx', sheet_name='U98P4S02')\n",
    "U98P4S03 = pd.read_excel('../datasets/U98.xlsx', sheet_name='U98P4S03')\n",
    "U98P4S04 = pd.read_excel('../datasets/U98.xlsx', sheet_name='U98P4S04')\n",
    "\n",
    "R98P1 = pd.read_excel('../datasets/R98.xlsx', sheet_name='R98P1')\n",
    "R98P4S01 = pd.read_excel('../datasets/R98.xlsx', sheet_name='R98P4S01')\n",
    "R98P4S02 = pd.read_excel('../datasets/R98.xlsx', sheet_name='R98P4S02')\n",
    "R98P4S03 = pd.read_excel('../datasets/R98.xlsx', sheet_name='R98P4S03')\n",
    "R98P4S04 = pd.read_excel('../datasets/R98.xlsx', sheet_name='R98P4S04')"
   ]
  },
  {
   "cell_type": "code",
   "execution_count": 4,
   "id": "a5a791604492b437",
   "metadata": {
    "ExecuteTime": {
     "end_time": "2024-09-19T19:09:36.006411Z",
     "start_time": "2024-09-19T19:09:35.921128Z"
    }
   },
   "outputs": [
    {
     "name": "stdout",
     "output_type": "stream",
     "text": [
      "Number of graduates in urban: 15592\n",
      "Number of non-graduates in urban: 44997\n"
     ]
    }
   ],
   "source": [
    "Y98P1 = pd.concat([U98P1, R98P1])\n",
    "Y98P4S01 = pd.concat([U98P4S01, R98P4S01])\n",
    "Y98P4S02 = pd.concat([U98P4S02, R98P4S02])\n",
    "Y98P4S03 = pd.concat([U98P4S03, R98P4S03])\n",
    "Y98P4S04 = pd.concat([U98P4S04, R98P4S04])\n",
    "\n",
    "Y98P1['degree'] = Y98P1['degree'].str.lower()\n",
    "\n",
    "Y98P1['degree'].value_counts()\n",
    "\n",
    "Y98_graduates = Y98P1[Y98P1['degree'].isin(['phd', 'master', 'bachelor', 'college'])]\n",
    "Y98_non_graduates = Y98P1[Y98P1['degree'].isin(['elementary', 'diploma', 'secondary', 'highschool'])]\n",
    "\n",
    "print(f\"Number of graduates in urban: {Y98_graduates.shape[0]}\")\n",
    "print(f\"Number of non-graduates in urban: {Y98_non_graduates.shape[0]}\")"
   ]
  },
  {
   "cell_type": "code",
   "execution_count": 5,
   "id": "a95d006579ce35f4",
   "metadata": {
    "ExecuteTime": {
     "end_time": "2024-09-19T19:09:39.170280Z",
     "start_time": "2024-09-19T19:09:39.107293Z"
    }
   },
   "outputs": [],
   "source": [
    "Y98P4S01 = Y98P4S01[['Address', 'netincome_w_y', 'perk_w_y', 'wage_w_y']]\n",
    "Y98P4S02 = Y98P4S02[['Address', 'income_s_y']]\n",
    "Y98P4S03 = Y98P4S03[\n",
    "    ['Address', 'income_pension', 'income_rent', 'income_interest', 'income_aid', 'income_resale', 'income_transfer']]\n",
    "Y98P4S04 = Y98P4S04[['Address', 'subsidy']]\n",
    "\n",
    "Y98_incomes = pd.merge(left=Y98P4S01, right=Y98P4S02, on='Address', how='outer')\n",
    "Y98_incomes = pd.merge(left=Y98_incomes, right=Y98P4S03, on='Address', how='outer')\n",
    "Y98_incomes = pd.merge(left=Y98_incomes, right=Y98P4S04, on='Address', how='outer')"
   ]
  },
  {
   "cell_type": "code",
   "execution_count": 6,
   "id": "e5f9fd557262fda",
   "metadata": {
    "ExecuteTime": {
     "end_time": "2024-09-19T19:09:41.661871Z",
     "start_time": "2024-09-19T19:09:41.529392Z"
    }
   },
   "outputs": [],
   "source": [
    "Y98_incomes[cols_to_sum] = Y98_incomes[cols_to_sum].apply(pd.to_numeric, errors='coerce')\n",
    "Y98_incomes = Y98_incomes.dropna(thresh=Y98_incomes.shape[1] - 10)\n",
    "Y98_incomes = Y98_incomes.fillna(0)\n",
    "\n",
    "Y98_graduates_income = pd.merge(left=Y98_graduates, right=Y98_incomes, on='Address', how='inner')\n",
    "Y98_non_graduates_income = pd.merge(left=Y98_non_graduates, right=Y98_incomes, on='Address', how='inner')\n",
    "\n",
    "Y98_graduates_income['total_income'] = Y98_graduates_income[cols_to_sum].sum(axis=1)\n",
    "Y98_non_graduates_income['total_income'] = Y98_non_graduates_income[cols_to_sum].sum(axis=1)"
   ]
  },
  {
   "cell_type": "code",
   "execution_count": 7,
   "id": "8da80826ddcd226",
   "metadata": {
    "ExecuteTime": {
     "end_time": "2024-09-19T19:09:55.528608Z",
     "start_time": "2024-09-19T19:09:55.523593Z"
    }
   },
   "outputs": [],
   "source": [
    "Y98_graduates_income_mean = Y98_graduates_income['total_income'].mean()"
   ]
  },
  {
   "cell_type": "code",
   "execution_count": 8,
   "id": "43f02ffedfc1aef9",
   "metadata": {
    "ExecuteTime": {
     "end_time": "2024-09-19T19:09:53.590225Z",
     "start_time": "2024-09-19T19:09:53.583436Z"
    }
   },
   "outputs": [],
   "source": [
    "Y98_non_graduates_income_mean = Y98_non_graduates_income['total_income'].mean()"
   ]
  },
  {
   "cell_type": "markdown",
   "id": "65b1d2545ec157fd",
   "metadata": {},
   "source": [
    "فرضیات\n",
    "- **فرضیه صفر (H0):** تفاوت معناداری بین مجموع درآمد سالانه افرادی که به دانشگاه رفته‌اند و افرادی که به دانشگاه نرفته‌اند وجود ندارد.\n",
    "- **فرضیه مقابل (H1):** تفاوت معناداری بین مجموع درآمد سالانه افرادی که به دانشگاه رفته‌اند و افرادی که به دانشگاه نرفته‌اند وجود دارد.\n"
   ]
  },
  {
   "cell_type": "code",
   "execution_count": 9,
   "id": "a9e0584dbc90d16d",
   "metadata": {
    "ExecuteTime": {
     "end_time": "2024-09-19T19:25:42.135845Z",
     "start_time": "2024-09-19T19:25:41.649970Z"
    }
   },
   "outputs": [
    {
     "name": "stdout",
     "output_type": "stream",
     "text": [
      "Statistic: 694.0000047112844\n",
      "Critical Values: [0.576 0.656 0.787 0.918 1.092]\n",
      "Significance Levels: [15.  10.   5.   2.5  1. ]\n",
      "At the 15.0% significance level, data is NOT normal.\n",
      "At the 10.0% significance level, data is NOT normal.\n",
      "At the 5.0% significance level, data is NOT normal.\n",
      "At the 2.5% significance level, data is NOT normal.\n",
      "At the 1.0% significance level, data is NOT normal.\n",
      "Statistic: 2848.8719718521606\n",
      "Critical Values: [0.576 0.656 0.787 0.918 1.092]\n",
      "Significance Levels: [15.  10.   5.   2.5  1. ]\n",
      "At the 15.0% significance level, data is NOT normal.\n",
      "At the 10.0% significance level, data is NOT normal.\n",
      "At the 5.0% significance level, data is NOT normal.\n",
      "At the 2.5% significance level, data is NOT normal.\n",
      "At the 1.0% significance level, data is NOT normal.\n",
      "U-statistic: 526079484.5 1.0\n",
      "P-value: 1.0 so there's no evidence about that graduated people earn more\n"
     ]
    }
   ],
   "source": [
    "Y98_graduates_income.drop(['degree'], axis=1, inplace=True)\n",
    "Y98_non_graduates_income.drop(['degree'], axis=1, inplace=True)\n",
    "\n",
    "Y98_graduates_income_anderson = stats.anderson(Y98_graduates_income['total_income'].to_numpy())\n",
    "\n",
    "anderson(Y98_graduates_income_anderson)\n",
    "\n",
    "Y98_non_graduates_income_anderson = stats.anderson(Y98_non_graduates_income['total_income'].to_numpy())\n",
    "\n",
    "anderson(Y98_non_graduates_income_anderson)\n",
    "\n",
    "u_statistic, p_value = mannwhitneyu(Y98_graduates_income['total_income'], Y98_graduates_income['total_income'],\n",
    "                                    alternative='two-sided')\n",
    "\n",
    "print(f\"U-statistic: {u_statistic} {p_value}\")\n",
    "print(\n",
    "    f\"P-value: {p_value} so there's {'no' if p_value > ALPHA else 'an'} evidence about that graduated people earn more\")"
   ]
  },
  {
   "cell_type": "code",
   "execution_count": 10,
   "id": "43095e48b47e382c",
   "metadata": {
    "ExecuteTime": {
     "end_time": "2024-09-19T19:25:17.171973Z",
     "start_time": "2024-09-19T19:25:17.168830Z"
    }
   },
   "outputs": [
    {
     "name": "stdout",
     "output_type": "stream",
     "text": [
      "Difference between average: 159,078,475.13\n"
     ]
    }
   ],
   "source": [
    "print(f\"Difference between average: {Y98_graduates_income_mean - Y98_non_graduates_income_mean:,.2f}\")"
   ]
  },
  {
   "cell_type": "code",
   "execution_count": 11,
   "id": "a7047d0c51bdcd0",
   "metadata": {
    "ExecuteTime": {
     "end_time": "2024-09-19T19:25:50.235245Z",
     "start_time": "2024-09-19T19:25:50.189122Z"
    }
   },
   "outputs": [
    {
     "name": "stdout",
     "output_type": "stream",
     "text": [
      "Statistic: 611.0781128209637\n",
      "Critical Values: [0.576 0.656 0.787 0.918 1.092]\n",
      "Significance Levels: [15.  10.   5.   2.5  1. ]\n",
      "At the 15.0% significance level, data is NOT normal.\n",
      "At the 10.0% significance level, data is NOT normal.\n",
      "At the 5.0% significance level, data is NOT normal.\n",
      "At the 2.5% significance level, data is NOT normal.\n",
      "At the 1.0% significance level, data is NOT normal.\n",
      "Statistic: 611.0781128209637\n",
      "Critical Values: [0.576 0.656 0.787 0.918 1.092]\n",
      "Significance Levels: [15.  10.   5.   2.5  1. ]\n",
      "At the 15.0% significance level, data is NOT normal.\n",
      "At the 10.0% significance level, data is NOT normal.\n",
      "At the 5.0% significance level, data is NOT normal.\n",
      "At the 2.5% significance level, data is NOT normal.\n",
      "At the 1.0% significance level, data is NOT normal.\n"
     ]
    }
   ],
   "source": [
    "Y98_graduates_income_yeojohnson = stats.yeojohnson(Y98_graduates_income['total_income'])\n",
    "Y98_non_graduates_income_yeojohnson = stats.yeojohnson(Y98_graduates_income['total_income'])\n",
    "\n",
    "Y98_non_graduates_income_anderson = stats.anderson(Y98_graduates_income_yeojohnson[0])\n",
    "Y98_non_graduates_income_yeojohnson = stats.anderson(Y98_non_graduates_income_yeojohnson[0])\n",
    "\n",
    "anderson(Y98_non_graduates_income_anderson)\n",
    "anderson(Y98_non_graduates_income_yeojohnson)"
   ]
  },
  {
   "cell_type": "markdown",
   "id": "d20b62756ce8bb45",
   "metadata": {},
   "source": [
    "تفاوت معناداری بین مجموع درآمد سالانه افرادی که به دانشگاه رفته‌اند و افرادی که به دانشگاه نرفته‌اند وجود ندارد"
   ]
  },
  {
   "cell_type": "markdown",
   "id": "fa132a0dcb78448f",
   "metadata": {},
   "source": [
    "# 1399"
   ]
  },
  {
   "cell_type": "code",
   "execution_count": 12,
   "id": "d5a7cc5495ac3731",
   "metadata": {
    "ExecuteTime": {
     "end_time": "2024-09-19T19:19:54.336898Z",
     "start_time": "2024-09-19T19:19:38.584383Z"
    }
   },
   "outputs": [],
   "source": [
    "U99P1 = pd.read_excel('../datasets/U99.xlsx', sheet_name='U99P1')\n",
    "U99P4S01 = pd.read_excel('../datasets/U99.xlsx', sheet_name='U99P4S01')\n",
    "U99P4S02 = pd.read_excel('../datasets/U99.xlsx', sheet_name='U99P4S02')\n",
    "U99P4S03 = pd.read_excel('../datasets/U99.xlsx', sheet_name='U99P4S03')\n",
    "U99P4S04 = pd.read_excel('../datasets/U99.xlsx', sheet_name='U99P4S04')\n",
    "\n",
    "R99P1 = pd.read_excel('../datasets/R99.xlsx', sheet_name='R99P1')\n",
    "R99P4S01 = pd.read_excel('../datasets/R99.xlsx', sheet_name='R99P4S01')\n",
    "R99P4S02 = pd.read_excel('../datasets/R99.xlsx', sheet_name='R99P4S02')\n",
    "R99P4S03 = pd.read_excel('../datasets/R99.xlsx', sheet_name='R99P4S03')\n",
    "R99P4S04 = pd.read_excel('../datasets/R99.xlsx', sheet_name='R99P4S04')"
   ]
  },
  {
   "cell_type": "code",
   "execution_count": 13,
   "id": "b7ca886ef0dd34b4",
   "metadata": {
    "ExecuteTime": {
     "end_time": "2024-09-19T19:20:00.725786Z",
     "start_time": "2024-09-19T19:20:00.685934Z"
    }
   },
   "outputs": [
    {
     "name": "stdout",
     "output_type": "stream",
     "text": [
      "Number of graduates in urban: 15654\n",
      "Number of non-graduates in urban: 44961\n"
     ]
    }
   ],
   "source": [
    "Y99P1 = pd.concat([U99P1, R99P1])\n",
    "Y99P4S01 = pd.concat([U99P4S01, R99P4S01])\n",
    "Y99P4S02 = pd.concat([U99P4S02, R99P4S02])\n",
    "Y99P4S03 = pd.concat([U99P4S03, R99P4S03])\n",
    "Y99P4S04 = pd.concat([U99P4S04, R99P4S04])\n",
    "\n",
    "Y99P1['degree'] = Y99P1['degree'].str.lower()\n",
    "\n",
    "Y99P1['degree'].value_counts()\n",
    "\n",
    "Y99_graduates = Y99P1[Y99P1['degree'].isin(['phd', 'master', 'bachelor', 'college'])]\n",
    "Y99_non_graduates = Y99P1[Y99P1['degree'].isin(['elementary', 'diploma', 'secondary', 'highschool'])]\n",
    "\n",
    "print(f\"Number of graduates in urban: {Y99_graduates.shape[0]}\")\n",
    "print(f\"Number of non-graduates in urban: {Y99_non_graduates.shape[0]}\")"
   ]
  },
  {
   "cell_type": "code",
   "execution_count": 14,
   "id": "9a3fbccda542999d",
   "metadata": {
    "ExecuteTime": {
     "end_time": "2024-09-19T19:20:10.463492Z",
     "start_time": "2024-09-19T19:20:10.412731Z"
    }
   },
   "outputs": [],
   "source": [
    "Y99P4S01 = Y99P4S01[['Address', 'netincome_w_y', 'perk_w_y', 'wage_w_y']]\n",
    "Y99P4S02 = Y99P4S02[['Address', 'income_s_y']]\n",
    "Y99P4S03 = Y99P4S03[\n",
    "    ['Address', 'income_pension', 'income_rent', 'income_interest', 'income_aid', 'income_resale', 'income_transfer']]\n",
    "Y99P4S04 = Y99P4S04[['Address', 'subsidy']]\n",
    "\n",
    "Y99_incomes = pd.merge(left=Y99P4S01, right=Y99P4S02, on='Address', how='outer')\n",
    "Y99_incomes = pd.merge(left=Y99_incomes, right=Y99P4S03, on='Address', how='outer')\n",
    "Y99_incomes = pd.merge(left=Y99_incomes, right=Y99P4S04, on='Address', how='outer')"
   ]
  },
  {
   "cell_type": "code",
   "execution_count": 15,
   "id": "bdd280195645849",
   "metadata": {
    "ExecuteTime": {
     "end_time": "2024-09-19T19:20:18.469303Z",
     "start_time": "2024-09-19T19:20:18.316653Z"
    }
   },
   "outputs": [],
   "source": [
    "Y99_incomes[cols_to_sum] = Y99_incomes[cols_to_sum].apply(pd.to_numeric, errors='coerce')\n",
    "Y99_incomes = Y99_incomes.dropna(thresh=Y99_incomes.shape[1] - 10)\n",
    "Y99_incomes = Y99_incomes.fillna(0)\n",
    "\n",
    "Y99_graduates_income = pd.merge(left=Y99_graduates, right=Y99_incomes, on='Address', how='inner')\n",
    "Y99_non_graduates_income = pd.merge(left=Y99_non_graduates, right=Y99_incomes, on='Address', how='inner')\n",
    "\n",
    "Y99_graduates_income['total_income'] = Y99_graduates_income[cols_to_sum].sum(axis=1)\n",
    "Y99_non_graduates_income['total_income'] = Y99_non_graduates_income[cols_to_sum].sum(axis=1)"
   ]
  },
  {
   "cell_type": "code",
   "execution_count": 16,
   "id": "228694ddb8232806",
   "metadata": {
    "ExecuteTime": {
     "end_time": "2024-09-19T19:20:35.554859Z",
     "start_time": "2024-09-19T19:20:35.550558Z"
    }
   },
   "outputs": [],
   "source": [
    "Y99_graduates_income_mean = Y99_graduates_income['total_income'].mean()"
   ]
  },
  {
   "cell_type": "code",
   "execution_count": 17,
   "id": "206c94f9c28ab252",
   "metadata": {
    "ExecuteTime": {
     "end_time": "2024-09-19T19:20:42.722623Z",
     "start_time": "2024-09-19T19:20:42.719392Z"
    }
   },
   "outputs": [],
   "source": [
    "Y99_non_graduates_income_mean = Y99_non_graduates_income['total_income'].mean()"
   ]
  },
  {
   "cell_type": "code",
   "execution_count": 18,
   "id": "a4ac0001a065740f",
   "metadata": {
    "ExecuteTime": {
     "end_time": "2024-09-19T19:20:58.625917Z",
     "start_time": "2024-09-19T19:20:58.623132Z"
    }
   },
   "outputs": [
    {
     "name": "stdout",
     "output_type": "stream",
     "text": [
      "Difference between average: 207,787,299.31\n"
     ]
    }
   ],
   "source": [
    "print(f\"Difference between average: {Y99_graduates_income_mean - Y99_non_graduates_income_mean:,.2f}\")"
   ]
  },
  {
   "cell_type": "code",
   "execution_count": 19,
   "id": "5448b961d10d4b04",
   "metadata": {
    "ExecuteTime": {
     "end_time": "2024-09-19T19:24:46.306927Z",
     "start_time": "2024-09-19T19:24:46.228863Z"
    }
   },
   "outputs": [
    {
     "name": "stdout",
     "output_type": "stream",
     "text": [
      "Statistic: 1356.5185398020185\n",
      "Critical Values: [0.576 0.656 0.787 0.918 1.092]\n",
      "Significance Levels: [15.  10.   5.   2.5  1. ]\n",
      "At the 15.0% significance level, data is NOT normal.\n",
      "At the 10.0% significance level, data is NOT normal.\n",
      "At the 5.0% significance level, data is NOT normal.\n",
      "At the 2.5% significance level, data is NOT normal.\n",
      "At the 1.0% significance level, data is NOT normal.\n",
      "Statistic: 4735.396951654111\n",
      "Critical Values: [0.576 0.656 0.787 0.918 1.092]\n",
      "Significance Levels: [15.  10.   5.   2.5  1. ]\n",
      "At the 15.0% significance level, data is NOT normal.\n",
      "At the 10.0% significance level, data is NOT normal.\n",
      "At the 5.0% significance level, data is NOT normal.\n",
      "At the 2.5% significance level, data is NOT normal.\n",
      "At the 1.0% significance level, data is NOT normal.\n",
      "U-statistic: 5532220091.0 0.0\n",
      "P-value: 0.0 so there's an evidence about that graduated people earn more\n"
     ]
    }
   ],
   "source": [
    "Y99_graduates_income.drop(['degree'], axis=1, inplace=True)\n",
    "Y99_non_graduates_income.drop(['degree'], axis=1, inplace=True)\n",
    "\n",
    "Y99_graduates_income_anderson = stats.anderson(Y99_graduates_income['total_income'].to_numpy())\n",
    "\n",
    "anderson(Y99_graduates_income_anderson)\n",
    "\n",
    "Y99_non_graduates_income_anderson = stats.anderson(Y99_non_graduates_income['total_income'].to_numpy())\n",
    "\n",
    "anderson(Y99_non_graduates_income_anderson)\n",
    "\n",
    "u_statistic, p_value = mannwhitneyu(Y99_graduates_income['total_income'], Y99_non_graduates_income['total_income'],\n",
    "                                    alternative='two-sided')\n",
    "\n",
    "print(f\"U-statistic: {u_statistic} {p_value}\")\n",
    "print(\n",
    "    f\"P-value: {p_value} so there's {'no' if p_value > ALPHA else 'an'} evidence about that graduated people earn more\")"
   ]
  },
  {
   "cell_type": "code",
   "execution_count": 20,
   "id": "9e39bb61b0919806",
   "metadata": {
    "ExecuteTime": {
     "end_time": "2024-09-19T19:24:51.228451Z",
     "start_time": "2024-09-19T19:24:51.163740Z"
    }
   },
   "outputs": [
    {
     "name": "stdout",
     "output_type": "stream",
     "text": [
      "Statistic: 1063.9297403523815\n",
      "Critical Values: [0.576 0.656 0.787 0.918 1.092]\n",
      "Significance Levels: [15.  10.   5.   2.5  1. ]\n",
      "At the 15.0% significance level, data is NOT normal.\n",
      "At the 10.0% significance level, data is NOT normal.\n",
      "At the 5.0% significance level, data is NOT normal.\n",
      "At the 2.5% significance level, data is NOT normal.\n",
      "At the 1.0% significance level, data is NOT normal.\n",
      "Statistic: 1063.9297403523815\n",
      "Critical Values: [0.576 0.656 0.787 0.918 1.092]\n",
      "Significance Levels: [15.  10.   5.   2.5  1. ]\n",
      "At the 15.0% significance level, data is NOT normal.\n",
      "At the 10.0% significance level, data is NOT normal.\n",
      "At the 5.0% significance level, data is NOT normal.\n",
      "At the 2.5% significance level, data is NOT normal.\n",
      "At the 1.0% significance level, data is NOT normal.\n"
     ]
    }
   ],
   "source": [
    "Y99_graduates_income_yeojohnson = stats.yeojohnson(Y99_graduates_income['total_income'])\n",
    "Y99_non_graduates_income_yeojohnson = stats.yeojohnson(Y99_graduates_income['total_income'])\n",
    "\n",
    "Y99_non_graduates_income_anderson = stats.anderson(Y99_graduates_income_yeojohnson[0])\n",
    "Y99_non_graduates_income_yeojohnson = stats.anderson(Y99_non_graduates_income_yeojohnson[0])\n",
    "\n",
    "anderson(Y99_non_graduates_income_anderson)\n",
    "anderson(Y99_non_graduates_income_yeojohnson)"
   ]
  },
  {
   "cell_type": "markdown",
   "id": "0d8fc415-adcc-465a-8ad7-eed006e11f39",
   "metadata": {},
   "source": [
    "تفاوت معناداری بین مجموع درآمد سالانه افرادی که به دانشگاه رفته‌اند و افرادی که به دانشگاه نرفته‌اند وجود دارد"
   ]
  },
  {
   "cell_type": "markdown",
   "id": "a0b1e1d4f9fe3139",
   "metadata": {},
   "source": [
    "# 1400"
   ]
  },
  {
   "cell_type": "code",
   "execution_count": 21,
   "id": "59e74fbf6e2fedb4",
   "metadata": {
    "ExecuteTime": {
     "end_time": "2024-09-18T07:31:41.796968Z",
     "start_time": "2024-09-18T07:31:28.254818Z"
    }
   },
   "outputs": [],
   "source": [
    "U1400P1 = pd.read_excel('../datasets/U1400.xlsx', sheet_name='U1400P1')\n",
    "U1400P4S01 = pd.read_excel('../datasets/U1400.xlsx', sheet_name='U1400P4S01')\n",
    "U1400P4S02 = pd.read_excel('../datasets/U1400.xlsx', sheet_name='U1400P4S02')\n",
    "U1400P4S03 = pd.read_excel('../datasets/U1400.xlsx', sheet_name='U1400P4S03')\n",
    "U1400P4S04 = pd.read_excel('../datasets/U1400.xlsx', sheet_name='U1400P4S04')\n",
    "\n",
    "R1400P1 = pd.read_excel('../datasets/R1400.xlsx', sheet_name='R1400P1')\n",
    "R1400P4S01 = pd.read_excel('../datasets/R1400.xlsx', sheet_name='R1400P4S01')\n",
    "R1400P4S02 = pd.read_excel('../datasets/R1400.xlsx', sheet_name='R1400P4S02')\n",
    "R1400P4S03 = pd.read_excel('../datasets/R1400.xlsx', sheet_name='R1400P4S03')\n",
    "R1400P4S04 = pd.read_excel('../datasets/R1400.xlsx', sheet_name='R1400P4S04')"
   ]
  },
  {
   "cell_type": "code",
   "execution_count": 22,
   "id": "6198e388-baab-4505-894b-5a4f03e909a2",
   "metadata": {},
   "outputs": [
    {
     "name": "stdout",
     "output_type": "stream",
     "text": [
      "Number of graduates in urban: 16059\n",
      "Number of non-graduates in urban: 45754\n"
     ]
    }
   ],
   "source": [
    "Y1400P1 = pd.concat([U1400P1, R1400P1])\n",
    "Y1400P4S01 = pd.concat([U1400P4S01, R1400P4S01])\n",
    "Y1400P4S02 = pd.concat([U1400P4S02, R1400P4S02])\n",
    "Y1400P4S03 = pd.concat([U1400P4S03, R1400P4S03])\n",
    "Y1400P4S04 = pd.concat([U1400P4S04, R1400P4S04])\n",
    "\n",
    "Y1400P1['degree'] = Y1400P1['degree'].str.lower()\n",
    "\n",
    "Y1400P1['degree'].value_counts()\n",
    "\n",
    "Y1400_graduates = Y1400P1[Y1400P1['degree'].isin(['phd', 'master', 'bachelor', 'college'])]\n",
    "Y1400_non_graduates = Y1400P1[Y1400P1['degree'].isin(['elementary', 'diploma', 'secondary', 'highschool'])]\n",
    "\n",
    "print(f\"Number of graduates in urban: {Y1400_graduates.shape[0]}\")\n",
    "print(f\"Number of non-graduates in urban: {Y1400_non_graduates.shape[0]}\")"
   ]
  },
  {
   "cell_type": "code",
   "execution_count": 23,
   "id": "e971ed0a-feca-4598-abdc-25b7d764c0aa",
   "metadata": {},
   "outputs": [],
   "source": [
    "Y1400P4S01 = Y1400P4S01[['Address', 'netincome_w_y', 'perk_w_y', 'wage_w_y']]\n",
    "Y1400P4S02 = Y1400P4S02[['Address', 'income_s_y']]\n",
    "Y1400P4S03 = Y1400P4S03[\n",
    "    ['Address', 'income_pension', 'income_rent', 'income_interest', 'income_aid', 'income_resale', 'income_transfer']]\n",
    "Y1400P4S04 = Y1400P4S04[['Address', 'subsidy']]\n",
    "\n",
    "Y1400_incomes = pd.merge(left=Y1400P4S01, right=Y1400P4S02, on='Address', how='outer')\n",
    "Y1400_incomes = pd.merge(left=Y1400_incomes, right=Y1400P4S03, on='Address', how='outer')\n",
    "Y1400_incomes = pd.merge(left=Y1400_incomes, right=Y1400P4S04, on='Address', how='outer')"
   ]
  },
  {
   "cell_type": "code",
   "execution_count": 24,
   "id": "ff3325eb-08b1-4e74-9458-08e46c5fc802",
   "metadata": {},
   "outputs": [],
   "source": [
    "Y1400_incomes[cols_to_sum] = Y1400_incomes[cols_to_sum].apply(pd.to_numeric, errors='coerce')\n",
    "Y1400_incomes = Y1400_incomes.dropna(thresh=Y1400_incomes.shape[1] - 10)\n",
    "Y1400_incomes = Y1400_incomes.fillna(0)\n",
    "\n",
    "Y1400_graduates_income = pd.merge(left=Y1400_graduates, right=Y1400_incomes, on='Address', how='inner')\n",
    "Y1400_non_graduates_income = pd.merge(left=Y1400_non_graduates, right=Y1400_incomes, on='Address', how='inner')\n",
    "\n",
    "Y1400_graduates_income['total_income'] = Y1400_graduates_income[cols_to_sum].sum(axis=1)\n",
    "Y1400_non_graduates_income['total_income'] = Y1400_non_graduates_income[cols_to_sum].sum(axis=1)"
   ]
  },
  {
   "cell_type": "code",
   "execution_count": 25,
   "id": "b00416bb-dea7-409d-a83c-11641b61c4f4",
   "metadata": {},
   "outputs": [],
   "source": [
    "Y1400_graduates_income_mean = Y1400_graduates_income['total_income'].mean()"
   ]
  },
  {
   "cell_type": "code",
   "execution_count": 26,
   "id": "e2b0ce86-cabf-4179-a9ee-562777bc88f7",
   "metadata": {},
   "outputs": [],
   "source": [
    "Y1400_non_graduates_income_mean = Y1400_non_graduates_income['total_income'].mean()"
   ]
  },
  {
   "cell_type": "code",
   "execution_count": 27,
   "id": "4603763a-35e6-4080-a3ff-e1a1d26d4ee0",
   "metadata": {},
   "outputs": [
    {
     "name": "stdout",
     "output_type": "stream",
     "text": [
      "Difference between average: 256,663,772.88\n"
     ]
    }
   ],
   "source": [
    "print(f\"Difference between average: {Y1400_graduates_income_mean - Y1400_non_graduates_income_mean:,.2f}\")"
   ]
  },
  {
   "cell_type": "code",
   "execution_count": 28,
   "id": "7fd9fcab-b043-4bd7-bc63-3bec4e5f449a",
   "metadata": {},
   "outputs": [
    {
     "name": "stdout",
     "output_type": "stream",
     "text": [
      "Statistic: 976.2589569093834\n",
      "Critical Values: [0.576 0.656 0.787 0.918 1.092]\n",
      "Significance Levels: [15.  10.   5.   2.5  1. ]\n",
      "At the 15.0% significance level, data is NOT normal.\n",
      "At the 10.0% significance level, data is NOT normal.\n",
      "At the 5.0% significance level, data is NOT normal.\n",
      "At the 2.5% significance level, data is NOT normal.\n",
      "At the 1.0% significance level, data is NOT normal.\n",
      "Statistic: 4659.831442217517\n",
      "Critical Values: [0.576 0.656 0.787 0.918 1.092]\n",
      "Significance Levels: [15.  10.   5.   2.5  1. ]\n",
      "At the 15.0% significance level, data is NOT normal.\n",
      "At the 10.0% significance level, data is NOT normal.\n",
      "At the 5.0% significance level, data is NOT normal.\n",
      "At the 2.5% significance level, data is NOT normal.\n",
      "At the 1.0% significance level, data is NOT normal.\n",
      "U-statistic: 7038374891.5 0.0\n",
      "P-value: 0.0 so there's an evidence about that graduated people earn more\n"
     ]
    }
   ],
   "source": [
    "Y1400_graduates_income.drop(['degree'], axis=1, inplace=True)\n",
    "Y1400_non_graduates_income.drop(['degree'], axis=1, inplace=True)\n",
    "\n",
    "Y1400_graduates_income_anderson = stats.anderson(Y1400_graduates_income['total_income'].to_numpy())\n",
    "\n",
    "anderson(Y1400_graduates_income_anderson)\n",
    "\n",
    "Y1400_non_graduates_income_anderson = stats.anderson(Y1400_non_graduates_income['total_income'].to_numpy())\n",
    "\n",
    "anderson(Y1400_non_graduates_income_anderson)\n",
    "\n",
    "u_statistic, p_value = mannwhitneyu(Y1400_graduates_income['total_income'], Y1400_non_graduates_income['total_income'],\n",
    "                                    alternative='two-sided')\n",
    "\n",
    "print(f\"U-statistic: {u_statistic} {p_value}\")\n",
    "print(\n",
    "    f\"P-value: {p_value} so there's {'no' if p_value > ALPHA else 'an'} evidence about that graduated people earn more\")"
   ]
  },
  {
   "cell_type": "code",
   "execution_count": 29,
   "id": "c45c07183e3fa17f",
   "metadata": {
    "ExecuteTime": {
     "end_time": "2024-09-18T07:31:42.059126Z",
     "start_time": "2024-09-18T07:31:41.798204Z"
    }
   },
   "outputs": [
    {
     "name": "stdout",
     "output_type": "stream",
     "text": [
      "Statistic: 750.5437257745943\n",
      "Critical Values: [0.576 0.656 0.787 0.918 1.092]\n",
      "Significance Levels: [15.  10.   5.   2.5  1. ]\n",
      "At the 15.0% significance level, data is NOT normal.\n",
      "At the 10.0% significance level, data is NOT normal.\n",
      "At the 5.0% significance level, data is NOT normal.\n",
      "At the 2.5% significance level, data is NOT normal.\n",
      "At the 1.0% significance level, data is NOT normal.\n",
      "Statistic: 750.5437257745943\n",
      "Critical Values: [0.576 0.656 0.787 0.918 1.092]\n",
      "Significance Levels: [15.  10.   5.   2.5  1. ]\n",
      "At the 15.0% significance level, data is NOT normal.\n",
      "At the 10.0% significance level, data is NOT normal.\n",
      "At the 5.0% significance level, data is NOT normal.\n",
      "At the 2.5% significance level, data is NOT normal.\n",
      "At the 1.0% significance level, data is NOT normal.\n"
     ]
    }
   ],
   "source": [
    "Y1400_graduates_income_yeojohnson = stats.yeojohnson(Y1400_graduates_income['total_income'])\n",
    "Y1400_non_graduates_income_yeojohnson = stats.yeojohnson(Y1400_graduates_income['total_income'])\n",
    "\n",
    "Y1400_non_graduates_income_anderson = stats.anderson(Y1400_graduates_income_yeojohnson[0])\n",
    "Y1400_non_graduates_income_yeojohnson = stats.anderson(Y1400_non_graduates_income_yeojohnson[0])\n",
    "\n",
    "anderson(Y1400_non_graduates_income_anderson)\n",
    "anderson(Y1400_non_graduates_income_yeojohnson)"
   ]
  },
  {
   "cell_type": "markdown",
   "id": "23c2eee8-44d8-4393-a473-a0e6204e99fe",
   "metadata": {},
   "source": [
    "تفاوت معناداری بین مجموع درآمد سالانه افرادی که به دانشگاه رفته‌اند و افرادی که به دانشگاه نرفته‌اند وجود دارد"
   ]
  },
  {
   "cell_type": "markdown",
   "id": "ba505d31b92698cd",
   "metadata": {},
   "source": [
    "# 1401"
   ]
  },
  {
   "cell_type": "code",
   "execution_count": 30,
   "id": "ed359f4de281b7c0",
   "metadata": {
    "ExecuteTime": {
     "end_time": "2024-09-18T07:31:56.001703Z",
     "start_time": "2024-09-18T07:31:42.059892Z"
    }
   },
   "outputs": [],
   "source": [
    "U1401P1 = pd.read_excel('../datasets/U1401.xlsx', sheet_name='U1401P1')\n",
    "U1401P4S01 = pd.read_excel('../datasets/U1401.xlsx', sheet_name='U1401P4S01')\n",
    "U1401P4S02 = pd.read_excel('../datasets/U1401.xlsx', sheet_name='U1401P4S02')\n",
    "U1401P4S03 = pd.read_excel('../datasets/U1401.xlsx', sheet_name='U1401P4S03')\n",
    "U1401P4S04 = pd.read_excel('../datasets/U1401.xlsx', sheet_name='U1401P4S04')\n",
    "\n",
    "R1401P1 = pd.read_excel('../datasets/R1401.xlsx', sheet_name='R1401P1')\n",
    "R1401P4S01 = pd.read_excel('../datasets/R1401.xlsx', sheet_name='R1401P4S01')\n",
    "R1401P4S02 = pd.read_excel('../datasets/R1401.xlsx', sheet_name='R1401P4S02')\n",
    "R1401P4S03 = pd.read_excel('../datasets/R1401.xlsx', sheet_name='R1401P4S03')\n",
    "R1401P4S04 = pd.read_excel('../datasets/R1401.xlsx', sheet_name='R1401P4S04')"
   ]
  },
  {
   "cell_type": "code",
   "execution_count": 31,
   "id": "bb827dfb7515138a",
   "metadata": {
    "ExecuteTime": {
     "end_time": "2024-09-18T07:31:56.010988Z",
     "start_time": "2024-09-18T07:31:56.003241Z"
    }
   },
   "outputs": [
    {
     "data": {
      "text/plain": [
       "degree\n",
       "elemantry     38023\n",
       "secondary     20466\n",
       "diploma       19428\n",
       "bachelor      10142\n",
       "highschool     5912\n",
       "college        3247\n",
       "master         2104\n",
       "other           370\n",
       "phd             141\n",
       "Name: count, dtype: int64"
      ]
     },
     "execution_count": 31,
     "metadata": {},
     "output_type": "execute_result"
    }
   ],
   "source": [
    "Y1401P1 = pd.concat([U1401P1, R1401P1])\n",
    "Y1401P4S01 = pd.concat([U1401P4S01, R1401P4S01])\n",
    "Y1401P4S02 = pd.concat([U1401P4S02, R1401P4S02])\n",
    "Y1401P4S03 = pd.concat([U1401P4S03, R1401P4S03])\n",
    "Y1401P4S04 = pd.concat([U1401P4S04, R1401P4S04])\n",
    "\n",
    "Y1401P1['degree'] = Y1401P1['degree'].str.lower()\n",
    "\n",
    "Y1401P1['degree'].value_counts()"
   ]
  },
  {
   "cell_type": "code",
   "execution_count": 32,
   "id": "e91445a157414def",
   "metadata": {
    "ExecuteTime": {
     "end_time": "2024-09-18T07:31:56.054901Z",
     "start_time": "2024-09-18T07:31:56.038090Z"
    }
   },
   "outputs": [
    {
     "name": "stdout",
     "output_type": "stream",
     "text": [
      "Number of graduates in urban: 15634\n",
      "Number of non-graduates in urban: 45806\n"
     ]
    }
   ],
   "source": [
    "Y1401_graduates = Y1401P1[Y1401P1['degree'].isin(['phd', 'master', 'bachelor', 'college'])]\n",
    "Y1401_non_graduates = Y1401P1[Y1401P1['degree'].isin(['elementary', 'diploma', 'secondary', 'highschool'])]\n",
    "\n",
    "print(f\"Number of graduates in urban: {Y1401_graduates.shape[0]}\")\n",
    "print(f\"Number of non-graduates in urban: {Y1401_non_graduates.shape[0]}\")\n",
    "\n",
    "Y1401_graduates = Y1401_graduates[['Address', 'degree']]\n",
    "Y1401_non_graduates = Y1401_non_graduates[['Address', 'degree']]"
   ]
  },
  {
   "cell_type": "code",
   "execution_count": 33,
   "id": "448d9649a6d8c22c",
   "metadata": {
    "ExecuteTime": {
     "end_time": "2024-09-18T07:31:56.088337Z",
     "start_time": "2024-09-18T07:31:56.079032Z"
    }
   },
   "outputs": [],
   "source": [
    "Y1401P4S01 = Y1401P4S01[['Address', 'netincome_w_y', 'perk_w_y', 'wage_w_y']]\n",
    "Y1401P4S02 = Y1401P4S02[['Address', 'income_s_y']]\n",
    "Y1401P4S03 = Y1401P4S03[\n",
    "    ['Address', 'income_pension', 'income_rent', 'income_interest', 'income_aid', 'income_resale', 'income_transfer']]\n",
    "Y1401P4S04 = Y1401P4S04[['Address', 'subsidy']]\n",
    "\n",
    "Y1401_incomes = pd.merge(left=Y1401P4S01, right=Y1401P4S02, on='Address', how='outer')\n",
    "Y1401_incomes = pd.merge(left=Y1401_incomes, right=Y1401P4S03, on='Address', how='outer')\n",
    "Y1401_incomes = pd.merge(left=Y1401_incomes, right=Y1401P4S04, on='Address', how='outer')\n",
    "\n",
    "Y1401_incomes[cols_to_sum] = Y1401_incomes[cols_to_sum].apply(pd.to_numeric, errors='coerce')\n",
    "Y1401_incomes = Y1401_incomes.dropna(thresh=Y1401_incomes.shape[1] - 10)\n",
    "Y1401_incomes = Y1401_incomes.fillna(0)\n",
    "\n",
    "Y1401_graduates_income = pd.merge(left=Y1401_graduates, right=Y1401_incomes, on='Address', how='inner')\n",
    "Y1401_non_graduates_income = pd.merge(left=Y1401_non_graduates, right=Y1401_incomes, on='Address', how='inner')\n",
    "\n",
    "Y1401_graduates_income['total_income'] = Y1401_graduates_income[cols_to_sum].sum(axis=1)\n",
    "Y1401_non_graduates_income['total_income'] = Y1401_non_graduates_income[cols_to_sum].sum(axis=1)"
   ]
  },
  {
   "cell_type": "code",
   "execution_count": 34,
   "id": "7d65d1f480873e10",
   "metadata": {
    "ExecuteTime": {
     "end_time": "2024-09-18T07:31:56.264729Z",
     "start_time": "2024-09-18T07:31:56.256085Z"
    }
   },
   "outputs": [],
   "source": [
    "Y1401_graduates_income_mean = Y1401_graduates_income['total_income'].mean()"
   ]
  },
  {
   "cell_type": "code",
   "execution_count": 35,
   "id": "a42e5f82b2c9a792",
   "metadata": {
    "ExecuteTime": {
     "end_time": "2024-09-18T07:31:56.273677Z",
     "start_time": "2024-09-18T07:31:56.265196Z"
    }
   },
   "outputs": [],
   "source": [
    "Y1401_non_graduates_income_mean = Y1401_non_graduates_income['total_income'].mean()"
   ]
  },
  {
   "cell_type": "code",
   "execution_count": 36,
   "id": "a58ca45e972116a8",
   "metadata": {
    "ExecuteTime": {
     "end_time": "2024-09-18T07:31:56.281932Z",
     "start_time": "2024-09-18T07:31:56.274236Z"
    }
   },
   "outputs": [
    {
     "name": "stdout",
     "output_type": "stream",
     "text": [
      "345,311,085.48\n"
     ]
    }
   ],
   "source": [
    "print(f\"{Y1401_graduates_income_mean - Y1401_non_graduates_income_mean:,.2f}\")"
   ]
  },
  {
   "cell_type": "code",
   "execution_count": 37,
   "id": "d48243210d1c2dde",
   "metadata": {
    "ExecuteTime": {
     "end_time": "2024-09-18T07:31:56.305377Z",
     "start_time": "2024-09-18T07:31:56.300258Z"
    }
   },
   "outputs": [
    {
     "name": "stdout",
     "output_type": "stream",
     "text": [
      "Statistic: 1257.8587521749942\n",
      "Critical Values: [0.576 0.656 0.787 0.918 1.092]\n",
      "Significance Levels: [15.  10.   5.   2.5  1. ]\n",
      "At the 15.0% significance level, data is NOT normal.\n",
      "At the 10.0% significance level, data is NOT normal.\n",
      "At the 5.0% significance level, data is NOT normal.\n",
      "At the 2.5% significance level, data is NOT normal.\n",
      "At the 1.0% significance level, data is NOT normal.\n",
      "Statistic: 4255.60946428898\n",
      "Critical Values: [0.576 0.656 0.787 0.918 1.092]\n",
      "Significance Levels: [15.  10.   5.   2.5  1. ]\n",
      "At the 15.0% significance level, data is NOT normal.\n",
      "At the 10.0% significance level, data is NOT normal.\n",
      "At the 5.0% significance level, data is NOT normal.\n",
      "At the 2.5% significance level, data is NOT normal.\n",
      "At the 1.0% significance level, data is NOT normal.\n",
      "U-statistic: 6852695537.0 0.0\n",
      "P-value: 0.0 so there's an evidence about that graduated people earn more\n"
     ]
    }
   ],
   "source": [
    "Y1401_graduates_income.drop(['degree'], axis=1, inplace=True)\n",
    "Y1401_non_graduates_income.drop(['degree'], axis=1, inplace=True)\n",
    "Y1401_graduates_income_anderson = stats.anderson(Y1401_graduates_income['total_income'].to_numpy())\n",
    "\n",
    "anderson(Y1401_graduates_income_anderson)\n",
    "\n",
    "Y1401_non_graduates_income_anderson = stats.anderson(Y1401_non_graduates_income['total_income'].to_numpy())\n",
    "\n",
    "anderson(Y1401_non_graduates_income_anderson)\n",
    "\n",
    "u_statistic, p_value = mannwhitneyu(Y1401_graduates_income['total_income'], Y1401_non_graduates_income['total_income'],\n",
    "                                    alternative='two-sided')\n",
    "\n",
    "print(f\"U-statistic: {u_statistic} {p_value}\")\n",
    "print(\n",
    "    f\"P-value: {p_value} so there's {'no' if p_value > ALPHA else 'an'} evidence about that graduated people earn more\")"
   ]
  },
  {
   "cell_type": "code",
   "execution_count": 38,
   "id": "d9508a8b8fe0a531",
   "metadata": {
    "ExecuteTime": {
     "end_time": "2024-09-18T07:31:56.427791Z",
     "start_time": "2024-09-18T07:31:56.345438Z"
    }
   },
   "outputs": [
    {
     "name": "stdout",
     "output_type": "stream",
     "text": [
      "Statistic: 1252.7373921282488\n",
      "Critical Values: [0.576 0.656 0.787 0.918 1.092]\n",
      "Significance Levels: [15.  10.   5.   2.5  1. ]\n",
      "At the 15.0% significance level, data is NOT normal.\n",
      "At the 10.0% significance level, data is NOT normal.\n",
      "At the 5.0% significance level, data is NOT normal.\n",
      "At the 2.5% significance level, data is NOT normal.\n",
      "At the 1.0% significance level, data is NOT normal.\n",
      "Statistic: 1252.7373921282488\n",
      "Critical Values: [0.576 0.656 0.787 0.918 1.092]\n",
      "Significance Levels: [15.  10.   5.   2.5  1. ]\n",
      "At the 15.0% significance level, data is NOT normal.\n",
      "At the 10.0% significance level, data is NOT normal.\n",
      "At the 5.0% significance level, data is NOT normal.\n",
      "At the 2.5% significance level, data is NOT normal.\n",
      "At the 1.0% significance level, data is NOT normal.\n"
     ]
    }
   ],
   "source": [
    "Y1401_graduates_income_yeojohnson = stats.yeojohnson(Y1401_graduates_income['total_income'])\n",
    "Y1401_non_graduates_income_yeojohnson = stats.yeojohnson(Y1401_graduates_income['total_income'])\n",
    "\n",
    "Y1401_non_graduates_income_anderson = stats.anderson(Y1401_graduates_income_yeojohnson[0])\n",
    "Y1401_non_graduates_income_yeojohnson = stats.anderson(Y1401_non_graduates_income_yeojohnson[0])\n",
    "\n",
    "anderson(Y1401_non_graduates_income_anderson)\n",
    "anderson(Y1401_non_graduates_income_yeojohnson)"
   ]
  },
  {
   "cell_type": "markdown",
   "id": "0335b276-d139-49d0-8f7b-c251c9f95425",
   "metadata": {},
   "source": [
    "تفاوت معناداری بین مجموع درآمد سالانه افرادی که به دانشگاه رفته‌اند و افرادی که به دانشگاه نرفته‌اند وجود دارد"
   ]
  },
  {
   "cell_type": "markdown",
   "id": "f0067f05a43d20fa",
   "metadata": {},
   "source": [
    "# All Years"
   ]
  },
  {
   "cell_type": "code",
   "execution_count": 39,
   "id": "bc0f67d4-a897-4f0e-a5b6-74ffbc28d878",
   "metadata": {},
   "outputs": [
    {
     "name": "stdout",
     "output_type": "stream",
     "text": [
      "Number of graduates in urban: 62939\n",
      "Number of non-graduates in urban: 181518\n"
     ]
    },
    {
     "data": {
      "text/html": [
       "<div>\n",
       "<style scoped>\n",
       "    .dataframe tbody tr th:only-of-type {\n",
       "        vertical-align: middle;\n",
       "    }\n",
       "\n",
       "    .dataframe tbody tr th {\n",
       "        vertical-align: top;\n",
       "    }\n",
       "\n",
       "    .dataframe thead th {\n",
       "        text-align: right;\n",
       "    }\n",
       "</style>\n",
       "<table border=\"1\" class=\"dataframe\">\n",
       "  <thead>\n",
       "    <tr style=\"text-align: right;\">\n",
       "      <th></th>\n",
       "      <th>Address</th>\n",
       "      <th>member</th>\n",
       "      <th>relation</th>\n",
       "      <th>gender</th>\n",
       "      <th>age</th>\n",
       "      <th>literacy</th>\n",
       "      <th>studying</th>\n",
       "      <th>degree</th>\n",
       "      <th>occupationalst</th>\n",
       "      <th>maritalst</th>\n",
       "    </tr>\n",
       "  </thead>\n",
       "  <tbody>\n",
       "    <tr>\n",
       "      <th>1</th>\n",
       "      <td>10004004223</td>\n",
       "      <td>2</td>\n",
       "      <td>Spouse</td>\n",
       "      <td>Female</td>\n",
       "      <td>61</td>\n",
       "      <td>literate</td>\n",
       "      <td>No</td>\n",
       "      <td>college</td>\n",
       "      <td>IncomeWOJob</td>\n",
       "      <td>Married</td>\n",
       "    </tr>\n",
       "    <tr>\n",
       "      <th>8</th>\n",
       "      <td>10009008108</td>\n",
       "      <td>3</td>\n",
       "      <td>Child</td>\n",
       "      <td>Male</td>\n",
       "      <td>34</td>\n",
       "      <td>literate</td>\n",
       "      <td>No</td>\n",
       "      <td>master</td>\n",
       "      <td>employed</td>\n",
       "      <td>Single</td>\n",
       "    </tr>\n",
       "    <tr>\n",
       "      <th>9</th>\n",
       "      <td>10009008108</td>\n",
       "      <td>4</td>\n",
       "      <td>Child</td>\n",
       "      <td>Female</td>\n",
       "      <td>27</td>\n",
       "      <td>literate</td>\n",
       "      <td>Yes</td>\n",
       "      <td>master</td>\n",
       "      <td>unemployed</td>\n",
       "      <td>Single</td>\n",
       "    </tr>\n",
       "    <tr>\n",
       "      <th>12</th>\n",
       "      <td>10009008117</td>\n",
       "      <td>3</td>\n",
       "      <td>Child</td>\n",
       "      <td>Male</td>\n",
       "      <td>21</td>\n",
       "      <td>literate</td>\n",
       "      <td>No</td>\n",
       "      <td>college</td>\n",
       "      <td>unemployed</td>\n",
       "      <td>Single</td>\n",
       "    </tr>\n",
       "    <tr>\n",
       "      <th>19</th>\n",
       "      <td>10006005516</td>\n",
       "      <td>1</td>\n",
       "      <td>Head</td>\n",
       "      <td>Male</td>\n",
       "      <td>58</td>\n",
       "      <td>literate</td>\n",
       "      <td>No</td>\n",
       "      <td>bachelor</td>\n",
       "      <td>IncomeWOJob</td>\n",
       "      <td>Married</td>\n",
       "    </tr>\n",
       "    <tr>\n",
       "      <th>...</th>\n",
       "      <td>...</td>\n",
       "      <td>...</td>\n",
       "      <td>...</td>\n",
       "      <td>...</td>\n",
       "      <td>...</td>\n",
       "      <td>...</td>\n",
       "      <td>...</td>\n",
       "      <td>...</td>\n",
       "      <td>...</td>\n",
       "      <td>...</td>\n",
       "    </tr>\n",
       "    <tr>\n",
       "      <th>61712</th>\n",
       "      <td>21702575438</td>\n",
       "      <td>3</td>\n",
       "      <td>Child</td>\n",
       "      <td>Female</td>\n",
       "      <td>21</td>\n",
       "      <td>literate</td>\n",
       "      <td>Yes</td>\n",
       "      <td>bachelor</td>\n",
       "      <td>Student</td>\n",
       "      <td>Single</td>\n",
       "    </tr>\n",
       "    <tr>\n",
       "      <th>61716</th>\n",
       "      <td>21702575441</td>\n",
       "      <td>2</td>\n",
       "      <td>Spouse</td>\n",
       "      <td>Female</td>\n",
       "      <td>43</td>\n",
       "      <td>literate</td>\n",
       "      <td>No</td>\n",
       "      <td>college</td>\n",
       "      <td>employed</td>\n",
       "      <td>Married</td>\n",
       "    </tr>\n",
       "    <tr>\n",
       "      <th>61717</th>\n",
       "      <td>21702575441</td>\n",
       "      <td>3</td>\n",
       "      <td>Child</td>\n",
       "      <td>Female</td>\n",
       "      <td>19</td>\n",
       "      <td>literate</td>\n",
       "      <td>Yes</td>\n",
       "      <td>college</td>\n",
       "      <td>Student</td>\n",
       "      <td>Single</td>\n",
       "    </tr>\n",
       "    <tr>\n",
       "      <th>61725</th>\n",
       "      <td>21702575829</td>\n",
       "      <td>1</td>\n",
       "      <td>Head</td>\n",
       "      <td>Male</td>\n",
       "      <td>48</td>\n",
       "      <td>literate</td>\n",
       "      <td>No</td>\n",
       "      <td>bachelor</td>\n",
       "      <td>employed</td>\n",
       "      <td>Married</td>\n",
       "    </tr>\n",
       "    <tr>\n",
       "      <th>61729</th>\n",
       "      <td>21702575832</td>\n",
       "      <td>1</td>\n",
       "      <td>Head</td>\n",
       "      <td>Male</td>\n",
       "      <td>47</td>\n",
       "      <td>literate</td>\n",
       "      <td>No</td>\n",
       "      <td>bachelor</td>\n",
       "      <td>employed</td>\n",
       "      <td>Married</td>\n",
       "    </tr>\n",
       "  </tbody>\n",
       "</table>\n",
       "<p>62939 rows × 10 columns</p>\n",
       "</div>"
      ],
      "text/plain": [
       "           Address  member relation  gender  age  literacy studying    degree  \\\n",
       "1      10004004223       2   Spouse  Female   61  literate       No   college   \n",
       "8      10009008108       3    Child    Male   34  literate       No    master   \n",
       "9      10009008108       4    Child  Female   27  literate      Yes    master   \n",
       "12     10009008117       3    Child    Male   21  literate       No   college   \n",
       "19     10006005516       1     Head    Male   58  literate       No  bachelor   \n",
       "...            ...     ...      ...     ...  ...       ...      ...       ...   \n",
       "61712  21702575438       3    Child  Female   21  literate      Yes  bachelor   \n",
       "61716  21702575441       2   Spouse  Female   43  literate       No   college   \n",
       "61717  21702575441       3    Child  Female   19  literate      Yes   college   \n",
       "61725  21702575829       1     Head    Male   48  literate       No  bachelor   \n",
       "61729  21702575832       1     Head    Male   47  literate       No  bachelor   \n",
       "\n",
       "      occupationalst maritalst  \n",
       "1        IncomeWOJob   Married  \n",
       "8           employed    Single  \n",
       "9         unemployed    Single  \n",
       "12        unemployed    Single  \n",
       "19       IncomeWOJob   Married  \n",
       "...              ...       ...  \n",
       "61712        Student    Single  \n",
       "61716       employed   Married  \n",
       "61717        Student    Single  \n",
       "61725       employed   Married  \n",
       "61729       employed   Married  \n",
       "\n",
       "[62939 rows x 10 columns]"
      ]
     },
     "execution_count": 39,
     "metadata": {},
     "output_type": "execute_result"
    }
   ],
   "source": [
    "AP1 = pd.concat([U98P1, R98P1, U99P1, R99P1, U1400P1, R1400P1, U1401P1, R1401P1])\n",
    "AP4S01 = pd.concat([U98P4S01, R98P4S01, U99P4S01, R99P4S01, U1400P4S01, R1400P4S01, U1401P4S01, R1401P4S01])\n",
    "AP4S02 = pd.concat([U98P4S02, R98P4S02, U99P4S02, R99P4S02, U1400P4S02, R1400P4S02, U1401P4S02, R1401P4S02])\n",
    "AP4S03 = pd.concat([U98P4S03, R98P4S03, U99P4S03, R99P4S03, U1400P4S03, R1400P4S03, U1401P4S03, R1401P4S03])\n",
    "AP4S04 = pd.concat([U98P4S04, R98P4S04, U99P4S04, R99P4S04, U1400P4S04, R1400P4S04, U1401P4S04, R1401P4S04])\n",
    "\n",
    "AP1['degree'] = AP1['degree'].str.lower()\n",
    "\n",
    "AP1['degree'].value_counts()\n",
    "\n",
    "A_graduates = AP1[AP1['degree'].isin(['phd', 'master', 'bachelor', 'college'])]\n",
    "A_non_graduates = AP1[AP1['degree'].isin(['elementary', 'diploma', 'secondary', 'highschool'])]\n",
    "\n",
    "print(f\"Number of graduates in urban: {A_graduates.shape[0]}\")\n",
    "print(f\"Number of non-graduates in urban: {A_non_graduates.shape[0]}\")\n",
    "\n",
    "A_graduates"
   ]
  },
  {
   "cell_type": "code",
   "execution_count": 40,
   "id": "4a8a6797-9da0-4d12-9f1a-959654403979",
   "metadata": {},
   "outputs": [
    {
     "data": {
      "text/html": [
       "<div>\n",
       "<style scoped>\n",
       "    .dataframe tbody tr th:only-of-type {\n",
       "        vertical-align: middle;\n",
       "    }\n",
       "\n",
       "    .dataframe tbody tr th {\n",
       "        vertical-align: top;\n",
       "    }\n",
       "\n",
       "    .dataframe thead th {\n",
       "        text-align: right;\n",
       "    }\n",
       "</style>\n",
       "<table border=\"1\" class=\"dataframe\">\n",
       "  <thead>\n",
       "    <tr style=\"text-align: right;\">\n",
       "      <th></th>\n",
       "      <th>Address</th>\n",
       "      <th>netincome_w_y</th>\n",
       "      <th>perk_w_y</th>\n",
       "      <th>wage_w_y</th>\n",
       "      <th>income_s_y</th>\n",
       "      <th>income_pension</th>\n",
       "      <th>income_rent</th>\n",
       "      <th>income_interest</th>\n",
       "      <th>income_aid</th>\n",
       "      <th>income_resale</th>\n",
       "      <th>income_transfer</th>\n",
       "      <th>subsidy</th>\n",
       "    </tr>\n",
       "  </thead>\n",
       "  <tbody>\n",
       "    <tr>\n",
       "      <th>0</th>\n",
       "      <td>10001000108</td>\n",
       "      <td>NaN</td>\n",
       "      <td>NaN</td>\n",
       "      <td>NaN</td>\n",
       "      <td>NaN</td>\n",
       "      <td>0392000000</td>\n",
       "      <td>NaN</td>\n",
       "      <td>NaN</td>\n",
       "      <td>NaN</td>\n",
       "      <td>NaN</td>\n",
       "      <td>NaN</td>\n",
       "      <td>27300000.0</td>\n",
       "    </tr>\n",
       "    <tr>\n",
       "      <th>1</th>\n",
       "      <td>10001000111</td>\n",
       "      <td>5.640000e+08</td>\n",
       "      <td>0.0</td>\n",
       "      <td>5.640000e+08</td>\n",
       "      <td>NaN</td>\n",
       "      <td>NaN</td>\n",
       "      <td>NaN</td>\n",
       "      <td>NaN</td>\n",
       "      <td>NaN</td>\n",
       "      <td>NaN</td>\n",
       "      <td>NaN</td>\n",
       "      <td>16380000.0</td>\n",
       "    </tr>\n",
       "    <tr>\n",
       "      <th>2</th>\n",
       "      <td>10001000113</td>\n",
       "      <td>2.400000e+08</td>\n",
       "      <td>0.0</td>\n",
       "      <td>2.400000e+08</td>\n",
       "      <td>NaN</td>\n",
       "      <td>0620000000</td>\n",
       "      <td>NaN</td>\n",
       "      <td>NaN</td>\n",
       "      <td>28000000.0</td>\n",
       "      <td>NaN</td>\n",
       "      <td>NaN</td>\n",
       "      <td>3010000.0</td>\n",
       "    </tr>\n",
       "    <tr>\n",
       "      <th>3</th>\n",
       "      <td>10001000113</td>\n",
       "      <td>2.400000e+08</td>\n",
       "      <td>0.0</td>\n",
       "      <td>2.400000e+08</td>\n",
       "      <td>NaN</td>\n",
       "      <td>0620000000</td>\n",
       "      <td>NaN</td>\n",
       "      <td>NaN</td>\n",
       "      <td>28000000.0</td>\n",
       "      <td>NaN</td>\n",
       "      <td>NaN</td>\n",
       "      <td>16380000.0</td>\n",
       "    </tr>\n",
       "    <tr>\n",
       "      <th>4</th>\n",
       "      <td>10001000114</td>\n",
       "      <td>NaN</td>\n",
       "      <td>NaN</td>\n",
       "      <td>NaN</td>\n",
       "      <td>NaN</td>\n",
       "      <td>0144000000</td>\n",
       "      <td>NaN</td>\n",
       "      <td>NaN</td>\n",
       "      <td>NaN</td>\n",
       "      <td>NaN</td>\n",
       "      <td>NaN</td>\n",
       "      <td>5460000.0</td>\n",
       "    </tr>\n",
       "    <tr>\n",
       "      <th>...</th>\n",
       "      <td>...</td>\n",
       "      <td>...</td>\n",
       "      <td>...</td>\n",
       "      <td>...</td>\n",
       "      <td>...</td>\n",
       "      <td>...</td>\n",
       "      <td>...</td>\n",
       "      <td>...</td>\n",
       "      <td>...</td>\n",
       "      <td>...</td>\n",
       "      <td>...</td>\n",
       "      <td>...</td>\n",
       "    </tr>\n",
       "    <tr>\n",
       "      <th>2060851</th>\n",
       "      <td>23006709829</td>\n",
       "      <td>NaN</td>\n",
       "      <td>NaN</td>\n",
       "      <td>NaN</td>\n",
       "      <td>300000000.0</td>\n",
       "      <td>0</td>\n",
       "      <td>0</td>\n",
       "      <td>0.0</td>\n",
       "      <td>24600000.0</td>\n",
       "      <td>0.0</td>\n",
       "      <td>0.0</td>\n",
       "      <td>27300000.0</td>\n",
       "    </tr>\n",
       "    <tr>\n",
       "      <th>2060852</th>\n",
       "      <td>23006709832</td>\n",
       "      <td>1.104400e+09</td>\n",
       "      <td>180000000.0</td>\n",
       "      <td>9.244000e+08</td>\n",
       "      <td>1170000000</td>\n",
       "      <td>0</td>\n",
       "      <td>540000000</td>\n",
       "      <td>0</td>\n",
       "      <td>96530000.0</td>\n",
       "      <td>0</td>\n",
       "      <td>0</td>\n",
       "      <td>1015000.0</td>\n",
       "    </tr>\n",
       "    <tr>\n",
       "      <th>2060853</th>\n",
       "      <td>23006709835</td>\n",
       "      <td>1.111400e+09</td>\n",
       "      <td>18000000.0</td>\n",
       "      <td>1.093400e+09</td>\n",
       "      <td>NaN</td>\n",
       "      <td>0</td>\n",
       "      <td>0</td>\n",
       "      <td>0</td>\n",
       "      <td>129530000.0</td>\n",
       "      <td>0</td>\n",
       "      <td>0</td>\n",
       "      <td>1015000.0</td>\n",
       "    </tr>\n",
       "    <tr>\n",
       "      <th>2060854</th>\n",
       "      <td>23006709838</td>\n",
       "      <td>NaN</td>\n",
       "      <td>NaN</td>\n",
       "      <td>NaN</td>\n",
       "      <td>NaN</td>\n",
       "      <td>0</td>\n",
       "      <td>0</td>\n",
       "      <td>0</td>\n",
       "      <td>100700000.0</td>\n",
       "      <td>0</td>\n",
       "      <td>200000000</td>\n",
       "      <td>105000.0</td>\n",
       "    </tr>\n",
       "    <tr>\n",
       "      <th>2060855</th>\n",
       "      <td>23006709841</td>\n",
       "      <td>NaN</td>\n",
       "      <td>NaN</td>\n",
       "      <td>NaN</td>\n",
       "      <td>NaN</td>\n",
       "      <td>702000000</td>\n",
       "      <td>0</td>\n",
       "      <td>0</td>\n",
       "      <td>40700000.0</td>\n",
       "      <td>0</td>\n",
       "      <td>0</td>\n",
       "      <td>105000.0</td>\n",
       "    </tr>\n",
       "  </tbody>\n",
       "</table>\n",
       "<p>2060856 rows × 12 columns</p>\n",
       "</div>"
      ],
      "text/plain": [
       "             Address  netincome_w_y     perk_w_y      wage_w_y  \\\n",
       "0        10001000108            NaN          NaN           NaN   \n",
       "1        10001000111   5.640000e+08          0.0  5.640000e+08   \n",
       "2        10001000113   2.400000e+08          0.0  2.400000e+08   \n",
       "3        10001000113   2.400000e+08          0.0  2.400000e+08   \n",
       "4        10001000114            NaN          NaN           NaN   \n",
       "...              ...            ...          ...           ...   \n",
       "2060851  23006709829            NaN          NaN           NaN   \n",
       "2060852  23006709832   1.104400e+09  180000000.0  9.244000e+08   \n",
       "2060853  23006709835   1.111400e+09   18000000.0  1.093400e+09   \n",
       "2060854  23006709838            NaN          NaN           NaN   \n",
       "2060855  23006709841            NaN          NaN           NaN   \n",
       "\n",
       "             income_s_y income_pension income_rent income_interest  \\\n",
       "0                   NaN     0392000000         NaN             NaN   \n",
       "1                   NaN            NaN         NaN             NaN   \n",
       "2                   NaN     0620000000         NaN             NaN   \n",
       "3                   NaN     0620000000         NaN             NaN   \n",
       "4                   NaN     0144000000         NaN             NaN   \n",
       "...                 ...            ...         ...             ...   \n",
       "2060851     300000000.0              0           0             0.0   \n",
       "2060852  1170000000                  0   540000000               0   \n",
       "2060853             NaN              0           0               0   \n",
       "2060854             NaN              0           0               0   \n",
       "2060855             NaN      702000000           0               0   \n",
       "\n",
       "          income_aid income_resale income_transfer     subsidy  \n",
       "0                NaN           NaN             NaN  27300000.0  \n",
       "1                NaN           NaN             NaN  16380000.0  \n",
       "2         28000000.0           NaN             NaN   3010000.0  \n",
       "3         28000000.0           NaN             NaN  16380000.0  \n",
       "4                NaN           NaN             NaN   5460000.0  \n",
       "...              ...           ...             ...         ...  \n",
       "2060851   24600000.0           0.0             0.0  27300000.0  \n",
       "2060852   96530000.0             0               0   1015000.0  \n",
       "2060853  129530000.0             0               0   1015000.0  \n",
       "2060854  100700000.0             0       200000000    105000.0  \n",
       "2060855   40700000.0             0               0    105000.0  \n",
       "\n",
       "[2060856 rows x 12 columns]"
      ]
     },
     "execution_count": 40,
     "metadata": {},
     "output_type": "execute_result"
    }
   ],
   "source": [
    "AP4S01 = AP4S01[['Address', 'netincome_w_y', 'perk_w_y', 'wage_w_y']]\n",
    "AP4S02 = AP4S02[['Address', 'income_s_y']]\n",
    "AP4S03 = AP4S03[\n",
    "    ['Address', 'income_pension', 'income_rent', 'income_interest', 'income_aid', 'income_resale', 'income_transfer']]\n",
    "AP4S04 = AP4S04[['Address', 'subsidy']]\n",
    "\n",
    "A_incomes = pd.merge(left=AP4S01, right=AP4S02, on='Address', how='outer')\n",
    "A_incomes = pd.merge(left=A_incomes, right=AP4S03, on='Address', how='outer')\n",
    "A_incomes = pd.merge(left=A_incomes, right=AP4S04, on='Address', how='outer')\n",
    "\n",
    "A_incomes"
   ]
  },
  {
   "cell_type": "code",
   "execution_count": 41,
   "id": "fcccbbfd-7d01-4d96-9ef8-ec25a0d85540",
   "metadata": {},
   "outputs": [
    {
     "data": {
      "text/html": [
       "<div>\n",
       "<style scoped>\n",
       "    .dataframe tbody tr th:only-of-type {\n",
       "        vertical-align: middle;\n",
       "    }\n",
       "\n",
       "    .dataframe tbody tr th {\n",
       "        vertical-align: top;\n",
       "    }\n",
       "\n",
       "    .dataframe thead th {\n",
       "        text-align: right;\n",
       "    }\n",
       "</style>\n",
       "<table border=\"1\" class=\"dataframe\">\n",
       "  <thead>\n",
       "    <tr style=\"text-align: right;\">\n",
       "      <th></th>\n",
       "      <th>Address</th>\n",
       "      <th>member</th>\n",
       "      <th>relation</th>\n",
       "      <th>gender</th>\n",
       "      <th>age</th>\n",
       "      <th>literacy</th>\n",
       "      <th>studying</th>\n",
       "      <th>degree</th>\n",
       "      <th>occupationalst</th>\n",
       "      <th>maritalst</th>\n",
       "      <th>...</th>\n",
       "      <th>wage_w_y</th>\n",
       "      <th>income_s_y</th>\n",
       "      <th>income_pension</th>\n",
       "      <th>income_rent</th>\n",
       "      <th>income_interest</th>\n",
       "      <th>income_aid</th>\n",
       "      <th>income_resale</th>\n",
       "      <th>income_transfer</th>\n",
       "      <th>subsidy</th>\n",
       "      <th>total_income</th>\n",
       "    </tr>\n",
       "  </thead>\n",
       "  <tbody>\n",
       "    <tr>\n",
       "      <th>0</th>\n",
       "      <td>10004004223</td>\n",
       "      <td>2</td>\n",
       "      <td>Spouse</td>\n",
       "      <td>Female</td>\n",
       "      <td>61</td>\n",
       "      <td>literate</td>\n",
       "      <td>No</td>\n",
       "      <td>college</td>\n",
       "      <td>IncomeWOJob</td>\n",
       "      <td>Married</td>\n",
       "      <td>...</td>\n",
       "      <td>0.0</td>\n",
       "      <td>44500000.0</td>\n",
       "      <td>358000000.0</td>\n",
       "      <td>0.0</td>\n",
       "      <td>0.0</td>\n",
       "      <td>0.0</td>\n",
       "      <td>0.0</td>\n",
       "      <td>0.0</td>\n",
       "      <td>10920000.0</td>\n",
       "      <td>4.134200e+08</td>\n",
       "    </tr>\n",
       "    <tr>\n",
       "      <th>1</th>\n",
       "      <td>10004004223</td>\n",
       "      <td>2</td>\n",
       "      <td>Spouse</td>\n",
       "      <td>Female</td>\n",
       "      <td>61</td>\n",
       "      <td>literate</td>\n",
       "      <td>No</td>\n",
       "      <td>college</td>\n",
       "      <td>IncomeWOJob</td>\n",
       "      <td>Married</td>\n",
       "      <td>...</td>\n",
       "      <td>0.0</td>\n",
       "      <td>44500000.0</td>\n",
       "      <td>358000000.0</td>\n",
       "      <td>0.0</td>\n",
       "      <td>0.0</td>\n",
       "      <td>0.0</td>\n",
       "      <td>0.0</td>\n",
       "      <td>0.0</td>\n",
       "      <td>10920000.0</td>\n",
       "      <td>4.134200e+08</td>\n",
       "    </tr>\n",
       "    <tr>\n",
       "      <th>2</th>\n",
       "      <td>10004004223</td>\n",
       "      <td>2</td>\n",
       "      <td>Spouse</td>\n",
       "      <td>Female</td>\n",
       "      <td>61</td>\n",
       "      <td>literate</td>\n",
       "      <td>No</td>\n",
       "      <td>college</td>\n",
       "      <td>IncomeWOJob</td>\n",
       "      <td>Married</td>\n",
       "      <td>...</td>\n",
       "      <td>0.0</td>\n",
       "      <td>44500000.0</td>\n",
       "      <td>358000000.0</td>\n",
       "      <td>0.0</td>\n",
       "      <td>0.0</td>\n",
       "      <td>0.0</td>\n",
       "      <td>0.0</td>\n",
       "      <td>0.0</td>\n",
       "      <td>5460000.0</td>\n",
       "      <td>4.079600e+08</td>\n",
       "    </tr>\n",
       "    <tr>\n",
       "      <th>3</th>\n",
       "      <td>10004004223</td>\n",
       "      <td>2</td>\n",
       "      <td>Spouse</td>\n",
       "      <td>Female</td>\n",
       "      <td>61</td>\n",
       "      <td>literate</td>\n",
       "      <td>No</td>\n",
       "      <td>college</td>\n",
       "      <td>IncomeWOJob</td>\n",
       "      <td>Married</td>\n",
       "      <td>...</td>\n",
       "      <td>0.0</td>\n",
       "      <td>44500000.0</td>\n",
       "      <td>262000000.0</td>\n",
       "      <td>0.0</td>\n",
       "      <td>0.0</td>\n",
       "      <td>0.0</td>\n",
       "      <td>0.0</td>\n",
       "      <td>0.0</td>\n",
       "      <td>10920000.0</td>\n",
       "      <td>3.174200e+08</td>\n",
       "    </tr>\n",
       "    <tr>\n",
       "      <th>4</th>\n",
       "      <td>10004004223</td>\n",
       "      <td>2</td>\n",
       "      <td>Spouse</td>\n",
       "      <td>Female</td>\n",
       "      <td>61</td>\n",
       "      <td>literate</td>\n",
       "      <td>No</td>\n",
       "      <td>college</td>\n",
       "      <td>IncomeWOJob</td>\n",
       "      <td>Married</td>\n",
       "      <td>...</td>\n",
       "      <td>0.0</td>\n",
       "      <td>44500000.0</td>\n",
       "      <td>262000000.0</td>\n",
       "      <td>0.0</td>\n",
       "      <td>0.0</td>\n",
       "      <td>0.0</td>\n",
       "      <td>0.0</td>\n",
       "      <td>0.0</td>\n",
       "      <td>10920000.0</td>\n",
       "      <td>3.174200e+08</td>\n",
       "    </tr>\n",
       "    <tr>\n",
       "      <th>...</th>\n",
       "      <td>...</td>\n",
       "      <td>...</td>\n",
       "      <td>...</td>\n",
       "      <td>...</td>\n",
       "      <td>...</td>\n",
       "      <td>...</td>\n",
       "      <td>...</td>\n",
       "      <td>...</td>\n",
       "      <td>...</td>\n",
       "      <td>...</td>\n",
       "      <td>...</td>\n",
       "      <td>...</td>\n",
       "      <td>...</td>\n",
       "      <td>...</td>\n",
       "      <td>...</td>\n",
       "      <td>...</td>\n",
       "      <td>...</td>\n",
       "      <td>...</td>\n",
       "      <td>...</td>\n",
       "      <td>...</td>\n",
       "      <td>...</td>\n",
       "    </tr>\n",
       "    <tr>\n",
       "      <th>2329630</th>\n",
       "      <td>21702575832</td>\n",
       "      <td>1</td>\n",
       "      <td>Head</td>\n",
       "      <td>Male</td>\n",
       "      <td>47</td>\n",
       "      <td>literate</td>\n",
       "      <td>No</td>\n",
       "      <td>bachelor</td>\n",
       "      <td>employed</td>\n",
       "      <td>Married</td>\n",
       "      <td>...</td>\n",
       "      <td>842400000.0</td>\n",
       "      <td>71600000.0</td>\n",
       "      <td>0.0</td>\n",
       "      <td>0.0</td>\n",
       "      <td>6100000.0</td>\n",
       "      <td>0.0</td>\n",
       "      <td>0.0</td>\n",
       "      <td>0.0</td>\n",
       "      <td>16380000.0</td>\n",
       "      <td>1.898880e+09</td>\n",
       "    </tr>\n",
       "    <tr>\n",
       "      <th>2329631</th>\n",
       "      <td>21702575832</td>\n",
       "      <td>1</td>\n",
       "      <td>Head</td>\n",
       "      <td>Male</td>\n",
       "      <td>47</td>\n",
       "      <td>literate</td>\n",
       "      <td>No</td>\n",
       "      <td>bachelor</td>\n",
       "      <td>employed</td>\n",
       "      <td>Married</td>\n",
       "      <td>...</td>\n",
       "      <td>842400000.0</td>\n",
       "      <td>71600000.0</td>\n",
       "      <td>0.0</td>\n",
       "      <td>0.0</td>\n",
       "      <td>6100000.0</td>\n",
       "      <td>0.0</td>\n",
       "      <td>0.0</td>\n",
       "      <td>0.0</td>\n",
       "      <td>1960000.0</td>\n",
       "      <td>1.884460e+09</td>\n",
       "    </tr>\n",
       "    <tr>\n",
       "      <th>2329632</th>\n",
       "      <td>21702575832</td>\n",
       "      <td>1</td>\n",
       "      <td>Head</td>\n",
       "      <td>Male</td>\n",
       "      <td>47</td>\n",
       "      <td>literate</td>\n",
       "      <td>No</td>\n",
       "      <td>bachelor</td>\n",
       "      <td>employed</td>\n",
       "      <td>Married</td>\n",
       "      <td>...</td>\n",
       "      <td>842400000.0</td>\n",
       "      <td>71600000.0</td>\n",
       "      <td>0.0</td>\n",
       "      <td>0.0</td>\n",
       "      <td>6100000.0</td>\n",
       "      <td>0.0</td>\n",
       "      <td>0.0</td>\n",
       "      <td>0.0</td>\n",
       "      <td>16380000.0</td>\n",
       "      <td>1.898880e+09</td>\n",
       "    </tr>\n",
       "    <tr>\n",
       "      <th>2329633</th>\n",
       "      <td>21702575832</td>\n",
       "      <td>1</td>\n",
       "      <td>Head</td>\n",
       "      <td>Male</td>\n",
       "      <td>47</td>\n",
       "      <td>literate</td>\n",
       "      <td>No</td>\n",
       "      <td>bachelor</td>\n",
       "      <td>employed</td>\n",
       "      <td>Married</td>\n",
       "      <td>...</td>\n",
       "      <td>842400000.0</td>\n",
       "      <td>71600000.0</td>\n",
       "      <td>0.0</td>\n",
       "      <td>0.0</td>\n",
       "      <td>6100000.0</td>\n",
       "      <td>0.0</td>\n",
       "      <td>0.0</td>\n",
       "      <td>0.0</td>\n",
       "      <td>1260000.0</td>\n",
       "      <td>1.883760e+09</td>\n",
       "    </tr>\n",
       "    <tr>\n",
       "      <th>2329634</th>\n",
       "      <td>21702575832</td>\n",
       "      <td>1</td>\n",
       "      <td>Head</td>\n",
       "      <td>Male</td>\n",
       "      <td>47</td>\n",
       "      <td>literate</td>\n",
       "      <td>No</td>\n",
       "      <td>bachelor</td>\n",
       "      <td>employed</td>\n",
       "      <td>Married</td>\n",
       "      <td>...</td>\n",
       "      <td>842400000.0</td>\n",
       "      <td>71600000.0</td>\n",
       "      <td>0.0</td>\n",
       "      <td>0.0</td>\n",
       "      <td>6100000.0</td>\n",
       "      <td>0.0</td>\n",
       "      <td>0.0</td>\n",
       "      <td>0.0</td>\n",
       "      <td>16380000.0</td>\n",
       "      <td>1.898880e+09</td>\n",
       "    </tr>\n",
       "  </tbody>\n",
       "</table>\n",
       "<p>2329635 rows × 22 columns</p>\n",
       "</div>"
      ],
      "text/plain": [
       "             Address  member relation  gender  age  literacy studying  \\\n",
       "0        10004004223       2   Spouse  Female   61  literate       No   \n",
       "1        10004004223       2   Spouse  Female   61  literate       No   \n",
       "2        10004004223       2   Spouse  Female   61  literate       No   \n",
       "3        10004004223       2   Spouse  Female   61  literate       No   \n",
       "4        10004004223       2   Spouse  Female   61  literate       No   \n",
       "...              ...     ...      ...     ...  ...       ...      ...   \n",
       "2329630  21702575832       1     Head    Male   47  literate       No   \n",
       "2329631  21702575832       1     Head    Male   47  literate       No   \n",
       "2329632  21702575832       1     Head    Male   47  literate       No   \n",
       "2329633  21702575832       1     Head    Male   47  literate       No   \n",
       "2329634  21702575832       1     Head    Male   47  literate       No   \n",
       "\n",
       "           degree occupationalst maritalst  ...     wage_w_y  income_s_y  \\\n",
       "0         college    IncomeWOJob   Married  ...          0.0  44500000.0   \n",
       "1         college    IncomeWOJob   Married  ...          0.0  44500000.0   \n",
       "2         college    IncomeWOJob   Married  ...          0.0  44500000.0   \n",
       "3         college    IncomeWOJob   Married  ...          0.0  44500000.0   \n",
       "4         college    IncomeWOJob   Married  ...          0.0  44500000.0   \n",
       "...           ...            ...       ...  ...          ...         ...   \n",
       "2329630  bachelor       employed   Married  ...  842400000.0  71600000.0   \n",
       "2329631  bachelor       employed   Married  ...  842400000.0  71600000.0   \n",
       "2329632  bachelor       employed   Married  ...  842400000.0  71600000.0   \n",
       "2329633  bachelor       employed   Married  ...  842400000.0  71600000.0   \n",
       "2329634  bachelor       employed   Married  ...  842400000.0  71600000.0   \n",
       "\n",
       "         income_pension  income_rent  income_interest  income_aid  \\\n",
       "0           358000000.0          0.0              0.0         0.0   \n",
       "1           358000000.0          0.0              0.0         0.0   \n",
       "2           358000000.0          0.0              0.0         0.0   \n",
       "3           262000000.0          0.0              0.0         0.0   \n",
       "4           262000000.0          0.0              0.0         0.0   \n",
       "...                 ...          ...              ...         ...   \n",
       "2329630             0.0          0.0        6100000.0         0.0   \n",
       "2329631             0.0          0.0        6100000.0         0.0   \n",
       "2329632             0.0          0.0        6100000.0         0.0   \n",
       "2329633             0.0          0.0        6100000.0         0.0   \n",
       "2329634             0.0          0.0        6100000.0         0.0   \n",
       "\n",
       "         income_resale  income_transfer     subsidy  total_income  \n",
       "0                  0.0              0.0  10920000.0  4.134200e+08  \n",
       "1                  0.0              0.0  10920000.0  4.134200e+08  \n",
       "2                  0.0              0.0   5460000.0  4.079600e+08  \n",
       "3                  0.0              0.0  10920000.0  3.174200e+08  \n",
       "4                  0.0              0.0  10920000.0  3.174200e+08  \n",
       "...                ...              ...         ...           ...  \n",
       "2329630            0.0              0.0  16380000.0  1.898880e+09  \n",
       "2329631            0.0              0.0   1960000.0  1.884460e+09  \n",
       "2329632            0.0              0.0  16380000.0  1.898880e+09  \n",
       "2329633            0.0              0.0   1260000.0  1.883760e+09  \n",
       "2329634            0.0              0.0  16380000.0  1.898880e+09  \n",
       "\n",
       "[2329635 rows x 22 columns]"
      ]
     },
     "execution_count": 41,
     "metadata": {},
     "output_type": "execute_result"
    }
   ],
   "source": [
    "A_incomes[cols_to_sum] = A_incomes[cols_to_sum].apply(pd.to_numeric, errors='coerce')\n",
    "A_incomes = A_incomes.dropna(thresh=A_incomes.shape[1] - 10)\n",
    "A_incomes = A_incomes.fillna(0)\n",
    "\n",
    "A_graduates_income = pd.merge(left=A_graduates, right=A_incomes, on='Address', how='inner')\n",
    "A_non_graduates_income = pd.merge(left=A_non_graduates, right=A_incomes, on='Address', how='inner')\n",
    "\n",
    "A_graduates_income['total_income'] = A_graduates_income[cols_to_sum].sum(axis=1)\n",
    "A_non_graduates_income['total_income'] = A_non_graduates_income[cols_to_sum].sum(axis=1)\n",
    "\n",
    "A_graduates_income"
   ]
  },
  {
   "cell_type": "code",
   "execution_count": 42,
   "id": "619d3c18-8b02-459f-bc5e-b7e61ddc8290",
   "metadata": {},
   "outputs": [
    {
     "name": "stdout",
     "output_type": "stream",
     "text": [
      "Difference between average: 204,656,454.89\n",
      "<class 'pandas.core.frame.DataFrame'>\n",
      "RangeIndex: 2329635 entries, 0 to 2329634\n",
      "Data columns (total 22 columns):\n",
      " #   Column           Dtype  \n",
      "---  ------           -----  \n",
      " 0   Address          int64  \n",
      " 1   member           int64  \n",
      " 2   relation         object \n",
      " 3   gender           object \n",
      " 4   age              int64  \n",
      " 5   literacy         object \n",
      " 6   studying         object \n",
      " 7   degree           object \n",
      " 8   occupationalst   object \n",
      " 9   maritalst        object \n",
      " 10  netincome_w_y    float64\n",
      " 11  perk_w_y         float64\n",
      " 12  wage_w_y         float64\n",
      " 13  income_s_y       float64\n",
      " 14  income_pension   float64\n",
      " 15  income_rent      float64\n",
      " 16  income_interest  float64\n",
      " 17  income_aid       float64\n",
      " 18  income_resale    float64\n",
      " 19  income_transfer  float64\n",
      " 20  subsidy          float64\n",
      " 21  total_income     float64\n",
      "dtypes: float64(12), int64(3), object(7)\n",
      "memory usage: 391.0+ MB\n",
      "Statistic: 59424.79930512281\n",
      "Critical Values: [0.576 0.656 0.787 0.918 1.092]\n",
      "Significance Levels: [15.  10.   5.   2.5  1. ]\n",
      "At the 15.0% significance level, data is NOT normal.\n",
      "At the 10.0% significance level, data is NOT normal.\n",
      "At the 5.0% significance level, data is NOT normal.\n",
      "At the 2.5% significance level, data is NOT normal.\n",
      "At the 1.0% significance level, data is NOT normal.\n",
      "Statistic: 292206.98945088964\n",
      "Critical Values: [0.576 0.656 0.787 0.918 1.092]\n",
      "Significance Levels: [15.  10.   5.   2.5  1. ]\n",
      "At the 15.0% significance level, data is NOT normal.\n",
      "At the 10.0% significance level, data is NOT normal.\n",
      "At the 5.0% significance level, data is NOT normal.\n",
      "At the 2.5% significance level, data is NOT normal.\n",
      "At the 1.0% significance level, data is NOT normal.\n",
      "<class 'pandas.core.frame.DataFrame'>\n",
      "RangeIndex: 2329635 entries, 0 to 2329634\n",
      "Data columns (total 21 columns):\n",
      " #   Column           Dtype  \n",
      "---  ------           -----  \n",
      " 0   Address          int64  \n",
      " 1   member           int64  \n",
      " 2   relation         object \n",
      " 3   gender           object \n",
      " 4   age              int64  \n",
      " 5   literacy         object \n",
      " 6   studying         object \n",
      " 7   occupationalst   object \n",
      " 8   maritalst        object \n",
      " 9   netincome_w_y    float64\n",
      " 10  perk_w_y         float64\n",
      " 11  wage_w_y         float64\n",
      " 12  income_s_y       float64\n",
      " 13  income_pension   float64\n",
      " 14  income_rent      float64\n",
      " 15  income_interest  float64\n",
      " 16  income_aid       float64\n",
      " 17  income_resale    float64\n",
      " 18  income_transfer  float64\n",
      " 19  subsidy          float64\n",
      " 20  total_income     float64\n",
      "dtypes: float64(12), int64(3), object(6)\n",
      "memory usage: 373.2+ MB\n",
      "U-statistic: 2713599616612.5 1.0\n",
      "P-value: 1.0 so there's no evidence about that graduated people earn more\n"
     ]
    }
   ],
   "source": [
    "A_graduates_income_mean = A_graduates_income['total_income'].mean()\n",
    "A_graduates_income_mean\n",
    "\n",
    "A_non_graduates_income_mean = A_non_graduates_income['total_income'].mean()\n",
    "A_non_graduates_income_mean\n",
    "\n",
    "print(f\"Difference between average: {A_graduates_income_mean - A_non_graduates_income_mean:,.2f}\")\n",
    "\n",
    "A_graduates_income.info()\n",
    "A_graduates_income.drop(['degree'], axis=1, inplace=True)\n",
    "A_non_graduates_income.drop(['degree'], axis=1, inplace=True)\n",
    "\n",
    "A_graduates_income_anderson = stats.anderson(A_graduates_income['total_income'].to_numpy())\n",
    "\n",
    "anderson(A_graduates_income_anderson)\n",
    "\n",
    "A_non_graduates_income_anderson = stats.anderson(A_non_graduates_income['total_income'].to_numpy())\n",
    "\n",
    "anderson(A_non_graduates_income_anderson)\n",
    "\n",
    "A_graduates_income.info()\n",
    "\n",
    "u_statistic, p_value = mannwhitneyu(A_graduates_income['total_income'], A_graduates_income['total_income'],\n",
    "                                    alternative='two-sided')\n",
    "\n",
    "print(f\"U-statistic: {u_statistic} {p_value}\")\n",
    "print(\n",
    "    f\"P-value: {p_value} so there's {'no' if p_value > ALPHA else 'an'} evidence about that graduated people earn more\")\n"
   ]
  },
  {
   "cell_type": "code",
   "execution_count": 43,
   "id": "b5f6285734748f49",
   "metadata": {
    "ExecuteTime": {
     "end_time": "2024-09-18T07:39:20.519644Z",
     "start_time": "2024-09-18T07:39:12.336370Z"
    }
   },
   "outputs": [
    {
     "name": "stdout",
     "output_type": "stream",
     "text": [
      "Statistic: 55665.25716345012\n",
      "Critical Values: [0.576 0.656 0.787 0.918 1.092]\n",
      "Significance Levels: [15.  10.   5.   2.5  1. ]\n",
      "At the 15.0% significance level, data is NOT normal.\n",
      "At the 10.0% significance level, data is NOT normal.\n",
      "At the 5.0% significance level, data is NOT normal.\n",
      "At the 2.5% significance level, data is NOT normal.\n",
      "At the 1.0% significance level, data is NOT normal.\n",
      "Statistic: 55665.25716345012\n",
      "Critical Values: [0.576 0.656 0.787 0.918 1.092]\n",
      "Significance Levels: [15.  10.   5.   2.5  1. ]\n",
      "At the 15.0% significance level, data is NOT normal.\n",
      "At the 10.0% significance level, data is NOT normal.\n",
      "At the 5.0% significance level, data is NOT normal.\n",
      "At the 2.5% significance level, data is NOT normal.\n",
      "At the 1.0% significance level, data is NOT normal.\n"
     ]
    }
   ],
   "source": [
    "A_graduates_income_yeojohnson = stats.yeojohnson(A_graduates_income['total_income'])\n",
    "A_non_graduates_income_yeojohnson = stats.yeojohnson(A_graduates_income['total_income'])\n",
    "\n",
    "A_non_graduates_income_anderson = stats.anderson(A_graduates_income_yeojohnson[0])\n",
    "A_non_graduates_income_yeojohnson = stats.anderson(A_non_graduates_income_yeojohnson[0])\n",
    "\n",
    "anderson(A_non_graduates_income_anderson)\n",
    "anderson(A_non_graduates_income_yeojohnson)"
   ]
  },
  {
   "cell_type": "markdown",
   "id": "2b23ade4-ef88-40ab-b670-cde0f073f3fe",
   "metadata": {},
   "source": [
    "تفاوت معناداری بین مجموع درآمد سالانه افرادی که به دانشگاه رفته‌اند و افرادی که به دانشگاه نرفته‌اند وجود ندارد"
   ]
  }
 ],
 "metadata": {
  "kernelspec": {
   "display_name": "Python 3 (ipykernel)",
   "language": "python",
   "name": "python3"
  },
  "language_info": {
   "codemirror_mode": {
    "name": "ipython",
    "version": 3
   },
   "file_extension": ".py",
   "mimetype": "text/x-python",
   "name": "python",
   "nbconvert_exporter": "python",
   "pygments_lexer": "ipython3",
   "version": "3.11.9"
  }
 },
 "nbformat": 4,
 "nbformat_minor": 5
}
