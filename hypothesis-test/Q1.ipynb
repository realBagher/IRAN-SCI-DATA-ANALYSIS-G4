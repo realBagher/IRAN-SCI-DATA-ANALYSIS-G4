{
 "cells": [
  {
   "cell_type": "code",
   "execution_count": 1,
   "metadata": {},
   "outputs": [],
   "source": [
    "import numpy as np\n",
    "import pandas as pd\n",
    "from scipy import stats"
   ]
  },
  {
   "cell_type": "code",
   "execution_count": 2,
   "metadata": {},
   "outputs": [],
   "source": [
    "def load_data_Urbun(sheet):\n",
    "    df_urban = {}\n",
    "    years = ['98', '99', '1400', '1401']\n",
    "    for year in years:\n",
    "        file_name = f'U{year}.xlsx'\n",
    "        sheet_name = f'U{year}{sheet}'\n",
    "        df = pd.read_excel(file_name, sheet_name = sheet_name)\n",
    "        df_urban[f'U{year}'] = df\n",
    "    return df_urban"
   ]
  },
  {
   "cell_type": "code",
   "execution_count": 3,
   "metadata": {},
   "outputs": [],
   "source": [
    "def load_data_Rural(sheet):\n",
    "    df_Rural = {}\n",
    "    years = ['98', '99', '1400', '1401']\n",
    "    for year in years:\n",
    "        file_name = f'R{year}.xlsx'\n",
    "        sheet_name = f'R{year}{sheet}'\n",
    "        df = pd.read_excel(file_name, sheet_name = sheet_name)\n",
    "        df_Rural[f'R{year}'] = df\n",
    "    return df_Rural"
   ]
  },
  {
   "cell_type": "code",
   "execution_count": 4,
   "metadata": {},
   "outputs": [],
   "source": [
    "Rural_Data = load_data_Rural('Data')\n",
    "Urbun_Data = load_data_Urbun('Data')"
   ]
  },
  {
   "cell_type": "code",
   "execution_count": 5,
   "metadata": {},
   "outputs": [],
   "source": [
    "Rural_data_income_paid_jobs = load_data_Rural('P4S01')\n",
    "Urbun_data_income_paid_jobs = load_data_Urbun('P4S01')"
   ]
  },
  {
   "cell_type": "code",
   "execution_count": 6,
   "metadata": {},
   "outputs": [],
   "source": [
    "Rural_data_income_freelance_jobs = load_data_Rural('P4S02')\n",
    "Urbun_data_income_freelance_jobs = load_data_Urbun('P4S02')"
   ]
  },
  {
   "cell_type": "code",
   "execution_count": 7,
   "metadata": {},
   "outputs": [],
   "source": [
    "Rural_data_income_Miscellaneous = load_data_Rural('P4S03')\n",
    "Urbun_data_income_Miscellaneous = load_data_Urbun('P4S03')"
   ]
  },
  {
   "cell_type": "code",
   "execution_count": 8,
   "metadata": {},
   "outputs": [],
   "source": [
    "Rural_data_income_subsidy = load_data_Rural('P4S04')\n",
    "Urbun_data_income_subsidy = load_data_Urbun('P4S04')"
   ]
  },
  {
   "cell_type": "code",
   "execution_count": 9,
   "metadata": {},
   "outputs": [],
   "source": [
    "Selected_address = {}\n",
    "for key, value in Rural_Data.items():\n",
    "    Selected_address[key] = value[value['province'] == 'CharmahalBakhtiari']['Address'].unique()\n",
    "\n",
    "for key, value in Urbun_Data.items():\n",
    "    Selected_address[key] = value[value['province'] == 'CharmahalBakhtiari']['Address'].unique()"
   ]
  },
  {
   "cell_type": "code",
   "execution_count": 10,
   "metadata": {},
   "outputs": [],
   "source": [
    "# Paid jobs\n",
    "for key, value in Rural_data_income_paid_jobs.items():\n",
    "    Rural_data_income_paid_jobs[key] = value[value['Address'].isin(Selected_address[key])]\n",
    "for key, value in Urbun_data_income_paid_jobs.items():\n",
    "    Urbun_data_income_paid_jobs[key] = value[value['Address'].isin(Selected_address[key])]\n",
    "\n",
    "# Freelance jobs\n",
    "for key, value in Rural_data_income_freelance_jobs.items():\n",
    "    Rural_data_income_freelance_jobs[key] = value[value['Address'].isin(Selected_address[key])]\n",
    "for key, value in Urbun_data_income_freelance_jobs.items():\n",
    "    Urbun_data_income_freelance_jobs[key] = value[value['Address'].isin(Selected_address[key])]\n",
    "\n",
    "# Miscellaneous\n",
    "for key, value in Rural_data_income_Miscellaneous.items():\n",
    "    Rural_data_income_Miscellaneous[key] = value[value['Address'].isin(Selected_address[key])]\n",
    "for key, value in Urbun_data_income_Miscellaneous.items():\n",
    "    Urbun_data_income_Miscellaneous[key] = value[value['Address'].isin(Selected_address[key])]\n",
    "\n",
    "# Subsidy\n",
    "for key, value in Rural_data_income_subsidy.items():\n",
    "    Rural_data_income_subsidy[key] = value[value['Address'].isin(Selected_address[key])]\n",
    "for key, value in Urbun_data_income_subsidy.items():\n",
    "    Urbun_data_income_subsidy[key] = value[value['Address'].isin(Selected_address[key])]"
   ]
  },
  {
   "cell_type": "code",
   "execution_count": 56,
   "metadata": {},
   "outputs": [],
   "source": [
    "Urbun_data_income_freelance_jobs['U1401']['income_s_y'] = Urbun_data_income_freelance_jobs['U1401']['income_s_y'].astype('float')"
   ]
  },
  {
   "cell_type": "code",
   "execution_count": 64,
   "metadata": {},
   "outputs": [],
   "source": [
    "Rural_data_income_freelance_jobs['R1401'].loc[1571, 'income_s_y'] = '0'"
   ]
  },
  {
   "cell_type": "code",
   "execution_count": 65,
   "metadata": {},
   "outputs": [],
   "source": [
    "Rural_data_income_freelance_jobs['R1401']['income_s_y'] = Rural_data_income_freelance_jobs['R1401']['income_s_y'].astype('float')"
   ]
  },
  {
   "cell_type": "markdown",
   "metadata": {},
   "source": [
    "#### Group By"
   ]
  },
  {
   "cell_type": "code",
   "execution_count": 70,
   "metadata": {},
   "outputs": [],
   "source": [
    "# Paid Jobs\n",
    "paid_jobs = {}\n",
    "for key, value in Rural_data_income_paid_jobs.items():\n",
    "    paid_jobs[key] = value.groupby('Address')[['netincome_w_y']].agg('sum').reset_index()\n",
    "for key, value in Urbun_data_income_paid_jobs.items():\n",
    "    paid_jobs[key] = value.groupby('Address')[['netincome_w_y']].agg('sum').reset_index()\n",
    "    \n",
    "# Freelance Jobs\n",
    "Freelance_Jobs = {}\n",
    "for key, value in Rural_data_income_freelance_jobs.items() :\n",
    "    Freelance_Jobs[key] = value.groupby('Address')[['income_s_y']].agg('sum').reset_index()\n",
    "for key, value in Urbun_data_income_freelance_jobs.items() :\n",
    "    Freelance_Jobs[key] = value.groupby('Address')[['income_s_y']].agg('sum').reset_index()\n",
    "    \n",
    "# Miscellaneous\n",
    "Miscellaneous = {}\n",
    "selected_columns = ['income_pension', 'income_rent', 'income_interest', 'income_aid', 'income_resale', 'income_transfer']\n",
    "for key in Rural_data_income_Miscellaneous.keys():\n",
    "    Miscellaneous[key] = Rural_data_income_Miscellaneous[key].groupby('Address')[selected_columns].agg('sum').reset_index()\n",
    "for key in Urbun_data_income_Miscellaneous.keys():\n",
    "    Miscellaneous[key] = Urbun_data_income_Miscellaneous[key].groupby('Address')[selected_columns].agg('sum').reset_index()\n",
    "    \n",
    "# Subsidy \n",
    "Subsidy = {}\n",
    "for key, value in Rural_data_income_subsidy.items():\n",
    "    Subsidy[key] = value.groupby('Address')[['subsidy']].agg('sum').reset_index()\n",
    "for key, value in Urbun_data_income_subsidy.items():\n",
    "    Subsidy[key] = value.groupby('Address')[['subsidy']].agg('sum').reset_index()"
   ]
  },
  {
   "cell_type": "code",
   "execution_count": 71,
   "metadata": {},
   "outputs": [],
   "source": [
    "def process_income_data_Urbun(years):\n",
    "    ans = {}\n",
    "    for year in years :\n",
    "        \n",
    "        df = paid_jobs[f'U{year}'].merge(Freelance_Jobs[f'U{year}'], how = 'outer')\n",
    "\n",
    "        df = df.merge(Miscellaneous[f'U{year}'], how = 'outer')\n",
    "\n",
    "        df = df.merge(Subsidy[f'U{year}'], how='outer')\n",
    "        \n",
    "        ans[f'number{year}'] = df['Address'].nunique()\n",
    "\n",
    "        df = df.drop(columns='Address')\n",
    "\n",
    "        df.dropna(how='all', inplace=True)\n",
    "\n",
    "        df.fillna(0, inplace=True)\n",
    "\n",
    "        df = df.astype('float')\n",
    "\n",
    "        df = df.sum(axis=1)\n",
    "        \n",
    "        ans[f'{year}'] = df\n",
    "        \n",
    "    return ans"
   ]
  },
  {
   "cell_type": "code",
   "execution_count": 73,
   "metadata": {},
   "outputs": [],
   "source": [
    "def process_income_data_Rural(years):\n",
    "    ans = {}\n",
    "    for year in years :\n",
    "        \n",
    "        df = paid_jobs[f'R{year}'].merge(Freelance_Jobs[f'R{year}'], how = 'outer')\n",
    "\n",
    "        df = df.merge(Miscellaneous[f'R{year}'], how = 'outer')\n",
    "\n",
    "        df = df.merge(Subsidy[f'R{year}'], how='outer')\n",
    "        \n",
    "        ans[f'number{year}'] = df['Address'].nunique()\n",
    "\n",
    "        df = df.drop(columns='Address')\n",
    "\n",
    "        df.dropna(how='all', inplace=True)\n",
    "\n",
    "        df.fillna(0, inplace=True)\n",
    "\n",
    "        df = df.astype('float')\n",
    "\n",
    "        df = df.sum(axis=1)\n",
    "        \n",
    "        ans[f'{year}'] = df\n",
    "            \n",
    "    return ans"
   ]
  },
  {
   "cell_type": "code",
   "execution_count": 75,
   "metadata": {},
   "outputs": [],
   "source": [
    "years = ['98', '99', '1400', '1401']\n",
    "Urban_data_income = process_income_data_Urbun(years)\n",
    "Rural_data_income = process_income_data_Rural(years)"
   ]
  },
  {
   "cell_type": "markdown",
   "metadata": {},
   "source": [
    "### فرضیات\n",
    "\n",
    "- **H0**: درآمد خانوارهای شهری و روستایی در استان چهارمحال و بختیاری با هم برابر است\n",
    "- **H1**: درآمد خانوارهای شهری و روستایی در استان چهارمحال و بختیاری با هم برابر نیست\n"
   ]
  },
  {
   "cell_type": "markdown",
   "metadata": {},
   "source": [
    "#### 98"
   ]
  },
  {
   "cell_type": "code",
   "execution_count": 84,
   "metadata": {},
   "outputs": [
    {
     "data": {
      "text/plain": [
       "(ShapiroResult(statistic=0.8730337948969712, pvalue=3.10940011587708e-19),\n",
       " ShapiroResult(statistic=0.08303455283550876, pvalue=5.518560505472422e-48))"
      ]
     },
     "execution_count": 84,
     "metadata": {},
     "output_type": "execute_result"
    }
   ],
   "source": [
    "shapiro_R_98 = stats.shapiro(Rural_data_income['98'])\n",
    "shapiro_U_98 = stats.shapiro(Urban_data_income['98'])\n",
    "shapiro_R_98, shapiro_U_98"
   ]
  },
  {
   "cell_type": "code",
   "execution_count": 88,
   "metadata": {},
   "outputs": [
    {
     "data": {
      "text/plain": [
       "(ShapiroResult(statistic=0.888689671015572, pvalue=5.064260624511144e-18),\n",
       " ShapiroResult(statistic=0.11026887102335003, pvalue=1.6021873947220456e-47))"
      ]
     },
     "execution_count": 88,
     "metadata": {},
     "output_type": "execute_result"
    }
   ],
   "source": [
    "R_98_yeojohnson , _ = stats.yeojohnson(Rural_data_income['98'])\n",
    "U_98_yeojohnson , _ = stats.yeojohnson(Urban_data_income['98'])\n",
    "shapiro_R_98_yeojohnson = stats.shapiro(R_98_yeojohnson)\n",
    "shapiro_U_98_yeojohnson = stats.shapiro(U_98_yeojohnson)\n",
    "shapiro_R_98_yeojohnson, shapiro_U_98_yeojohnson"
   ]
  },
  {
   "cell_type": "code",
   "execution_count": 89,
   "metadata": {},
   "outputs": [
    {
     "data": {
      "text/plain": [
       "MannwhitneyuResult(statistic=107075.5, pvalue=4.203094045980122e-18)"
      ]
     },
     "execution_count": 89,
     "metadata": {},
     "output_type": "execute_result"
    }
   ],
   "source": [
    "stats.mannwhitneyu(Rural_data_income['98'], Urban_data_income['98'])"
   ]
  },
  {
   "cell_type": "markdown",
   "metadata": {},
   "source": [
    "#### 99"
   ]
  },
  {
   "cell_type": "code",
   "execution_count": 90,
   "metadata": {},
   "outputs": [
    {
     "data": {
      "text/plain": [
       "(ShapiroResult(statistic=0.8297011430016313, pvalue=2.6830957068042534e-22),\n",
       " ShapiroResult(statistic=0.01733324147096371, pvalue=1.0227056962103966e-48))"
      ]
     },
     "execution_count": 90,
     "metadata": {},
     "output_type": "execute_result"
    }
   ],
   "source": [
    "shapiro_R_99 = stats.shapiro(Rural_data_income['99'])\n",
    "shapiro_U_99 = stats.shapiro(Urban_data_income['99'])\n",
    "shapiro_R_99, shapiro_U_99"
   ]
  },
  {
   "cell_type": "code",
   "execution_count": 92,
   "metadata": {},
   "outputs": [
    {
     "data": {
      "text/plain": [
       "(ShapiroResult(statistic=0.9886746647987821, pvalue=0.0008577578428189212),\n",
       " ShapiroResult(statistic=0.03463710859781999, pvalue=1.926253387271954e-48))"
      ]
     },
     "execution_count": 92,
     "metadata": {},
     "output_type": "execute_result"
    }
   ],
   "source": [
    "R_99_yeojohnson , _ = stats.yeojohnson(Rural_data_income['99'])\n",
    "U_99_yeojohnson , _ = stats.yeojohnson(Urban_data_income['99'])\n",
    "shapiro_R_99_yeojohnson = stats.shapiro(R_99_yeojohnson)\n",
    "shapiro_U_99_yeojohnson = stats.shapiro(U_99_yeojohnson)\n",
    "shapiro_R_99_yeojohnson, shapiro_U_99_yeojohnson"
   ]
  },
  {
   "cell_type": "code",
   "execution_count": 94,
   "metadata": {},
   "outputs": [
    {
     "data": {
      "text/plain": [
       "MannwhitneyuResult(statistic=112599.0, pvalue=1.917304286008066e-14)"
      ]
     },
     "execution_count": 94,
     "metadata": {},
     "output_type": "execute_result"
    }
   ],
   "source": [
    "stats.mannwhitneyu(Rural_data_income['99'], Urban_data_income['99'])"
   ]
  },
  {
   "cell_type": "markdown",
   "metadata": {},
   "source": [
    "#### 1400"
   ]
  },
  {
   "cell_type": "code",
   "execution_count": 95,
   "metadata": {},
   "outputs": [
    {
     "data": {
      "text/plain": [
       "(ShapiroResult(statistic=0.02143228719661272, pvalue=3.990699701187746e-44),\n",
       " ShapiroResult(statistic=0.06639980169534376, pvalue=2.4072739780776472e-48))"
      ]
     },
     "execution_count": 95,
     "metadata": {},
     "output_type": "execute_result"
    }
   ],
   "source": [
    "shapiro_R_1400 = stats.shapiro(Rural_data_income['1400'])\n",
    "shapiro_U_1400 = stats.shapiro(Urban_data_income['1400'])\n",
    "shapiro_R_1400, shapiro_U_1400"
   ]
  },
  {
   "cell_type": "code",
   "execution_count": 97,
   "metadata": {},
   "outputs": [
    {
     "data": {
      "text/plain": [
       "(ShapiroResult(statistic=0.9058046090529781, pvalue=7.202925244967938e-17),\n",
       " ShapiroResult(statistic=0.8665640203381125, pvalue=4.1059381344034984e-23))"
      ]
     },
     "execution_count": 97,
     "metadata": {},
     "output_type": "execute_result"
    }
   ],
   "source": [
    "R_1400_yeojohnson , _ = stats.yeojohnson(Rural_data_income['1400'])\n",
    "U_1400_yeojohnson , _ = stats.yeojohnson(Urban_data_income['1400'])\n",
    "shapiro_R_1400_yeojohnson = stats.shapiro(R_1400_yeojohnson)\n",
    "shapiro_U_1400_yeojohnson = stats.shapiro(U_1400_yeojohnson)\n",
    "shapiro_R_1400_yeojohnson, shapiro_U_1400_yeojohnson"
   ]
  },
  {
   "cell_type": "code",
   "execution_count": 99,
   "metadata": {},
   "outputs": [
    {
     "data": {
      "text/plain": [
       "MannwhitneyuResult(statistic=121282.5, pvalue=2.863802198359207e-12)"
      ]
     },
     "execution_count": 99,
     "metadata": {},
     "output_type": "execute_result"
    }
   ],
   "source": [
    "stats.mannwhitneyu(Rural_data_income['1400'], Urban_data_income['1400'])"
   ]
  },
  {
   "cell_type": "markdown",
   "metadata": {},
   "source": [
    "#### 1401"
   ]
  },
  {
   "cell_type": "code",
   "execution_count": 100,
   "metadata": {},
   "outputs": [
    {
     "data": {
      "text/plain": [
       "(ShapiroResult(statistic=0.8624497765713363, pvalue=2.855842062959131e-20),\n",
       " ShapiroResult(statistic=0.8955742359464116, pvalue=1.0267914922423725e-20))"
      ]
     },
     "execution_count": 100,
     "metadata": {},
     "output_type": "execute_result"
    }
   ],
   "source": [
    "shapiro_R_1401 = stats.shapiro(Rural_data_income['1401'])\n",
    "shapiro_U_1401 = stats.shapiro(Urban_data_income['1401'])\n",
    "shapiro_R_1401, shapiro_U_1401"
   ]
  },
  {
   "cell_type": "code",
   "execution_count": 102,
   "metadata": {},
   "outputs": [
    {
     "data": {
      "text/plain": [
       "(ShapiroResult(statistic=0.9897078174328108, pvalue=0.0017231732480825481),\n",
       " ShapiroResult(statistic=0.9925084289817818, pvalue=0.0021912123017287194))"
      ]
     },
     "execution_count": 102,
     "metadata": {},
     "output_type": "execute_result"
    }
   ],
   "source": [
    "R_1401_yeojohnson , _ = stats.yeojohnson(Rural_data_income['1401'])\n",
    "U_1401_yeojohnson , _ = stats.yeojohnson(Urban_data_income['1401'])\n",
    "shapiro_R_1401_yeojohnson = stats.shapiro(R_1401_yeojohnson)\n",
    "shapiro_U_1401_yeojohnson = stats.shapiro(U_1401_yeojohnson)\n",
    "shapiro_R_1401_yeojohnson, shapiro_U_1401_yeojohnson"
   ]
  },
  {
   "cell_type": "code",
   "execution_count": 103,
   "metadata": {},
   "outputs": [
    {
     "data": {
      "text/plain": [
       "MannwhitneyuResult(statistic=122594.0, pvalue=1.3230455008288734e-11)"
      ]
     },
     "execution_count": 103,
     "metadata": {},
     "output_type": "execute_result"
    }
   ],
   "source": [
    "stats.mannwhitneyu(Rural_data_income['1401'], Urban_data_income['1401'])"
   ]
  },
  {
   "cell_type": "markdown",
   "metadata": {},
   "source": [
    "#### Total"
   ]
  },
  {
   "cell_type": "code",
   "execution_count": 130,
   "metadata": {},
   "outputs": [],
   "source": [
    "Max_rural = max(Rural_data_income['number98'], Rural_data_income['number99'], Rural_data_income['number1400'], Rural_data_income['number1401'])\n",
    "Max_urban = max(Urban_data_income['number98'], Urban_data_income['number99'], Urban_data_income['number1400'], Urban_data_income['number1401'])"
   ]
  },
  {
   "cell_type": "code",
   "execution_count": 156,
   "metadata": {},
   "outputs": [],
   "source": [
    "Total_number_Rural = Rural_data_income['number98'] + Rural_data_income['number99'] + Rural_data_income['number1400'] + Rural_data_income['number1401']\n",
    "Total_Rural = ((Rural_data_income['98'] * Rural_data_income['number98']).reindex(range(Max_rural), fill_value=0) + \\\n",
    "    (Rural_data_income['99'] * Rural_data_income['number99']).reindex(range(Max_rural), fill_value=0) + \\\n",
    "    (Rural_data_income['1400'] * Rural_data_income['number1400']).reindex(range(Max_rural), fill_value=0) + \\\n",
    "    (Rural_data_income['1401'] * Rural_data_income['number1401']).reindex(range(Max_rural), fill_value=0)) / Total_number_Rural"
   ]
  },
  {
   "cell_type": "code",
   "execution_count": 155,
   "metadata": {},
   "outputs": [],
   "source": [
    "Total_number_Urban = Urban_data_income['number98'] + Urban_data_income['number99'] + Urban_data_income['number1400'] + Urban_data_income['number1401']\n",
    "Total_Urban = ((Urban_data_income['98'] * Urban_data_income['number98']).reindex(range(Max_urban), fill_value=0) + \\\n",
    "    (Urban_data_income['99'] * Urban_data_income['number99']).reindex(range(Max_urban), fill_value=0) + \\\n",
    "    (Urban_data_income['1400'] * Urban_data_income['number1400']).reindex(range(Max_urban), fill_value=0) + \\\n",
    "    (Urban_data_income['1401'] * Urban_data_income['number1401']).reindex(range(Max_urban), fill_value=0)) / Total_number_Rural"
   ]
  },
  {
   "cell_type": "code",
   "execution_count": 158,
   "metadata": {},
   "outputs": [
    {
     "data": {
      "text/plain": [
       "(ShapiroResult(statistic=0.021432289109404534, pvalue=3.9906999626435666e-44),\n",
       " ShapiroResult(statistic=0.016875153804942977, pvalue=2.5828169570580004e-49))"
      ]
     },
     "execution_count": 158,
     "metadata": {},
     "output_type": "execute_result"
    }
   ],
   "source": [
    "shapiro_Total_Rural = stats.shapiro(Total_Rural)\n",
    "shapiro_Total_Urban = stats.shapiro(Total_Urban)\n",
    "shapiro_Total_Rural, shapiro_Total_Urban"
   ]
  },
  {
   "cell_type": "code",
   "execution_count": 161,
   "metadata": {},
   "outputs": [
    {
     "data": {
      "text/plain": [
       "(ShapiroResult(statistic=0.9363347933081786, pvalue=1.2358352039299714e-13),\n",
       " ShapiroResult(statistic=0.8022620221147078, pvalue=1.4949787500890964e-27))"
      ]
     },
     "execution_count": 161,
     "metadata": {},
     "output_type": "execute_result"
    }
   ],
   "source": [
    "R_Total_yeojohnson , _ = stats.yeojohnson(Total_Rural)\n",
    "U_Total_yeojohnson , _ = stats.yeojohnson(Total_Urban)\n",
    "shapiro_R_Total_yeojohnson = stats.shapiro(R_Total_yeojohnson)\n",
    "shapiro_U_Total_yeojohnson = stats.shapiro(U_Total_yeojohnson)\n",
    "shapiro_R_Total_yeojohnson, shapiro_U_Total_yeojohnson"
   ]
  },
  {
   "cell_type": "code",
   "execution_count": 163,
   "metadata": {},
   "outputs": [
    {
     "data": {
      "text/plain": [
       "MannwhitneyuResult(statistic=50155.0, pvalue=5.822205629175404e-89)"
      ]
     },
     "execution_count": 163,
     "metadata": {},
     "output_type": "execute_result"
    }
   ],
   "source": [
    "stats.mannwhitneyu(Total_Rural, Total_Urban)"
   ]
  },
  {
   "cell_type": "markdown",
   "metadata": {},
   "source": [
    "با توجه به نتایج میشه با درصد اطمینان بالایی گفت که درامد این دو گروه با هم برابر چه در به تفکیک سال و چه در طول 4 سال برابر نیست"
   ]
  }
 ],
 "metadata": {
  "kernelspec": {
   "display_name": "bootcamp",
   "language": "python",
   "name": "python3"
  },
  "language_info": {
   "codemirror_mode": {
    "name": "ipython",
    "version": 3
   },
   "file_extension": ".py",
   "mimetype": "text/x-python",
   "name": "python",
   "nbconvert_exporter": "python",
   "pygments_lexer": "ipython3",
   "version": "3.9.18"
  }
 },
 "nbformat": 4,
 "nbformat_minor": 2
}
