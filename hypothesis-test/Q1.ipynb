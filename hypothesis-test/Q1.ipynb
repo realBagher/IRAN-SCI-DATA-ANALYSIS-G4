{
 "cells": [
  {
   "cell_type": "code",
   "execution_count": 1,
   "metadata": {},
   "outputs": [],
   "source": [
    "import numpy as np\n",
    "import pandas as pd\n",
    "from scipy import stats\n",
    "import matplotlib.pylab as plt"
   ]
  },
  {
   "cell_type": "code",
   "execution_count": 2,
   "metadata": {},
   "outputs": [],
   "source": [
    "def load_data_Urbun(sheet):\n",
    "    df_urban = {}\n",
    "    years = ['98', '99', '1400', '1401']\n",
    "    for year in years:\n",
    "        file_name = f'U{year}.xlsx'\n",
    "        sheet_name = f'U{year}{sheet}'\n",
    "        df = pd.read_excel(file_name, sheet_name = sheet_name)\n",
    "        df_urban[f'U{year}'] = df\n",
    "    return df_urban"
   ]
  },
  {
   "cell_type": "code",
   "execution_count": 3,
   "metadata": {},
   "outputs": [],
   "source": [
    "def load_data_Rural(sheet):\n",
    "    df_Rural = {}\n",
    "    years = ['98', '99', '1400', '1401']\n",
    "    for year in years:\n",
    "        file_name = f'R{year}.xlsx'\n",
    "        sheet_name = f'R{year}{sheet}'\n",
    "        df = pd.read_excel(file_name, sheet_name = sheet_name)\n",
    "        df_Rural[f'R{year}'] = df\n",
    "    return df_Rural"
   ]
  },
  {
   "cell_type": "code",
   "execution_count": 4,
   "metadata": {},
   "outputs": [],
   "source": [
    "Rural_Data = load_data_Rural('Data')\n",
    "Urbun_Data = load_data_Urbun('Data')"
   ]
  },
  {
   "cell_type": "code",
   "execution_count": 5,
   "metadata": {},
   "outputs": [],
   "source": [
    "Rural_data_income_paid_jobs = load_data_Rural('P4S01')\n",
    "Urbun_data_income_paid_jobs = load_data_Urbun('P4S01')"
   ]
  },
  {
   "cell_type": "code",
   "execution_count": 6,
   "metadata": {},
   "outputs": [],
   "source": [
    "Rural_data_income_freelance_jobs = load_data_Rural('P4S02')\n",
    "Urbun_data_income_freelance_jobs = load_data_Urbun('P4S02')"
   ]
  },
  {
   "cell_type": "code",
   "execution_count": 7,
   "metadata": {},
   "outputs": [],
   "source": [
    "Rural_data_income_Miscellaneous = load_data_Rural('P4S03')\n",
    "Urbun_data_income_Miscellaneous = load_data_Urbun('P4S03')"
   ]
  },
  {
   "cell_type": "code",
   "execution_count": 8,
   "metadata": {},
   "outputs": [],
   "source": [
    "Rural_data_income_subsidy = load_data_Rural('P4S04')\n",
    "Urbun_data_income_subsidy = load_data_Urbun('P4S04')"
   ]
  },
  {
   "cell_type": "code",
   "execution_count": 9,
   "metadata": {},
   "outputs": [],
   "source": [
    "Selected_address = {}\n",
    "for key, value in Rural_Data.items():\n",
    "    Selected_address[key] = value[value['province'] == 'CharmahalBakhtiari']['Address'].unique()\n",
    "\n",
    "for key, value in Urbun_Data.items():\n",
    "    Selected_address[key] = value[value['province'] == 'CharmahalBakhtiari']['Address'].unique()"
   ]
  },
  {
   "cell_type": "code",
   "execution_count": 10,
   "metadata": {},
   "outputs": [],
   "source": [
    "# Paid jobs\n",
    "for key, value in Rural_data_income_paid_jobs.items():\n",
    "    Rural_data_income_paid_jobs[key] = value[value['Address'].isin(Selected_address[key])]\n",
    "for key, value in Urbun_data_income_paid_jobs.items():\n",
    "    Urbun_data_income_paid_jobs[key] = value[value['Address'].isin(Selected_address[key])]\n",
    "\n",
    "# Freelance jobs\n",
    "for key, value in Rural_data_income_freelance_jobs.items():\n",
    "    Rural_data_income_freelance_jobs[key] = value[value['Address'].isin(Selected_address[key])]\n",
    "for key, value in Urbun_data_income_freelance_jobs.items():\n",
    "    Urbun_data_income_freelance_jobs[key] = value[value['Address'].isin(Selected_address[key])]\n",
    "\n",
    "# Miscellaneous\n",
    "for key, value in Rural_data_income_Miscellaneous.items():\n",
    "    Rural_data_income_Miscellaneous[key] = value[value['Address'].isin(Selected_address[key])]\n",
    "for key, value in Urbun_data_income_Miscellaneous.items():\n",
    "    Urbun_data_income_Miscellaneous[key] = value[value['Address'].isin(Selected_address[key])]\n",
    "\n",
    "# Subsidy\n",
    "for key, value in Rural_data_income_subsidy.items():\n",
    "    Rural_data_income_subsidy[key] = value[value['Address'].isin(Selected_address[key])]\n",
    "for key, value in Urbun_data_income_subsidy.items():\n",
    "    Urbun_data_income_subsidy[key] = value[value['Address'].isin(Selected_address[key])]"
   ]
  },
  {
   "cell_type": "code",
   "execution_count": 11,
   "metadata": {},
   "outputs": [],
   "source": [
    "Urbun_data_income_freelance_jobs['U1401']['income_s_y'] = Urbun_data_income_freelance_jobs['U1401']['income_s_y'].astype('float')"
   ]
  },
  {
   "cell_type": "code",
   "execution_count": 12,
   "metadata": {},
   "outputs": [],
   "source": [
    "Rural_data_income_freelance_jobs['R1401'].loc[1571, 'income_s_y'] = '0'"
   ]
  },
  {
   "cell_type": "code",
   "execution_count": 13,
   "metadata": {},
   "outputs": [],
   "source": [
    "Rural_data_income_freelance_jobs['R1401']['income_s_y'] = Rural_data_income_freelance_jobs['R1401']['income_s_y'].astype('float')"
   ]
  },
  {
   "cell_type": "markdown",
   "metadata": {},
   "source": [
    "#### Group By"
   ]
  },
  {
   "cell_type": "code",
   "execution_count": 14,
   "metadata": {},
   "outputs": [],
   "source": [
    "# Paid Jobs\n",
    "paid_jobs = {}\n",
    "for key, value in Rural_data_income_paid_jobs.items():\n",
    "    paid_jobs[key] = value.groupby('Address')[['netincome_w_y']].agg('sum').reset_index()\n",
    "for key, value in Urbun_data_income_paid_jobs.items():\n",
    "    paid_jobs[key] = value.groupby('Address')[['netincome_w_y']].agg('sum').reset_index()\n",
    "    \n",
    "# Freelance Jobs\n",
    "Freelance_Jobs = {}\n",
    "for key, value in Rural_data_income_freelance_jobs.items() :\n",
    "    Freelance_Jobs[key] = value.groupby('Address')[['income_s_y']].agg('sum').reset_index()\n",
    "for key, value in Urbun_data_income_freelance_jobs.items() :\n",
    "    Freelance_Jobs[key] = value.groupby('Address')[['income_s_y']].agg('sum').reset_index()\n",
    "    \n",
    "# Miscellaneous\n",
    "Miscellaneous = {}\n",
    "selected_columns = ['income_pension', 'income_rent', 'income_interest', 'income_aid', 'income_resale', 'income_transfer']\n",
    "for key in Rural_data_income_Miscellaneous.keys():\n",
    "    Miscellaneous[key] = Rural_data_income_Miscellaneous[key].groupby('Address')[selected_columns].agg('sum').reset_index()\n",
    "for key in Urbun_data_income_Miscellaneous.keys():\n",
    "    Miscellaneous[key] = Urbun_data_income_Miscellaneous[key].groupby('Address')[selected_columns].agg('sum').reset_index()\n",
    "    \n",
    "# Subsidy \n",
    "Subsidy = {}\n",
    "for key, value in Rural_data_income_subsidy.items():\n",
    "    Subsidy[key] = value.groupby('Address')[['subsidy']].agg('sum').reset_index()\n",
    "for key, value in Urbun_data_income_subsidy.items():\n",
    "    Subsidy[key] = value.groupby('Address')[['subsidy']].agg('sum').reset_index()"
   ]
  },
  {
   "cell_type": "code",
   "execution_count": 15,
   "metadata": {},
   "outputs": [],
   "source": [
    "def process_income_data_Urbun(years):\n",
    "    ans = {}\n",
    "    for year in years :\n",
    "        \n",
    "        df = paid_jobs[f'U{year}'].merge(Freelance_Jobs[f'U{year}'], how = 'outer')\n",
    "\n",
    "        df = df.merge(Miscellaneous[f'U{year}'], how = 'outer')\n",
    "\n",
    "        df = df.merge(Subsidy[f'U{year}'], how='outer')\n",
    "        \n",
    "        ans[f'number{year}'] = df['Address'].nunique()\n",
    "\n",
    "        df = df.drop(columns='Address')\n",
    "\n",
    "        df.dropna(how='all', inplace=True)\n",
    "\n",
    "        df.fillna(0, inplace=True)\n",
    "\n",
    "        df = df.astype('float')\n",
    "\n",
    "        df = df.sum(axis=1)\n",
    "        \n",
    "        ans[f'{year}'] = df\n",
    "        \n",
    "    return ans"
   ]
  },
  {
   "cell_type": "code",
   "execution_count": 16,
   "metadata": {},
   "outputs": [],
   "source": [
    "def process_income_data_Rural(years):\n",
    "    ans = {}\n",
    "    for year in years :\n",
    "        \n",
    "        df = paid_jobs[f'R{year}'].merge(Freelance_Jobs[f'R{year}'], how = 'outer')\n",
    "\n",
    "        df = df.merge(Miscellaneous[f'R{year}'], how = 'outer')\n",
    "\n",
    "        df = df.merge(Subsidy[f'R{year}'], how='outer')\n",
    "        \n",
    "        ans[f'number{year}'] = df['Address'].nunique()\n",
    "\n",
    "        df = df.drop(columns='Address')\n",
    "\n",
    "        df.dropna(how='all', inplace=True)\n",
    "\n",
    "        df.fillna(0, inplace=True)\n",
    "\n",
    "        df = df.astype('float')\n",
    "\n",
    "        df = df.sum(axis=1)\n",
    "        \n",
    "        ans[f'{year}'] = df\n",
    "            \n",
    "    return ans"
   ]
  },
  {
   "cell_type": "code",
   "execution_count": 17,
   "metadata": {},
   "outputs": [],
   "source": [
    "years = ['98', '99', '1400', '1401']\n",
    "Urban_data_income = process_income_data_Urbun(years)\n",
    "Rural_data_income = process_income_data_Rural(years)"
   ]
  },
  {
   "cell_type": "markdown",
   "metadata": {},
   "source": [
    "#### تابع حذف داده های پرت"
   ]
  },
  {
   "cell_type": "code",
   "execution_count": 18,
   "metadata": {},
   "outputs": [],
   "source": [
    "def zscore(data) :\n",
    "    z_scores = np.abs(stats.zscore(data))\n",
    "    return data[z_scores < 3]"
   ]
  },
  {
   "cell_type": "code",
   "execution_count": 19,
   "metadata": {},
   "outputs": [],
   "source": [
    "def IQR(data) :\n",
    "    Q1 = np.percentile(data, 25)\n",
    "    Q3 = np.percentile(data, 75)\n",
    "    IQR = Q3 - Q1\n",
    "    lower_bound = Q1 - 1.5 * IQR\n",
    "    upper_bound = Q3 + 1.5 * IQR\n",
    "    return data[(data >= lower_bound) & (data <= upper_bound)]"
   ]
  },
  {
   "cell_type": "markdown",
   "metadata": {},
   "source": [
    "### فرضیات\n",
    "\n",
    "- **H0**: درآمد خانوارهای شهری و روستایی در استان چهارمحال و بختیاری با هم برابر است\n",
    "- **H1**: درآمد خانوارهای شهری و روستایی در استان چهارمحال و بختیاری با هم برابر نیست\n"
   ]
  },
  {
   "cell_type": "markdown",
   "metadata": {},
   "source": [
    "#### 98"
   ]
  },
  {
   "cell_type": "code",
   "execution_count": 20,
   "metadata": {},
   "outputs": [
    {
     "data": {
      "image/png": "[encoded data removed]",
      "text/plain": [
       "<Figure size 2000x800 with 2 Axes>"
      ]
     },
     "metadata": {},
     "output_type": "display_data"
    }
   ],
   "source": [
    "plt.figure(figsize=(20, 8))\n",
    "plt.subplot(1,2,1)\n",
    "plt.boxplot(Rural_data_income['98'])\n",
    "plt.subplot(1,2,2)\n",
    "plt.boxplot(Urban_data_income['98'])\n",
    "plt.show()"
   ]
  },
  {
   "cell_type": "code",
   "execution_count": 21,
   "metadata": {},
   "outputs": [],
   "source": [
    "IQR_R98 = IQR(Rural_data_income['98'])\n",
    "IQR_U98 = IQR(Urban_data_income['98'])"
   ]
  },
  {
   "cell_type": "code",
   "execution_count": 22,
   "metadata": {},
   "outputs": [
    {
     "data": {
      "text/plain": [
       "(ShapiroResult(statistic=0.9695749359371229, pvalue=4.854370845097498e-08),\n",
       " ShapiroResult(statistic=0.9694085006428471, pvalue=7.128858497174088e-10))"
      ]
     },
     "execution_count": 22,
     "metadata": {},
     "output_type": "execute_result"
    }
   ],
   "source": [
    "shapiro_R98_zscore = stats.shapiro(IQR_R98)\n",
    "shapiro_U98_zscore = stats.shapiro(IQR_U98)\n",
    "shapiro_R98_zscore, shapiro_U98_zscore"
   ]
  },
  {
   "cell_type": "code",
   "execution_count": 23,
   "metadata": {},
   "outputs": [
    {
     "data": {
      "text/plain": [
       "(ShapiroResult(statistic=0.9724520359438084, pvalue=1.7486708453719201e-07),\n",
       " ShapiroResult(statistic=0.9744589857723119, pvalue=9.814519444952501e-09))"
      ]
     },
     "execution_count": 23,
     "metadata": {},
     "output_type": "execute_result"
    }
   ],
   "source": [
    "R_98_yeojohnson , _ = stats.yeojohnson(IQR_R98)\n",
    "U_98_yeojohnson , _ = stats.yeojohnson(IQR_U98)\n",
    "shapiro_R_98_yeojohnson = stats.shapiro(R_98_yeojohnson)\n",
    "shapiro_U_98_yeojohnson = stats.shapiro(U_98_yeojohnson)\n",
    "shapiro_R_98_yeojohnson, shapiro_U_98_yeojohnson"
   ]
  },
  {
   "cell_type": "code",
   "execution_count": 24,
   "metadata": {},
   "outputs": [
    {
     "data": {
      "text/plain": [
       "MannwhitneyuResult(statistic=91544.5, pvalue=4.536052828866004e-19)"
      ]
     },
     "execution_count": 24,
     "metadata": {},
     "output_type": "execute_result"
    }
   ],
   "source": [
    "stats.mannwhitneyu(IQR_R98, IQR_U98)"
   ]
  },
  {
   "cell_type": "markdown",
   "metadata": {},
   "source": [
    "#### 99"
   ]
  },
  {
   "cell_type": "code",
   "execution_count": 25,
   "metadata": {},
   "outputs": [
    {
     "data": {
      "image/png": "[encoded data removed]",
      "text/plain": [
       "<Figure size 2000x800 with 2 Axes>"
      ]
     },
     "metadata": {},
     "output_type": "display_data"
    }
   ],
   "source": [
    "plt.figure(figsize=(20, 8))\n",
    "plt.subplot(1,2,1)\n",
    "plt.boxplot(Rural_data_income['99'])\n",
    "plt.subplot(1,2,2)\n",
    "plt.boxplot(Urban_data_income['99'])\n",
    "plt.show()"
   ]
  },
  {
   "cell_type": "code",
   "execution_count": 26,
   "metadata": {},
   "outputs": [],
   "source": [
    "IQR_R99 = IQR(Rural_data_income['99'])\n",
    "IQR_U99 = IQR(Urban_data_income['99'])"
   ]
  },
  {
   "cell_type": "code",
   "execution_count": 27,
   "metadata": {},
   "outputs": [
    {
     "data": {
      "text/plain": [
       "(ShapiroResult(statistic=0.9539711277083858, pvalue=8.468508124234937e-11),\n",
       " ShapiroResult(statistic=0.9555071578193729, pvalue=4.702831391210644e-12))"
      ]
     },
     "execution_count": 27,
     "metadata": {},
     "output_type": "execute_result"
    }
   ],
   "source": [
    "shapiro_R_99 = stats.shapiro(IQR_R99)\n",
    "shapiro_U_99 = stats.shapiro(IQR_U99)\n",
    "shapiro_R_99, shapiro_U_99"
   ]
  },
  {
   "cell_type": "code",
   "execution_count": 28,
   "metadata": {},
   "outputs": [
    {
     "data": {
      "text/plain": [
       "(ShapiroResult(statistic=0.9869211896510252, pvalue=0.00037147103924328723),\n",
       " ShapiroResult(statistic=0.992634081287441, pvalue=0.0067981050332185655))"
      ]
     },
     "execution_count": 28,
     "metadata": {},
     "output_type": "execute_result"
    }
   ],
   "source": [
    "R_99_yeojohnson , _ = stats.yeojohnson(IQR_R99)\n",
    "U_99_yeojohnson , _ = stats.yeojohnson(IQR_U99)\n",
    "shapiro_R_99_yeojohnson = stats.shapiro(R_99_yeojohnson)\n",
    "shapiro_U_99_yeojohnson = stats.shapiro(U_99_yeojohnson)\n",
    "shapiro_R_99_yeojohnson, shapiro_U_99_yeojohnson"
   ]
  },
  {
   "cell_type": "code",
   "execution_count": 29,
   "metadata": {},
   "outputs": [
    {
     "data": {
      "text/plain": [
       "(ShapiroResult(statistic=0.9432381388956175, pvalue=2.813102644502228e-12),\n",
       " ShapiroResult(statistic=0.9289784230269206, pvalue=9.646035119854514e-16))"
      ]
     },
     "execution_count": 29,
     "metadata": {},
     "output_type": "execute_result"
    }
   ],
   "source": [
    "R_99_log = np.log(IQR_R99)\n",
    "U_99_log = np.log(IQR_U99)\n",
    "shapiro_R_99_log = stats.shapiro(R_99_log)\n",
    "shapiro_U_99_log = stats.shapiro(U_99_log)\n",
    "shapiro_R_99_log, shapiro_U_99_log"
   ]
  },
  {
   "cell_type": "code",
   "execution_count": 30,
   "metadata": {},
   "outputs": [
    {
     "data": {
      "text/plain": [
       "(ShapiroResult(statistic=0.9870610169686036, pvalue=0.00040775237522980626),\n",
       " ShapiroResult(statistic=0.992592954410007, pvalue=0.006546715496329971))"
      ]
     },
     "execution_count": 30,
     "metadata": {},
     "output_type": "execute_result"
    }
   ],
   "source": [
    "R_99_sqrt = np.sqrt(IQR_R99)\n",
    "U_99_sqrt = np.sqrt(IQR_U99)\n",
    "shapiro_R_99_sqrt = stats.shapiro(R_99_sqrt)\n",
    "shapiro_U_99_sqrt = stats.shapiro(U_99_sqrt)\n",
    "shapiro_R_99_sqrt, shapiro_U_99_sqrt"
   ]
  },
  {
   "cell_type": "code",
   "execution_count": 31,
   "metadata": {},
   "outputs": [
    {
     "data": {
      "text/plain": [
       "MannwhitneyuResult(statistic=99893.0, pvalue=7.735062470758539e-11)"
      ]
     },
     "execution_count": 31,
     "metadata": {},
     "output_type": "execute_result"
    }
   ],
   "source": [
    "stats.mannwhitneyu(IQR_R99, IQR_U99)"
   ]
  },
  {
   "cell_type": "markdown",
   "metadata": {},
   "source": [
    "#### 1400"
   ]
  },
  {
   "cell_type": "code",
   "execution_count": 32,
   "metadata": {},
   "outputs": [
    {
     "data": {
      "image/png": "[encoded data removed]",
      "text/plain": [
       "<Figure size 2000x800 with 2 Axes>"
      ]
     },
     "metadata": {},
     "output_type": "display_data"
    }
   ],
   "source": [
    "plt.figure(figsize=(20, 8))\n",
    "plt.subplot(1,2,1)\n",
    "plt.boxplot(Rural_data_income['1400'])\n",
    "plt.subplot(1,2,2)\n",
    "plt.boxplot(Urban_data_income['1400'])\n",
    "plt.show()"
   ]
  },
  {
   "cell_type": "code",
   "execution_count": 33,
   "metadata": {},
   "outputs": [],
   "source": [
    "zscore_R1400 = zscore(Rural_data_income['1400'])\n",
    "zscore_U1400 = zscore(Urban_data_income['1400'])"
   ]
  },
  {
   "cell_type": "code",
   "execution_count": 34,
   "metadata": {},
   "outputs": [
    {
     "data": {
      "text/plain": [
       "(ShapiroResult(statistic=0.7163183916826167, pvalue=5.518614957384791e-28),\n",
       " ShapiroResult(statistic=0.8576947807177788, pvalue=1.0961953574035329e-23))"
      ]
     },
     "execution_count": 34,
     "metadata": {},
     "output_type": "execute_result"
    }
   ],
   "source": [
    "shapiro_R_1400 = stats.shapiro(zscore_R1400)\n",
    "shapiro_U_1400 = stats.shapiro(zscore_U1400)\n",
    "shapiro_R_1400, shapiro_U_1400"
   ]
  },
  {
   "cell_type": "code",
   "execution_count": 35,
   "metadata": {},
   "outputs": [
    {
     "data": {
      "text/plain": [
       "(ShapiroResult(statistic=0.9756210577837451, pvalue=2.7220571608732555e-07),\n",
       " ShapiroResult(statistic=0.9878526831208875, pvalue=3.425981504140718e-05))"
      ]
     },
     "execution_count": 35,
     "metadata": {},
     "output_type": "execute_result"
    }
   ],
   "source": [
    "R_1400_yeojohnson , _ = stats.yeojohnson(zscore_R1400)\n",
    "U_1400_yeojohnson , _ = stats.yeojohnson(zscore_U1400)\n",
    "shapiro_R_1400_yeojohnson = stats.shapiro(R_1400_yeojohnson)\n",
    "shapiro_U_1400_yeojohnson = stats.shapiro(U_1400_yeojohnson)\n",
    "shapiro_R_1400_yeojohnson, shapiro_U_1400_yeojohnson"
   ]
  },
  {
   "cell_type": "code",
   "execution_count": 36,
   "metadata": {},
   "outputs": [
    {
     "data": {
      "text/plain": [
       "(ShapiroResult(statistic=0.960195409204755, pvalue=3.058193722795599e-10),\n",
       " ShapiroResult(statistic=0.9519504290182608, pvalue=1.199826949372247e-13))"
      ]
     },
     "execution_count": 36,
     "metadata": {},
     "output_type": "execute_result"
    }
   ],
   "source": [
    "R_1400_log = np.log(zscore_R1400)\n",
    "U_1400_log = np.log(zscore_U1400)\n",
    "shapiro_R_1400_log = stats.shapiro(R_1400_log)\n",
    "shapiro_U_1400_log = stats.shapiro(U_1400_log)\n",
    "shapiro_R_1400_log, shapiro_U_1400_log"
   ]
  },
  {
   "cell_type": "code",
   "execution_count": 37,
   "metadata": {},
   "outputs": [
    {
     "data": {
      "text/plain": [
       "(ShapiroResult(statistic=0.9377633679815864, pvalue=1.923339802855322e-13),\n",
       " ShapiroResult(statistic=0.9765260092670183, pvalue=1.1825361884965448e-08))"
      ]
     },
     "execution_count": 37,
     "metadata": {},
     "output_type": "execute_result"
    }
   ],
   "source": [
    "R_1400_sqrt = np.sqrt(zscore_R1400)\n",
    "U_1400_sqrt = np.sqrt(zscore_U1400)\n",
    "shapiro_R_1400_sqrt = stats.shapiro(R_1400_sqrt)\n",
    "shapiro_U_1400_sqrt = stats.shapiro(U_1400_sqrt)\n",
    "shapiro_R_1400_sqrt, shapiro_U_1400_sqrt"
   ]
  },
  {
   "cell_type": "code",
   "execution_count": 38,
   "metadata": {},
   "outputs": [
    {
     "data": {
      "text/plain": [
       "MannwhitneyuResult(statistic=120637.5, pvalue=8.195394402111878e-12)"
      ]
     },
     "execution_count": 38,
     "metadata": {},
     "output_type": "execute_result"
    }
   ],
   "source": [
    "stats.mannwhitneyu(zscore_R1400, zscore_U1400)"
   ]
  },
  {
   "cell_type": "markdown",
   "metadata": {},
   "source": [
    "#### 1401"
   ]
  },
  {
   "cell_type": "code",
   "execution_count": 39,
   "metadata": {},
   "outputs": [
    {
     "data": {
      "image/png": "[encoded data removed]",
      "text/plain": [
       "<Figure size 2000x800 with 2 Axes>"
      ]
     },
     "metadata": {},
     "output_type": "display_data"
    }
   ],
   "source": [
    "plt.figure(figsize=(20, 8))\n",
    "plt.subplot(1,2,1)\n",
    "plt.boxplot(Rural_data_income['1401'])\n",
    "plt.subplot(1,2,2)\n",
    "plt.boxplot(Urban_data_income['1401'])\n",
    "plt.show()"
   ]
  },
  {
   "cell_type": "code",
   "execution_count": 40,
   "metadata": {},
   "outputs": [],
   "source": [
    "zscore_R1401 = zscore(Rural_data_income['1401'])\n",
    "zscore_U1401 = zscore(Urban_data_income['1401'])"
   ]
  },
  {
   "cell_type": "code",
   "execution_count": 41,
   "metadata": {},
   "outputs": [
    {
     "data": {
      "text/plain": [
       "(ShapiroResult(statistic=0.9513016225054542, pvalue=2.0501622579656695e-11),\n",
       " ShapiroResult(statistic=0.9580054985568499, pvalue=1.2374867602117966e-12))"
      ]
     },
     "execution_count": 41,
     "metadata": {},
     "output_type": "execute_result"
    }
   ],
   "source": [
    "shapiro_R_1401 = stats.shapiro(zscore_R1401)\n",
    "shapiro_U_1401 = stats.shapiro(zscore_U1401)\n",
    "shapiro_R_1401, shapiro_U_1401"
   ]
  },
  {
   "cell_type": "code",
   "execution_count": 42,
   "metadata": {},
   "outputs": [
    {
     "data": {
      "text/plain": [
       "(ShapiroResult(statistic=0.9942320336046471, pvalue=0.06895674262356004),\n",
       " ShapiroResult(statistic=0.9955206253859065, pvalue=0.059015209160800386))"
      ]
     },
     "execution_count": 42,
     "metadata": {},
     "output_type": "execute_result"
    }
   ],
   "source": [
    "R_1401_yeojohnson , _ = stats.yeojohnson(zscore_R1401)\n",
    "U_1401_yeojohnson , _ = stats.yeojohnson(zscore_U1401)\n",
    "shapiro_R_1401_yeojohnson = stats.shapiro(R_1401_yeojohnson)\n",
    "shapiro_U_1401_yeojohnson = stats.shapiro(U_1401_yeojohnson)\n",
    "shapiro_R_1401_yeojohnson, shapiro_U_1401_yeojohnson"
   ]
  },
  {
   "cell_type": "code",
   "execution_count": 43,
   "metadata": {},
   "outputs": [
    {
     "data": {
      "text/plain": [
       "TtestResult(statistic=-40.92253932709008, pvalue=1.0915159835703472e-224, df=1121.0)"
      ]
     },
     "execution_count": 43,
     "metadata": {},
     "output_type": "execute_result"
    }
   ],
   "source": [
    "stats.ttest_ind(R_1401_yeojohnson, U_1401_yeojohnson)"
   ]
  },
  {
   "cell_type": "markdown",
   "metadata": {},
   "source": [
    "#### Total"
   ]
  },
  {
   "cell_type": "code",
   "execution_count": 44,
   "metadata": {},
   "outputs": [],
   "source": [
    "df_U = paid_jobs[f'U98'].merge(Freelance_Jobs[f'U98'], how = 'outer')\n",
    "\n",
    "df_U = df_U.merge(Miscellaneous[f'U98'], how = 'outer')\n",
    "\n",
    "df_U = df_U.merge(Subsidy[f'U98'], how='outer')\n",
    "\n",
    "df_U = df_U.merge(paid_jobs[f'U99'], how = 'outer')\n",
    "\n",
    "df_U = df_U.merge(Freelance_Jobs[f'U99'], how = 'outer')\n",
    "\n",
    "df_U = df_U.merge(Miscellaneous[f'U99'], how = 'outer')\n",
    "\n",
    "df_U = df_U.merge(Subsidy[f'U99'], how='outer')\n",
    "\n",
    "df_U = df_U.merge(paid_jobs[f'U1400'], how = 'outer')\n",
    "\n",
    "df_U = df_U.merge(Freelance_Jobs[f'U1400'], how = 'outer')\n",
    "\n",
    "df_U = df_U.merge(Miscellaneous[f'U1400'], how = 'outer')\n",
    "\n",
    "df_U = df_U.merge(Subsidy[f'U1400'], how='outer')\n",
    "\n",
    "df_U = df_U.merge(paid_jobs[f'U1401'], how = 'outer')\n",
    "\n",
    "df_U = df_U.merge(Freelance_Jobs[f'U1401'], how = 'outer')\n",
    "\n",
    "df_U = df_U.merge(Miscellaneous[f'U1401'], how = 'outer')\n",
    "\n",
    "df_U = df_U.merge(Subsidy[f'U1401'], how='outer')"
   ]
  },
  {
   "cell_type": "code",
   "execution_count": 45,
   "metadata": {},
   "outputs": [],
   "source": [
    "Total_Urban = df_U.drop(columns='Address').fillna(0).astype('float').sum(axis = 1)"
   ]
  },
  {
   "cell_type": "code",
   "execution_count": 46,
   "metadata": {},
   "outputs": [],
   "source": [
    "df_R = paid_jobs[f'R98'].merge(Freelance_Jobs[f'R98'], how = 'outer')\n",
    "\n",
    "df_R = df_R.merge(Miscellaneous[f'R98'], how = 'outer')\n",
    "\n",
    "df_R = df_R.merge(Subsidy[f'R98'], how='outer')\n",
    "\n",
    "df_R = df_R.merge(paid_jobs[f'R99'], how = 'outer')\n",
    "\n",
    "df_R = df_R.merge(Freelance_Jobs[f'R99'], how = 'outer')\n",
    "\n",
    "df_R = df_R.merge(Miscellaneous[f'R99'], how = 'outer')\n",
    "\n",
    "df_R = df_R.merge(Subsidy[f'R99'], how='outer')\n",
    "\n",
    "df_R = df_R.merge(paid_jobs[f'R1400'], how = 'outer')\n",
    "\n",
    "df_R = df_R.merge(Freelance_Jobs[f'R1400'], how = 'outer')\n",
    "\n",
    "df_R = df_R.merge(Miscellaneous[f'R1400'], how = 'outer')\n",
    "\n",
    "df_R = df_R.merge(Subsidy[f'R1400'], how='outer')\n",
    "\n",
    "df_R = df_R.merge(paid_jobs[f'R1401'], how = 'outer')\n",
    "\n",
    "df_R = df_R.merge(Freelance_Jobs[f'R1401'], how = 'outer')\n",
    "\n",
    "df_R = df_R.merge(Miscellaneous[f'R1401'], how = 'outer')\n",
    "\n",
    "df_R = df_R.merge(Subsidy[f'R1401'], how='outer')"
   ]
  },
  {
   "cell_type": "code",
   "execution_count": 47,
   "metadata": {},
   "outputs": [],
   "source": [
    "Total_Rural = df_R.drop(columns='Address').fillna(0).astype('float').sum(axis = 1)"
   ]
  },
  {
   "cell_type": "code",
   "execution_count": 48,
   "metadata": {},
   "outputs": [
    {
     "data": {
      "image/png": "[encoded data removed]",
      "text/plain": [
       "<Figure size 2000x800 with 2 Axes>"
      ]
     },
     "metadata": {},
     "output_type": "display_data"
    }
   ],
   "source": [
    "plt.figure(figsize=(20, 8))\n",
    "plt.subplot(1,2,1)\n",
    "plt.boxplot(Total_Rural)\n",
    "plt.subplot(1,2,2)\n",
    "plt.boxplot(Total_Urban)\n",
    "plt.show()"
   ]
  },
  {
   "cell_type": "code",
   "execution_count": 49,
   "metadata": {},
   "outputs": [],
   "source": [
    "IQR_TotalR = IQR(Total_Rural)\n",
    "IQR_TotalU = IQR(Total_Urban)"
   ]
  },
  {
   "cell_type": "code",
   "execution_count": 50,
   "metadata": {},
   "outputs": [
    {
     "name": "stderr",
     "output_type": "stream",
     "text": [
      "d:\\miniconda3\\envs\\bootcamp\\lib\\site-packages\\scipy\\stats\\_axis_nan_policy.py:531: UserWarning: scipy.stats.shapiro: For N > 5000, computed p-value may not be accurate. Current N is 5587.\n",
      "  res = hypotest_fun_out(*samples, **kwds)\n"
     ]
    },
    {
     "data": {
      "text/plain": [
       "(ShapiroResult(statistic=0.806118756850325, pvalue=2.2545376542355593e-58),\n",
       " ShapiroResult(statistic=0.8083006174091828, pvalue=4.527452338808266e-63))"
      ]
     },
     "execution_count": 50,
     "metadata": {},
     "output_type": "execute_result"
    }
   ],
   "source": [
    "shapiro_Total_Rural = stats.shapiro(IQR_TotalR)\n",
    "shapiro_Total_Urban = stats.shapiro(IQR_TotalU)\n",
    "shapiro_Total_Rural, shapiro_Total_Urban"
   ]
  },
  {
   "cell_type": "code",
   "execution_count": 51,
   "metadata": {},
   "outputs": [
    {
     "data": {
      "text/plain": [
       "(ShapiroResult(statistic=0.8052094479922515, pvalue=1.8509361813540938e-58),\n",
       " ShapiroResult(statistic=0.8077533065573452, pvalue=3.9915014654052704e-63))"
      ]
     },
     "execution_count": 51,
     "metadata": {},
     "output_type": "execute_result"
    }
   ],
   "source": [
    "R_Total_yeojohnson , _ = stats.yeojohnson(IQR_TotalR)\n",
    "U_Total_yeojohnson , _ = stats.yeojohnson(IQR_TotalU)\n",
    "shapiro_R_Total_yeojohnson = stats.shapiro(R_Total_yeojohnson)\n",
    "shapiro_U_Total_yeojohnson = stats.shapiro(U_Total_yeojohnson)\n",
    "shapiro_R_Total_yeojohnson, shapiro_U_Total_yeojohnson"
   ]
  },
  {
   "cell_type": "code",
   "execution_count": 52,
   "metadata": {},
   "outputs": [
    {
     "data": {
      "text/plain": [
       "MannwhitneyuResult(statistic=11206427.0, pvalue=1.540464260125883e-13)"
      ]
     },
     "execution_count": 52,
     "metadata": {},
     "output_type": "execute_result"
    }
   ],
   "source": [
    "stats.mannwhitneyu(IQR_TotalR, IQR_TotalU)"
   ]
  },
  {
   "cell_type": "markdown",
   "metadata": {},
   "source": [
    "با توجه به نتایج میشه با درصد اطمینان بالایی گفت که درامد این دو گروه با هم برابر نیست چه در به تفکیک سال و چه در طول 4 سال"
   ]
  }
 ],
 "metadata": {
  "kernelspec": {
   "display_name": "bootcamp",
   "language": "python",
   "name": "python3"
  },
  "language_info": {
   "codemirror_mode": {
    "name": "ipython",
    "version": 3
   },
   "file_extension": ".py",
   "mimetype": "text/x-python",
   "name": "python",
   "nbconvert_exporter": "python",
   "pygments_lexer": "ipython3",
   "version": "3.9.18"
  }
 },
 "nbformat": 4,
 "nbformat_minor": 2
}
