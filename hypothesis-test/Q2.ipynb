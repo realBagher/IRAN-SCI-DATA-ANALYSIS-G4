{
 "cells": [
  {
   "cell_type": "code",
   "id": "7fbf60ac",
   "metadata": {
    "ExecuteTime": {
     "end_time": "2024-09-19T18:09:46.955869Z",
     "start_time": "2024-09-19T18:09:46.953791Z"
    }
   },
   "source": [
    "import pandas as pd"
   ],
   "outputs": [],
   "execution_count": 4
  },
  {
   "cell_type": "code",
   "id": "b5181ea6",
   "metadata": {
    "ExecuteTime": {
     "end_time": "2024-09-19T18:10:05.327731Z",
     "start_time": "2024-09-19T18:09:47.955035Z"
    }
   },
   "source": [
    "R98 = pd.read_excel('../datasets/R98.xlsx', sheet_name='R98P3S04')\n",
    "U98 = pd.read_excel('../datasets/U98.xlsx', sheet_name='U98P3S04')\n",
    "R99 = pd.read_excel('../datasets/R99.xlsx', sheet_name='R99P3S04')\n",
    "U99 = pd.read_excel('../datasets/U99.xlsx', sheet_name='U99P3S04')\n",
    "R1400 = pd.read_excel('../datasets/R1400.xlsx', sheet_name='R1400P3S04')\n",
    "U1400 = pd.read_excel('../datasets/U1400.xlsx', sheet_name='U1400P3S04')\n",
    "R1401 = pd.read_excel('../datasets/R1401.xlsx', sheet_name='R1401P3S04')\n",
    "U1401 = pd.read_excel('../datasets/U1401.xlsx', sheet_name='U1401P3S04')"
   ],
   "outputs": [],
   "execution_count": 5
  },
  {
   "cell_type": "code",
   "id": "b69ed7f5",
   "metadata": {
    "ExecuteTime": {
     "end_time": "2024-09-19T18:10:07.410429Z",
     "start_time": "2024-09-19T18:10:07.404158Z"
    }
   },
   "source": "R98.info()",
   "outputs": [
    {
     "name": "stdout",
     "output_type": "stream",
     "text": [
      "<class 'pandas.core.frame.DataFrame'>\n",
      "RangeIndex: 68767 entries, 0 to 68766\n",
      "Data columns (total 5 columns):\n",
      " #   Column     Non-Null Count  Dtype  \n",
      "---  ------     --------------  -----  \n",
      " 0   Address    68767 non-null  int64  \n",
      " 1   code       68767 non-null  int64  \n",
      " 2   mortgage   614 non-null    float64\n",
      " 3   purchased  52784 non-null  object \n",
      " 4   value      68767 non-null  int64  \n",
      "dtypes: float64(1), int64(3), object(1)\n",
      "memory usage: 2.6+ MB\n"
     ]
    }
   ],
   "execution_count": 6
  },
  {
   "cell_type": "code",
   "id": "3e45cb58",
   "metadata": {
    "ExecuteTime": {
     "end_time": "2024-09-19T18:10:09.499758Z",
     "start_time": "2024-09-19T18:10:09.497744Z"
    }
   },
   "source": [
    "dataframes = ['R98', 'U98', 'R99', 'U99', 'R1400', 'U1400', 'R1401', 'U1401']"
   ],
   "outputs": [],
   "execution_count": 7
  },
  {
   "cell_type": "code",
   "id": "d56176e6",
   "metadata": {
    "ExecuteTime": {
     "end_time": "2024-09-19T18:10:48.452158Z",
     "start_time": "2024-09-19T18:10:48.445293Z"
    }
   },
   "source": [
    "for df_name in dataframes:\n",
    "    df = globals()[df_name]\n",
    "    df.drop(['mortgage', 'purchased'], axis=1, inplace=True)"
   ],
   "outputs": [],
   "execution_count": 8
  },
  {
   "cell_type": "code",
   "id": "5eaa3534",
   "metadata": {
    "ExecuteTime": {
     "end_time": "2024-09-19T18:10:50.301560Z",
     "start_time": "2024-09-19T18:10:50.291949Z"
    }
   },
   "source": [
    "R98[R98['code'] == 42212]"
   ],
   "outputs": [
    {
     "data": {
      "text/plain": [
       "           Address   code     value\n",
       "208    20007391408  42212    300000\n",
       "285    20005388614  42212    300000\n",
       "1379   20215411908  42212   9000000\n",
       "1501   20219413520  42212    450000\n",
       "1691   20210410717  42212   3000000\n",
       "...            ...    ...       ...\n",
       "68561  23002704217  42212   3000000\n",
       "68565  23002704214  42212   2100000\n",
       "68637  23006709014  42212  15000000\n",
       "68720  23002704623  42212  15000000\n",
       "68760  23006709423  42212  30000000\n",
       "\n",
       "[615 rows x 3 columns]"
      ],
      "text/html": [
       "<div>\n",
       "<style scoped>\n",
       "    .dataframe tbody tr th:only-of-type {\n",
       "        vertical-align: middle;\n",
       "    }\n",
       "\n",
       "    .dataframe tbody tr th {\n",
       "        vertical-align: top;\n",
       "    }\n",
       "\n",
       "    .dataframe thead th {\n",
       "        text-align: right;\n",
       "    }\n",
       "</style>\n",
       "<table border=\"1\" class=\"dataframe\">\n",
       "  <thead>\n",
       "    <tr style=\"text-align: right;\">\n",
       "      <th></th>\n",
       "      <th>Address</th>\n",
       "      <th>code</th>\n",
       "      <th>value</th>\n",
       "    </tr>\n",
       "  </thead>\n",
       "  <tbody>\n",
       "    <tr>\n",
       "      <th>208</th>\n",
       "      <td>20007391408</td>\n",
       "      <td>42212</td>\n",
       "      <td>300000</td>\n",
       "    </tr>\n",
       "    <tr>\n",
       "      <th>285</th>\n",
       "      <td>20005388614</td>\n",
       "      <td>42212</td>\n",
       "      <td>300000</td>\n",
       "    </tr>\n",
       "    <tr>\n",
       "      <th>1379</th>\n",
       "      <td>20215411908</td>\n",
       "      <td>42212</td>\n",
       "      <td>9000000</td>\n",
       "    </tr>\n",
       "    <tr>\n",
       "      <th>1501</th>\n",
       "      <td>20219413520</td>\n",
       "      <td>42212</td>\n",
       "      <td>450000</td>\n",
       "    </tr>\n",
       "    <tr>\n",
       "      <th>1691</th>\n",
       "      <td>20210410717</td>\n",
       "      <td>42212</td>\n",
       "      <td>3000000</td>\n",
       "    </tr>\n",
       "    <tr>\n",
       "      <th>...</th>\n",
       "      <td>...</td>\n",
       "      <td>...</td>\n",
       "      <td>...</td>\n",
       "    </tr>\n",
       "    <tr>\n",
       "      <th>68561</th>\n",
       "      <td>23002704217</td>\n",
       "      <td>42212</td>\n",
       "      <td>3000000</td>\n",
       "    </tr>\n",
       "    <tr>\n",
       "      <th>68565</th>\n",
       "      <td>23002704214</td>\n",
       "      <td>42212</td>\n",
       "      <td>2100000</td>\n",
       "    </tr>\n",
       "    <tr>\n",
       "      <th>68637</th>\n",
       "      <td>23006709014</td>\n",
       "      <td>42212</td>\n",
       "      <td>15000000</td>\n",
       "    </tr>\n",
       "    <tr>\n",
       "      <th>68720</th>\n",
       "      <td>23002704623</td>\n",
       "      <td>42212</td>\n",
       "      <td>15000000</td>\n",
       "    </tr>\n",
       "    <tr>\n",
       "      <th>68760</th>\n",
       "      <td>23006709423</td>\n",
       "      <td>42212</td>\n",
       "      <td>30000000</td>\n",
       "    </tr>\n",
       "  </tbody>\n",
       "</table>\n",
       "<p>615 rows × 3 columns</p>\n",
       "</div>"
      ]
     },
     "execution_count": 9,
     "metadata": {},
     "output_type": "execute_result"
    }
   ],
   "execution_count": 9
  },
  {
   "cell_type": "code",
   "id": "97528f6c",
   "metadata": {
    "ExecuteTime": {
     "end_time": "2024-09-19T18:10:52.464020Z",
     "start_time": "2024-09-19T18:10:52.457658Z"
    }
   },
   "source": [
    "R_concat = pd.concat([globals()[df_name] for df_name in ['R98', 'R99', 'R1400', 'R1401']])\n",
    "U_concat = pd.concat([globals()[df_name] for df_name in ['U98', 'U99', 'U1400', 'U1401']])\n"
   ],
   "outputs": [],
   "execution_count": 10
  },
  {
   "cell_type": "code",
   "id": "54e8103f",
   "metadata": {
    "ExecuteTime": {
     "end_time": "2024-09-19T18:10:54.090264Z",
     "start_time": "2024-09-19T18:10:54.086151Z"
    }
   },
   "source": [
    "R_concat.shape[0]"
   ],
   "outputs": [
    {
     "data": {
      "text/plain": [
       "275960"
      ]
     },
     "execution_count": 11,
     "metadata": {},
     "output_type": "execute_result"
    }
   ],
   "execution_count": 11
  },
  {
   "cell_type": "code",
   "id": "095a7dad",
   "metadata": {
    "ExecuteTime": {
     "end_time": "2024-09-19T18:10:54.579151Z",
     "start_time": "2024-09-19T18:10:54.576250Z"
    }
   },
   "source": [
    "R98.shape[0] +R99.shape[0]+R1400.shape[0]+R1401.shape[0] "
   ],
   "outputs": [
    {
     "data": {
      "text/plain": [
       "275960"
      ]
     },
     "execution_count": 12,
     "metadata": {},
     "output_type": "execute_result"
    }
   ],
   "execution_count": 12
  },
  {
   "cell_type": "code",
   "id": "9f5952b9",
   "metadata": {
    "ExecuteTime": {
     "end_time": "2024-09-19T18:10:59.171310Z",
     "start_time": "2024-09-19T18:10:59.155252Z"
    }
   },
   "source": [
    "R_concat.describe()"
   ],
   "outputs": [
    {
     "data": {
      "text/plain": [
       "            Address           code         value\n",
       "count  2.759600e+05  275960.000000  2.759600e+05\n",
       "mean   2.145782e+10   44074.448848  1.828731e+06\n",
       "std    9.267312e+08    1302.717077  4.127526e+06\n",
       "min    2.000138e+10   41111.000000  2.000000e+03\n",
       "25%    2.070147e+10   42212.000000  2.100000e+05\n",
       "50%    2.140455e+10   44412.000000  4.000000e+05\n",
       "75%    2.230163e+10   45211.000000  1.500000e+06\n",
       "max    2.300671e+10   45414.000000  1.500000e+08"
      ],
      "text/html": [
       "<div>\n",
       "<style scoped>\n",
       "    .dataframe tbody tr th:only-of-type {\n",
       "        vertical-align: middle;\n",
       "    }\n",
       "\n",
       "    .dataframe tbody tr th {\n",
       "        vertical-align: top;\n",
       "    }\n",
       "\n",
       "    .dataframe thead th {\n",
       "        text-align: right;\n",
       "    }\n",
       "</style>\n",
       "<table border=\"1\" class=\"dataframe\">\n",
       "  <thead>\n",
       "    <tr style=\"text-align: right;\">\n",
       "      <th></th>\n",
       "      <th>Address</th>\n",
       "      <th>code</th>\n",
       "      <th>value</th>\n",
       "    </tr>\n",
       "  </thead>\n",
       "  <tbody>\n",
       "    <tr>\n",
       "      <th>count</th>\n",
       "      <td>2.759600e+05</td>\n",
       "      <td>275960.000000</td>\n",
       "      <td>2.759600e+05</td>\n",
       "    </tr>\n",
       "    <tr>\n",
       "      <th>mean</th>\n",
       "      <td>2.145782e+10</td>\n",
       "      <td>44074.448848</td>\n",
       "      <td>1.828731e+06</td>\n",
       "    </tr>\n",
       "    <tr>\n",
       "      <th>std</th>\n",
       "      <td>9.267312e+08</td>\n",
       "      <td>1302.717077</td>\n",
       "      <td>4.127526e+06</td>\n",
       "    </tr>\n",
       "    <tr>\n",
       "      <th>min</th>\n",
       "      <td>2.000138e+10</td>\n",
       "      <td>41111.000000</td>\n",
       "      <td>2.000000e+03</td>\n",
       "    </tr>\n",
       "    <tr>\n",
       "      <th>25%</th>\n",
       "      <td>2.070147e+10</td>\n",
       "      <td>42212.000000</td>\n",
       "      <td>2.100000e+05</td>\n",
       "    </tr>\n",
       "    <tr>\n",
       "      <th>50%</th>\n",
       "      <td>2.140455e+10</td>\n",
       "      <td>44412.000000</td>\n",
       "      <td>4.000000e+05</td>\n",
       "    </tr>\n",
       "    <tr>\n",
       "      <th>75%</th>\n",
       "      <td>2.230163e+10</td>\n",
       "      <td>45211.000000</td>\n",
       "      <td>1.500000e+06</td>\n",
       "    </tr>\n",
       "    <tr>\n",
       "      <th>max</th>\n",
       "      <td>2.300671e+10</td>\n",
       "      <td>45414.000000</td>\n",
       "      <td>1.500000e+08</td>\n",
       "    </tr>\n",
       "  </tbody>\n",
       "</table>\n",
       "</div>"
      ]
     },
     "execution_count": 13,
     "metadata": {},
     "output_type": "execute_result"
    }
   ],
   "execution_count": 13
  },
  {
   "cell_type": "code",
   "id": "93348ad9",
   "metadata": {
    "ExecuteTime": {
     "end_time": "2024-09-19T18:11:58.007067Z",
     "start_time": "2024-09-19T18:11:57.985118Z"
    }
   },
   "source": [
    "U_concat.describe()"
   ],
   "outputs": [
    {
     "data": {
      "text/plain": [
       "            Address           code         value\n",
       "count  3.429980e+05  342998.000000  3.429980e+05\n",
       "mean   1.154766e+10   44013.968732  3.967340e+06\n",
       "std    9.046263e+08    1309.526937  1.086300e+07\n",
       "min    1.000100e+10   41111.000000  2.000000e+03\n",
       "25%    1.072810e+10   42214.000000  2.100000e+05\n",
       "50%    1.150819e+10   44311.000000  4.000000e+05\n",
       "75%    1.230128e+10   45111.000000  2.100000e+06\n",
       "max    1.300638e+10   45414.000000  8.000000e+08"
      ],
      "text/html": [
       "<div>\n",
       "<style scoped>\n",
       "    .dataframe tbody tr th:only-of-type {\n",
       "        vertical-align: middle;\n",
       "    }\n",
       "\n",
       "    .dataframe tbody tr th {\n",
       "        vertical-align: top;\n",
       "    }\n",
       "\n",
       "    .dataframe thead th {\n",
       "        text-align: right;\n",
       "    }\n",
       "</style>\n",
       "<table border=\"1\" class=\"dataframe\">\n",
       "  <thead>\n",
       "    <tr style=\"text-align: right;\">\n",
       "      <th></th>\n",
       "      <th>Address</th>\n",
       "      <th>code</th>\n",
       "      <th>value</th>\n",
       "    </tr>\n",
       "  </thead>\n",
       "  <tbody>\n",
       "    <tr>\n",
       "      <th>count</th>\n",
       "      <td>3.429980e+05</td>\n",
       "      <td>342998.000000</td>\n",
       "      <td>3.429980e+05</td>\n",
       "    </tr>\n",
       "    <tr>\n",
       "      <th>mean</th>\n",
       "      <td>1.154766e+10</td>\n",
       "      <td>44013.968732</td>\n",
       "      <td>3.967340e+06</td>\n",
       "    </tr>\n",
       "    <tr>\n",
       "      <th>std</th>\n",
       "      <td>9.046263e+08</td>\n",
       "      <td>1309.526937</td>\n",
       "      <td>1.086300e+07</td>\n",
       "    </tr>\n",
       "    <tr>\n",
       "      <th>min</th>\n",
       "      <td>1.000100e+10</td>\n",
       "      <td>41111.000000</td>\n",
       "      <td>2.000000e+03</td>\n",
       "    </tr>\n",
       "    <tr>\n",
       "      <th>25%</th>\n",
       "      <td>1.072810e+10</td>\n",
       "      <td>42214.000000</td>\n",
       "      <td>2.100000e+05</td>\n",
       "    </tr>\n",
       "    <tr>\n",
       "      <th>50%</th>\n",
       "      <td>1.150819e+10</td>\n",
       "      <td>44311.000000</td>\n",
       "      <td>4.000000e+05</td>\n",
       "    </tr>\n",
       "    <tr>\n",
       "      <th>75%</th>\n",
       "      <td>1.230128e+10</td>\n",
       "      <td>45111.000000</td>\n",
       "      <td>2.100000e+06</td>\n",
       "    </tr>\n",
       "    <tr>\n",
       "      <th>max</th>\n",
       "      <td>1.300638e+10</td>\n",
       "      <td>45414.000000</td>\n",
       "      <td>8.000000e+08</td>\n",
       "    </tr>\n",
       "  </tbody>\n",
       "</table>\n",
       "</div>"
      ]
     },
     "execution_count": 14,
     "metadata": {},
     "output_type": "execute_result"
    }
   ],
   "execution_count": 14
  },
  {
   "cell_type": "markdown",
   "id": "fa89979c",
   "metadata": {},
   "source": [
    "### sahpiro & anderson"
   ]
  },
  {
   "cell_type": "code",
   "id": "e188fb55",
   "metadata": {
    "ExecuteTime": {
     "end_time": "2024-09-19T18:12:11.699092Z",
     "start_time": "2024-09-19T18:12:11.696057Z"
    }
   },
   "source": [
    "ALPHA = 0.05\n",
    "\n",
    "def anderson(result):\n",
    "    print(f\"Statistic: {result.statistic}\")\n",
    "    print(f\"Critical Values: {result.critical_values}\")\n",
    "    print(f\"Significance Levels: {result.significance_level}\")\n",
    "\n",
    "    for i in range(len(result.critical_values)):\n",
    "        if result.statistic > result.critical_values[i]:\n",
    "            print(f\"At the {result.significance_level[i]}% significance level, data is NOT normal.\")\n",
    "        else:\n",
    "            print(f\"At the {result.significance_level[i]}% significance level, data is normal.\")"
   ],
   "outputs": [],
   "execution_count": 16
  },
  {
   "cell_type": "code",
   "id": "626e3a36",
   "metadata": {
    "ExecuteTime": {
     "end_time": "2024-09-19T18:12:36.870013Z",
     "start_time": "2024-09-19T18:12:36.837018Z"
    }
   },
   "source": [
    "from scipy import stats\n",
    "U_concat_anderson =  stats.anderson(U_concat['value'])\n",
    "anderson(U_concat_anderson)"
   ],
   "outputs": [
    {
     "name": "stdout",
     "output_type": "stream",
     "text": [
      "Statistic: 68961.54317141889\n",
      "Critical Values: [0.576 0.656 0.787 0.918 1.092]\n",
      "Significance Levels: [15.  10.   5.   2.5  1. ]\n",
      "At the 15.0% significance level, data is NOT normal.\n",
      "At the 10.0% significance level, data is NOT normal.\n",
      "At the 5.0% significance level, data is NOT normal.\n",
      "At the 2.5% significance level, data is NOT normal.\n",
      "At the 1.0% significance level, data is NOT normal.\n"
     ]
    }
   ],
   "execution_count": 20
  },
  {
   "cell_type": "code",
   "id": "926f04a1",
   "metadata": {
    "ExecuteTime": {
     "end_time": "2024-09-19T18:12:38.844653Z",
     "start_time": "2024-09-19T18:12:38.813150Z"
    }
   },
   "source": [
    "from scipy import stats\n",
    "R_concat_anderson =  stats.anderson(R_concat['value'])\n",
    "anderson(R_concat_anderson)"
   ],
   "outputs": [
    {
     "name": "stdout",
     "output_type": "stream",
     "text": [
      "Statistic: 48188.78837119264\n",
      "Critical Values: [0.576 0.656 0.787 0.918 1.092]\n",
      "Significance Levels: [15.  10.   5.   2.5  1. ]\n",
      "At the 15.0% significance level, data is NOT normal.\n",
      "At the 10.0% significance level, data is NOT normal.\n",
      "At the 5.0% significance level, data is NOT normal.\n",
      "At the 2.5% significance level, data is NOT normal.\n",
      "At the 1.0% significance level, data is NOT normal.\n"
     ]
    }
   ],
   "execution_count": 21
  },
  {
   "metadata": {
    "ExecuteTime": {
     "end_time": "2024-09-19T18:39:39.813793Z",
     "start_time": "2024-09-19T18:39:39.797440Z"
    }
   },
   "cell_type": "code",
   "source": "U_concat.info()",
   "id": "6d7988a73f9559ce",
   "outputs": [
    {
     "name": "stdout",
     "output_type": "stream",
     "text": [
      "<class 'pandas.core.frame.DataFrame'>\n",
      "Index: 342998 entries, 0 to 86982\n",
      "Data columns (total 3 columns):\n",
      " #   Column   Non-Null Count   Dtype\n",
      "---  ------   --------------   -----\n",
      " 0   Address  342998 non-null  int64\n",
      " 1   code     342998 non-null  int64\n",
      " 2   value    342998 non-null  int64\n",
      "dtypes: int64(3)\n",
      "memory usage: 10.5 MB\n"
     ]
    }
   ],
   "execution_count": 38
  },
  {
   "metadata": {},
   "cell_type": "markdown",
   "source": [
    "فرضیات\n",
    "\n",
    "- **فرضیه صفر (H0):** تفاوت معناداری بین میانگین ارزش خانه‌های شهری و روستایی وجود ندارد.\n",
    "- **فرضیه مقابل (H1):** تفاوت معناداری بین میانگین ارزش خانه‌های شهری و روستایی وجود دارد.\n"
   ],
   "id": "8c81de3511251058"
  },
  {
   "metadata": {},
   "cell_type": "code",
   "outputs": [
    {
     "name": "stdout",
     "output_type": "stream",
     "text": [
      "MannwhitneyuResult(statistic=46041684151.0, pvalue=1.3729308831198633e-75)\n"
     ]
    }
   ],
   "execution_count": 39,
   "source": [
    "from scipy import stats\n",
    "\n",
    "u_test = stats.mannwhitneyu(R_concat['value'], U_concat['value'])\n",
    "print(u_test)"
   ],
   "id": "f4700443"
  },
  {
   "metadata": {},
   "cell_type": "markdown",
   "source": "p-value کمتر از 0.05 است، بنابراین فرضیه صفر رد می‌شود.",
   "id": "d8a6b844243447be"
  },
  {
   "cell_type": "code",
   "id": "d805432c",
   "metadata": {
    "ExecuteTime": {
     "end_time": "2024-09-19T18:45:13.029166Z",
     "start_time": "2024-09-19T18:45:12.673296Z"
    }
   },
   "source": [
    "from scipy import stats\n",
    "R_yeojohnson, _ = stats.yeojohnson(R_concat['value'])\n",
    "U_yeojohnson, _ = stats.yeojohnson(U_concat['value'])\n",
    "\n",
    "R_anderson = stats.anderson(R_yeojohnson)\n",
    "U_anderson = stats.anderson(U_yeojohnson)"
   ],
   "outputs": [],
   "execution_count": 40
  },
  {
   "cell_type": "code",
   "id": "f87c6a11",
   "metadata": {
    "ExecuteTime": {
     "end_time": "2024-09-19T18:15:07.873352Z",
     "start_time": "2024-09-19T18:15:07.869812Z"
    }
   },
   "source": "anderson(U_anderson)",
   "outputs": [
    {
     "name": "stdout",
     "output_type": "stream",
     "text": [
      "Statistic: 4598.751635715831\n",
      "Critical Values: [0.576 0.656 0.787 0.918 1.092]\n",
      "Significance Levels: [15.  10.   5.   2.5  1. ]\n",
      "At the 15.0% significance level, data is NOT normal.\n",
      "At the 10.0% significance level, data is NOT normal.\n",
      "At the 5.0% significance level, data is NOT normal.\n",
      "At the 2.5% significance level, data is NOT normal.\n",
      "At the 1.0% significance level, data is NOT normal.\n"
     ]
    }
   ],
   "execution_count": 31
  },
  {
   "cell_type": "code",
   "id": "f5ef10d8",
   "metadata": {
    "ExecuteTime": {
     "end_time": "2024-09-19T18:15:11.242377Z",
     "start_time": "2024-09-19T18:15:11.239110Z"
    }
   },
   "source": "anderson(R_anderson)",
   "outputs": [
    {
     "name": "stdout",
     "output_type": "stream",
     "text": [
      "Statistic: 1771.4614132581628\n",
      "Critical Values: [0.576 0.656 0.787 0.918 1.092]\n",
      "Significance Levels: [15.  10.   5.   2.5  1. ]\n",
      "At the 15.0% significance level, data is NOT normal.\n",
      "At the 10.0% significance level, data is NOT normal.\n",
      "At the 5.0% significance level, data is NOT normal.\n",
      "At the 2.5% significance level, data is NOT normal.\n",
      "At the 1.0% significance level, data is NOT normal.\n"
     ]
    }
   ],
   "execution_count": 32
  },
  {
   "cell_type": "code",
   "execution_count": 116,
   "id": "82595252",
   "metadata": {},
   "outputs": [
    {
     "name": "stdout",
     "output_type": "stream",
     "text": [
      "Statistic: 40598.39706371655\n",
      "Critical Values: [0.576 0.656 0.787 0.918 1.092]\n",
      "Significance Levels: [15.  10.   5.   2.5  1. ]\n",
      "At the 15.0% significance level, data is NOT normal.\n",
      "At the 10.0% significance level, data is NOT normal.\n",
      "At the 5.0% significance level, data is NOT normal.\n",
      "At the 2.5% significance level, data is NOT normal.\n",
      "At the 1.0% significance level, data is NOT normal.\n"
     ]
    }
   ],
   "source": [
    "from scipy import stats\n",
    "U_concat_anderson =  stats.anderson(U_anderson['value'])\n",
    "anderson(U_concat_anderson)"
   ]
  },
  {
   "metadata": {
    "ExecuteTime": {
     "end_time": "2024-09-19T18:56:37.910490Z",
     "start_time": "2024-09-19T18:56:37.834798Z"
    }
   },
   "cell_type": "code",
   "source": [
    "import numpy as np\n",
    "\n",
    "R_log = np.log(R_concat['value'])\n",
    "U_log = np.log(U_concat['value'])\n",
    "\n",
    "R_log_anderson = stats.anderson(R_log)\n",
    "U_log_anderson = stats.anderson(U_log)"
   ],
   "id": "6dc275571a94fb06",
   "outputs": [],
   "execution_count": 51
  },
  {
   "metadata": {
    "ExecuteTime": {
     "end_time": "2024-09-19T18:55:29.010235Z",
     "start_time": "2024-09-19T18:55:29.007656Z"
    }
   },
   "cell_type": "code",
   "source": "anderson(R_log_anderson)",
   "id": "f7495f882f37fd7d",
   "outputs": [
    {
     "name": "stdout",
     "output_type": "stream",
     "text": [
      "Statistic: 5174.823005863931\n",
      "Critical Values: [0.576 0.656 0.787 0.918 1.092]\n",
      "Significance Levels: [15.  10.   5.   2.5  1. ]\n",
      "At the 15.0% significance level, data is NOT normal.\n",
      "At the 10.0% significance level, data is NOT normal.\n",
      "At the 5.0% significance level, data is NOT normal.\n",
      "At the 2.5% significance level, data is NOT normal.\n",
      "At the 1.0% significance level, data is NOT normal.\n"
     ]
    }
   ],
   "execution_count": 48
  },
  {
   "metadata": {
    "ExecuteTime": {
     "end_time": "2024-09-19T18:55:30.842340Z",
     "start_time": "2024-09-19T18:55:30.839263Z"
    }
   },
   "cell_type": "code",
   "source": "anderson(U_log_anderson)",
   "id": "de1b905d6a346c87",
   "outputs": [
    {
     "name": "stdout",
     "output_type": "stream",
     "text": [
      "Statistic: 13199.266178797407\n",
      "Critical Values: [0.576 0.656 0.787 0.918 1.092]\n",
      "Significance Levels: [15.  10.   5.   2.5  1. ]\n",
      "At the 15.0% significance level, data is NOT normal.\n",
      "At the 10.0% significance level, data is NOT normal.\n",
      "At the 5.0% significance level, data is NOT normal.\n",
      "At the 2.5% significance level, data is NOT normal.\n",
      "At the 1.0% significance level, data is NOT normal.\n"
     ]
    }
   ],
   "execution_count": 49
  },
  {
   "metadata": {
    "ExecuteTime": {
     "end_time": "2024-09-19T18:56:43.528188Z",
     "start_time": "2024-09-19T18:56:43.470967Z"
    }
   },
   "cell_type": "code",
   "source": [
    "import numpy as np\n",
    "\n",
    "R_sqrt = np.sqrt(R_concat['value'])\n",
    "U_sqrt = np.sqrt(U_concat['value'])\n",
    "\n",
    "R_sqrt_anderson = stats.anderson(R_sqrt)\n",
    "U_sqrt_anderson = stats.anderson(U_sqrt)"
   ],
   "id": "99e4464737a9c84d",
   "outputs": [],
   "execution_count": 53
  },
  {
   "metadata": {
    "ExecuteTime": {
     "end_time": "2024-09-19T18:57:12.947536Z",
     "start_time": "2024-09-19T18:57:12.944537Z"
    }
   },
   "cell_type": "code",
   "source": "anderson(R_sqrt_anderson)",
   "id": "1061d3e3dc6b61be",
   "outputs": [
    {
     "name": "stdout",
     "output_type": "stream",
     "text": [
      "Statistic: 23649.319373013044\n",
      "Critical Values: [0.576 0.656 0.787 0.918 1.092]\n",
      "Significance Levels: [15.  10.   5.   2.5  1. ]\n",
      "At the 15.0% significance level, data is NOT normal.\n",
      "At the 10.0% significance level, data is NOT normal.\n",
      "At the 5.0% significance level, data is NOT normal.\n",
      "At the 2.5% significance level, data is NOT normal.\n",
      "At the 1.0% significance level, data is NOT normal.\n"
     ]
    }
   ],
   "execution_count": 54
  },
  {
   "metadata": {
    "ExecuteTime": {
     "end_time": "2024-09-19T18:57:29.555542Z",
     "start_time": "2024-09-19T18:57:29.552332Z"
    }
   },
   "cell_type": "code",
   "source": "anderson(U_sqrt_anderson)",
   "id": "fec9fd72e85b6d5e",
   "outputs": [
    {
     "name": "stdout",
     "output_type": "stream",
     "text": [
      "Statistic: 41568.48723287915\n",
      "Critical Values: [0.576 0.656 0.787 0.918 1.092]\n",
      "Significance Levels: [15.  10.   5.   2.5  1. ]\n",
      "At the 15.0% significance level, data is NOT normal.\n",
      "At the 10.0% significance level, data is NOT normal.\n",
      "At the 5.0% significance level, data is NOT normal.\n",
      "At the 2.5% significance level, data is NOT normal.\n",
      "At the 1.0% significance level, data is NOT normal.\n"
     ]
    }
   ],
   "execution_count": 56
  },
  {
   "cell_type": "markdown",
   "id": "f12c0833",
   "metadata": {},
   "source": [
    "### نرمال نشد در نتیجه از u_test استفاده باید بکنم"
   ]
  }
 ],
 "metadata": {
  "kernelspec": {
   "display_name": "Python 3 (ipykernel)",
   "language": "python",
   "name": "python3"
  },
  "language_info": {
   "codemirror_mode": {
    "name": "ipython",
    "version": 3
   },
   "file_extension": ".py",
   "mimetype": "text/x-python",
   "name": "python",
   "nbconvert_exporter": "python",
   "pygments_lexer": "ipython3",
   "version": "3.9.12"
  }
 },
 "nbformat": 4,
 "nbformat_minor": 5
}
