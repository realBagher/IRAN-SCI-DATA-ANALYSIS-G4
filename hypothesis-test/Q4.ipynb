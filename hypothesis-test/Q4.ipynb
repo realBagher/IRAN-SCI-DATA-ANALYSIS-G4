{
 "cells": [
  {
   "cell_type": "code",
   "execution_count": 20,
   "metadata": {},
   "outputs": [],
   "source": [
    "import numpy as np\n",
    "import pandas as pd\n",
    "from scipy import stats\n",
    "import matplotlib.pylab as plt\n",
    "import seaborn as sns"
   ]
  },
  {
   "cell_type": "code",
   "execution_count": 21,
   "metadata": {},
   "outputs": [],
   "source": [
    "def load_data_Urbun(sheet):\n",
    "    df_urban = {}\n",
    "    years = ['1400', '1401']\n",
    "    for year in years:\n",
    "        file_name = f'U{year}.xlsx'\n",
    "        sheet_name = f'U{year}{sheet}'\n",
    "        df = pd.read_excel(file_name, sheet_name = sheet_name)\n",
    "        df_urban[f'U{year}'] = df\n",
    "    return df_urban"
   ]
  },
  {
   "cell_type": "code",
   "execution_count": 22,
   "metadata": {},
   "outputs": [],
   "source": [
    "Urbun_data_income_paid_jobs = load_data_Urbun('P4S01')\n",
    "\n",
    "Urbun_data_income_freelance_jobs = load_data_Urbun('P4S02')\n",
    "\n",
    "Urbun_data_income_Miscellaneous = load_data_Urbun('P4S03')\n",
    "\n",
    "Urbun_data_income_subsidy = load_data_Urbun('P4S04')"
   ]
  },
  {
   "cell_type": "markdown",
   "metadata": {},
   "source": [
    "#### Group By"
   ]
  },
  {
   "cell_type": "code",
   "execution_count": 23,
   "metadata": {},
   "outputs": [],
   "source": [
    "Urbun_data_income_freelance_jobs['U1401']['income_s_y'] = Urbun_data_income_freelance_jobs['U1401']['income_s_y'].apply(lambda x : x.strip())\n",
    "\n",
    "Urbun_data_income_freelance_jobs['U1401']['income_s_y'] = Urbun_data_income_freelance_jobs['U1401']['income_s_y'].apply(lambda x : x if x != '' else '0')\n",
    "\n",
    "Urbun_data_income_freelance_jobs['U1401']['income_s_y'] = Urbun_data_income_freelance_jobs['U1401']['income_s_y'].astype('float')"
   ]
  },
  {
   "cell_type": "code",
   "execution_count": 24,
   "metadata": {},
   "outputs": [],
   "source": [
    "Urbun_data_income_Miscellaneous['U1400'].loc[318 , 'income_pension'] = '0'\n",
    "Urbun_data_income_Miscellaneous['U1400'] = Urbun_data_income_Miscellaneous['U1400'].astype('float')"
   ]
  },
  {
   "cell_type": "code",
   "execution_count": 25,
   "metadata": {},
   "outputs": [],
   "source": [
    "# Paid Jobs\n",
    "paid_jobs = {}\n",
    "for key, value in Urbun_data_income_paid_jobs.items():\n",
    "    paid_jobs[key] = value.groupby('Address')[['netincome_w_y']].agg('sum').reset_index()\n",
    "    \n",
    "# Freelance Jobs\n",
    "Freelance_Jobs = {}\n",
    "for key, value in Urbun_data_income_freelance_jobs.items() :\n",
    "    Freelance_Jobs[key] = value.groupby('Address')[['income_s_y']].agg('sum').reset_index()\n",
    "    \n",
    "# Miscellaneous\n",
    "Miscellaneous = {}\n",
    "selected_columns = ['income_pension', 'income_rent', 'income_interest', 'income_aid', 'income_resale', 'income_transfer']\n",
    "for key in Urbun_data_income_Miscellaneous.keys():\n",
    "    Miscellaneous[key] = Urbun_data_income_Miscellaneous[key].groupby('Address')[selected_columns].agg('sum').reset_index()\n",
    "    \n",
    "# Subsidy \n",
    "Subsidy = {}\n",
    "for key, value in Urbun_data_income_subsidy.items():\n",
    "    Subsidy[key] = value.groupby('Address')[['subsidy']].agg('sum').reset_index()"
   ]
  },
  {
   "cell_type": "markdown",
   "metadata": {},
   "source": [
    "#### Process Income"
   ]
  },
  {
   "cell_type": "code",
   "execution_count": 26,
   "metadata": {},
   "outputs": [],
   "source": [
    "def process_income_data_Urbun(years):\n",
    "    ans = {}\n",
    "    for year in years :\n",
    "        \n",
    "        df = paid_jobs[f'U{year}'].merge(Freelance_Jobs[f'U{year}'], how = 'outer')\n",
    "\n",
    "        df = df.merge(Miscellaneous[f'U{year}'], how = 'outer')\n",
    "\n",
    "        df = df.merge(Subsidy[f'U{year}'], how='outer')\n",
    "        \n",
    "        ans[f'number{year}'] = df['Address'].nunique()\n",
    "\n",
    "        df = df.drop(columns='Address')\n",
    "\n",
    "        df.dropna(how='all', inplace=True)\n",
    "\n",
    "        df.fillna(0, inplace=True)\n",
    "\n",
    "        df = df.astype('float')\n",
    "\n",
    "        df = df.sum(axis=1)\n",
    "        \n",
    "        ans[f'{year}'] = df\n",
    "        \n",
    "    return ans"
   ]
  },
  {
   "cell_type": "code",
   "execution_count": 27,
   "metadata": {},
   "outputs": [],
   "source": [
    "years = ['1400', '1401']\n",
    "Urban_data_income = process_income_data_Urbun(years)"
   ]
  },
  {
   "cell_type": "markdown",
   "metadata": {},
   "source": [
    "#### برای تحلیل جواب تست اندرسون"
   ]
  },
  {
   "cell_type": "code",
   "execution_count": 28,
   "metadata": {},
   "outputs": [],
   "source": [
    "def Anderson(result) :\n",
    "    print(f\"Statistic: {result.statistic}\")\n",
    "    print(f\"Critical Values: {result.critical_values}\")\n",
    "    print(f\"Significance Levels: {result.significance_level}\")\n",
    "    \n",
    "    for i in range(len(result.critical_values)):\n",
    "        if result.statistic > result.critical_values[i]:\n",
    "            print(f\"At the {result.significance_level[i]}% significance level, data is NOT normal.\")\n",
    "        else:\n",
    "            print(f\"At the {result.significance_level[i]}% significance level, data is normal.\")"
   ]
  },
  {
   "cell_type": "markdown",
   "metadata": {},
   "source": [
    "### فرضیات\n",
    "\n",
    "- **H0**: میزان درآمد افراد شهری در سال ۱۴۰۱ نسبت به سال ۱۴۰۰ افزایش یافته است\n",
    "- **H1**:میزان درآمد افراد شهری در سال ۱۴۰۱ نسبت به سال ۱۴۰۰ کاهش یافته است\n",
    "- **ALPHA** : 0.5"
   ]
  },
  {
   "cell_type": "code",
   "execution_count": 29,
   "metadata": {},
   "outputs": [
    {
     "name": "stdout",
     "output_type": "stream",
     "text": [
      "Statistic: 963.683927443577\n",
      "Critical Values: [0.576 0.656 0.787 0.918 1.092]\n",
      "Significance Levels: [15.  10.   5.   2.5  1. ]\n",
      "At the 15.0% significance level, data is NOT normal.\n",
      "At the 10.0% significance level, data is NOT normal.\n",
      "At the 5.0% significance level, data is NOT normal.\n",
      "At the 2.5% significance level, data is NOT normal.\n",
      "At the 1.0% significance level, data is NOT normal.\n",
      "\n",
      "Statistic: 1163.3046928004987\n",
      "Critical Values: [0.576 0.656 0.787 0.918 1.092]\n",
      "Significance Levels: [15.  10.   5.   2.5  1. ]\n",
      "At the 15.0% significance level, data is NOT normal.\n",
      "At the 10.0% significance level, data is NOT normal.\n",
      "At the 5.0% significance level, data is NOT normal.\n",
      "At the 2.5% significance level, data is NOT normal.\n",
      "At the 1.0% significance level, data is NOT normal.\n"
     ]
    }
   ],
   "source": [
    "anderson_1400 = stats.anderson(Urban_data_income['1400'])\n",
    "anderson_1401 = stats.anderson(Urban_data_income['1401'])\n",
    "Anderson(anderson_1400)\n",
    "print()\n",
    "Anderson(anderson_1401)"
   ]
  },
  {
   "cell_type": "code",
   "execution_count": 30,
   "metadata": {},
   "outputs": [
    {
     "data": {
      "text/plain": [
       "MannwhitneyuResult(statistic=126885872.5, pvalue=0.0)"
      ]
     },
     "execution_count": 30,
     "metadata": {},
     "output_type": "execute_result"
    }
   ],
   "source": [
    "stats.mannwhitneyu(Urban_data_income['1400'], Urban_data_income['1401'], alternative = 'less')"
   ]
  },
  {
   "cell_type": "markdown",
   "metadata": {},
   "source": [
    "- از آلفا خیلی کمتره مقدار پی پس فرض ضفر رد میشه"
   ]
  },
  {
   "cell_type": "markdown",
   "metadata": {},
   "source": [
    "#### تلاش برای نرمال سازی"
   ]
  },
  {
   "cell_type": "code",
   "execution_count": 31,
   "metadata": {},
   "outputs": [
    {
     "name": "stdout",
     "output_type": "stream",
     "text": [
      "Statistic: 757.1266692267563\n",
      "Critical Values: [0.576 0.656 0.787 0.918 1.092]\n",
      "Significance Levels: [15.  10.   5.   2.5  1. ]\n",
      "At the 15.0% significance level, data is NOT normal.\n",
      "At the 10.0% significance level, data is NOT normal.\n",
      "At the 5.0% significance level, data is NOT normal.\n",
      "At the 2.5% significance level, data is NOT normal.\n",
      "At the 1.0% significance level, data is NOT normal.\n",
      "\n",
      "Statistic: 920.9819314592678\n",
      "Critical Values: [0.576 0.656 0.787 0.918 1.092]\n",
      "Significance Levels: [15.  10.   5.   2.5  1. ]\n",
      "At the 15.0% significance level, data is NOT normal.\n",
      "At the 10.0% significance level, data is NOT normal.\n",
      "At the 5.0% significance level, data is NOT normal.\n",
      "At the 2.5% significance level, data is NOT normal.\n",
      "At the 1.0% significance level, data is NOT normal.\n"
     ]
    }
   ],
   "source": [
    "yeojohnson_1400 , _ = stats.yeojohnson(Urban_data_income['1400'])\n",
    "yeojohnson_1401 , _ = stats.yeojohnson(Urban_data_income['1401'])\n",
    "anderson_yeojohnson_1400 = stats.anderson(yeojohnson_1400)\n",
    "anderson_yeojohnson_1401 = stats.anderson(yeojohnson_1401)\n",
    "Anderson(anderson_yeojohnson_1400)\n",
    "print()\n",
    "Anderson(anderson_yeojohnson_1401)"
   ]
  },
  {
   "cell_type": "code",
   "execution_count": 32,
   "metadata": {},
   "outputs": [
    {
     "name": "stdout",
     "output_type": "stream",
     "text": [
      "Statistic: 274.27523113293137\n",
      "Critical Values: [0.576 0.656 0.787 0.918 1.092]\n",
      "Significance Levels: [15.  10.   5.   2.5  1. ]\n",
      "At the 15.0% significance level, data is NOT normal.\n",
      "At the 10.0% significance level, data is NOT normal.\n",
      "At the 5.0% significance level, data is NOT normal.\n",
      "At the 2.5% significance level, data is NOT normal.\n",
      "At the 1.0% significance level, data is NOT normal.\n",
      "\n",
      "Statistic: 353.2980963285918\n",
      "Critical Values: [0.576 0.656 0.787 0.918 1.092]\n",
      "Significance Levels: [15.  10.   5.   2.5  1. ]\n",
      "At the 15.0% significance level, data is NOT normal.\n",
      "At the 10.0% significance level, data is NOT normal.\n",
      "At the 5.0% significance level, data is NOT normal.\n",
      "At the 2.5% significance level, data is NOT normal.\n",
      "At the 1.0% significance level, data is NOT normal.\n"
     ]
    },
    {
     "name": "stderr",
     "output_type": "stream",
     "text": [
      "d:\\miniconda3\\envs\\bootcamp\\lib\\site-packages\\pandas\\core\\arraylike.py:399: RuntimeWarning: invalid value encountered in log\n",
      "  result = getattr(ufunc, method)(*inputs, **kwargs)\n",
      "d:\\miniconda3\\envs\\bootcamp\\lib\\site-packages\\pandas\\core\\arraylike.py:399: RuntimeWarning: divide by zero encountered in log\n",
      "  result = getattr(ufunc, method)(*inputs, **kwargs)\n"
     ]
    }
   ],
   "source": [
    "log_1400 = np.log(Urban_data_income['1400'])\n",
    "log_1401 = np.log(Urban_data_income['1401'])\n",
    "\n",
    "log_1400.dropna(inplace = True)\n",
    "log_1400 = log_1400[~np.isinf(log_1400)]\n",
    "\n",
    "log_1401.dropna(inplace = True)\n",
    "log_1401 = log_1401[~np.isinf(log_1401)]\n",
    "\n",
    "anderson_log_1400 = stats.anderson(log_1400)\n",
    "anderson_log_1401 = stats.anderson(log_1401)\n",
    "\n",
    "Anderson(anderson_log_1400)\n",
    "print()\n",
    "Anderson(anderson_log_1401)"
   ]
  },
  {
   "cell_type": "code",
   "execution_count": 33,
   "metadata": {},
   "outputs": [
    {
     "name": "stdout",
     "output_type": "stream",
     "text": [
      "Statistic: 115.19730236554824\n",
      "Critical Values: [0.576 0.656 0.787 0.918 1.092]\n",
      "Significance Levels: [15.  10.   5.   2.5  1. ]\n",
      "At the 15.0% significance level, data is NOT normal.\n",
      "At the 10.0% significance level, data is NOT normal.\n",
      "At the 5.0% significance level, data is NOT normal.\n",
      "At the 2.5% significance level, data is NOT normal.\n",
      "At the 1.0% significance level, data is NOT normal.\n",
      "\n",
      "Statistic: 147.5928552974292\n",
      "Critical Values: [0.576 0.656 0.787 0.918 1.092]\n",
      "Significance Levels: [15.  10.   5.   2.5  1. ]\n",
      "At the 15.0% significance level, data is NOT normal.\n",
      "At the 10.0% significance level, data is NOT normal.\n",
      "At the 5.0% significance level, data is NOT normal.\n",
      "At the 2.5% significance level, data is NOT normal.\n",
      "At the 1.0% significance level, data is NOT normal.\n"
     ]
    },
    {
     "name": "stderr",
     "output_type": "stream",
     "text": [
      "d:\\miniconda3\\envs\\bootcamp\\lib\\site-packages\\pandas\\core\\arraylike.py:399: RuntimeWarning: invalid value encountered in sqrt\n",
      "  result = getattr(ufunc, method)(*inputs, **kwargs)\n"
     ]
    }
   ],
   "source": [
    "sqrt_1400 = np.sqrt(Urban_data_income['1400'])\n",
    "sqrt_1401 = np.sqrt(Urban_data_income['1401'])\n",
    "\n",
    "sqrt_1400.dropna(inplace = True)\n",
    "sqrt_1400 = sqrt_1400[~np.isinf(sqrt_1400)]\n",
    "\n",
    "sqrt_1401.dropna(inplace = True)\n",
    "sqrt_1401 = sqrt_1401[~np.isinf(sqrt_1401)]\n",
    "\n",
    "anderson_sqrt_1400 = stats.anderson(sqrt_1400)\n",
    "anderson_sqrt_1401 = stats.anderson(sqrt_1401)\n",
    "Anderson(anderson_sqrt_1400)\n",
    "print()\n",
    "Anderson(anderson_sqrt_1401)"
   ]
  },
  {
   "cell_type": "markdown",
   "metadata": {},
   "source": [
    "- داده ها نرمال نشدن پس همچنان فرض صفر رد میمونه"
   ]
  },
  {
   "cell_type": "markdown",
   "metadata": {},
   "source": [
    "#### آیا سطح زندگی مردم تغییر کرده"
   ]
  },
  {
   "cell_type": "markdown",
   "metadata": {},
   "source": [
    "- میام به هرکدوم از ویژگی ها بین 1 که میشه فقیر 2 میشه نرمال و 3 میشه پولدار نمره میدم بعد جمع میکنم اون جمع ها هم تقسیم میکنم به سطح زندگی افراد"
   ]
  },
  {
   "cell_type": "code",
   "execution_count": 34,
   "metadata": {},
   "outputs": [],
   "source": [
    "living_Data = load_data_Urbun('P2')"
   ]
  },
  {
   "cell_type": "code",
   "execution_count": 35,
   "metadata": {},
   "outputs": [
    {
     "data": {
      "text/html": [
       "<div>\n",
       "<style scoped>\n",
       "    .dataframe tbody tr th:only-of-type {\n",
       "        vertical-align: middle;\n",
       "    }\n",
       "\n",
       "    .dataframe tbody tr th {\n",
       "        vertical-align: top;\n",
       "    }\n",
       "\n",
       "    .dataframe thead th {\n",
       "        text-align: right;\n",
       "    }\n",
       "</style>\n",
       "<table border=\"1\" class=\"dataframe\">\n",
       "  <thead>\n",
       "    <tr style=\"text-align: right;\">\n",
       "      <th></th>\n",
       "      <th>room</th>\n",
       "      <th>space</th>\n",
       "    </tr>\n",
       "  </thead>\n",
       "  <tbody>\n",
       "    <tr>\n",
       "      <th>room</th>\n",
       "      <td>1.000000</td>\n",
       "      <td>0.814061</td>\n",
       "    </tr>\n",
       "    <tr>\n",
       "      <th>space</th>\n",
       "      <td>0.814061</td>\n",
       "      <td>1.000000</td>\n",
       "    </tr>\n",
       "  </tbody>\n",
       "</table>\n",
       "</div>"
      ],
      "text/plain": [
       "           room     space\n",
       "room   1.000000  0.814061\n",
       "space  0.814061  1.000000"
      ]
     },
     "execution_count": 35,
     "metadata": {},
     "output_type": "execute_result"
    }
   ],
   "source": [
    "living_Data['U1400'][['room', 'space']].corr()"
   ]
  },
  {
   "cell_type": "code",
   "execution_count": 36,
   "metadata": {},
   "outputs": [
    {
     "data": {
      "text/html": [
       "<div>\n",
       "<style scoped>\n",
       "    .dataframe tbody tr th:only-of-type {\n",
       "        vertical-align: middle;\n",
       "    }\n",
       "\n",
       "    .dataframe tbody tr th {\n",
       "        vertical-align: top;\n",
       "    }\n",
       "\n",
       "    .dataframe thead th {\n",
       "        text-align: right;\n",
       "    }\n",
       "</style>\n",
       "<table border=\"1\" class=\"dataframe\">\n",
       "  <thead>\n",
       "    <tr style=\"text-align: right;\">\n",
       "      <th></th>\n",
       "      <th>room</th>\n",
       "      <th>space</th>\n",
       "    </tr>\n",
       "  </thead>\n",
       "  <tbody>\n",
       "    <tr>\n",
       "      <th>room</th>\n",
       "      <td>1.000000</td>\n",
       "      <td>0.599627</td>\n",
       "    </tr>\n",
       "    <tr>\n",
       "      <th>space</th>\n",
       "      <td>0.599627</td>\n",
       "      <td>1.000000</td>\n",
       "    </tr>\n",
       "  </tbody>\n",
       "</table>\n",
       "</div>"
      ],
      "text/plain": [
       "           room     space\n",
       "room   1.000000  0.599627\n",
       "space  0.599627  1.000000"
      ]
     },
     "execution_count": 36,
     "metadata": {},
     "output_type": "execute_result"
    }
   ],
   "source": [
    "living_Data['U1401'][['room', 'space']].corr()"
   ]
  },
  {
   "cell_type": "markdown",
   "metadata": {},
   "source": [
    "- کور یکی بالا نیست پس نمیتونم اتاق رو حذف کنم فقط با متراژ برم"
   ]
  },
  {
   "cell_type": "code",
   "execution_count": 37,
   "metadata": {},
   "outputs": [],
   "source": [
    "def room(x) :\n",
    "    if x < 3 : \n",
    "        return 0\n",
    "    elif x < 5 :\n",
    "        return 1\n",
    "    else :\n",
    "        return 2"
   ]
  },
  {
   "cell_type": "code",
   "execution_count": 38,
   "metadata": {},
   "outputs": [],
   "source": [
    "living_Data['U1400']['room_score'] = living_Data['U1400']['room'].apply(lambda x : room(x))\n",
    "living_Data['U1400'].drop(columns = 'room' ,inplace = True)\n",
    "living_Data['U1401']['room_score'] = living_Data['U1401']['room'].apply(lambda x : room(x))\n",
    "living_Data['U1401'].drop(columns = 'room' ,inplace = True)"
   ]
  },
  {
   "cell_type": "code",
   "execution_count": 39,
   "metadata": {},
   "outputs": [],
   "source": [
    "def tenure(x) :\n",
    "    if x == 'Service' or x == 'Free' or x == 'Free':\n",
    "        return 0\n",
    "    elif x == 'Mortgage' or x == 'Rent' :\n",
    "        return 1\n",
    "    else :\n",
    "        return 2"
   ]
  },
  {
   "cell_type": "code",
   "execution_count": 40,
   "metadata": {},
   "outputs": [],
   "source": [
    "living_Data['U1400']['tenure_score'] = living_Data['U1400']['tenure'].apply(lambda x : tenure(x))\n",
    "living_Data['U1400'].drop(columns = 'tenure', inplace = True)\n",
    "\n",
    "living_Data['U1401']['tenure_score'] = living_Data['U1401']['tenure'].apply(lambda x : tenure(x))\n",
    "living_Data['U1401'].drop(columns = 'tenure', inplace = True)"
   ]
  },
  {
   "cell_type": "code",
   "execution_count": 41,
   "metadata": {},
   "outputs": [],
   "source": [
    "def space(x) :\n",
    "    if x < 70 :\n",
    "        return 0\n",
    "    elif x <= 130 :\n",
    "        return 1\n",
    "    else :\n",
    "        return 2"
   ]
  },
  {
   "cell_type": "code",
   "execution_count": 42,
   "metadata": {},
   "outputs": [],
   "source": [
    "living_Data['U1400']['space_score'] = living_Data['U1400']['space'].apply(lambda x : space(x))\n",
    "living_Data['U1400'].drop(columns = 'space', inplace = True)\n",
    "\n",
    "living_Data['U1401']['space_score'] = living_Data['U1401']['space'].apply(lambda x : space(x))\n",
    "living_Data['U1401'].drop(columns = 'space', inplace = True)"
   ]
  },
  {
   "cell_type": "code",
   "execution_count": 43,
   "metadata": {},
   "outputs": [],
   "source": [
    "living_Data['U1400'].drop(columns = 'material', inplace = True)\n",
    "living_Data['U1401'].drop(columns = 'material', inplace = True)"
   ]
  },
  {
   "cell_type": "code",
   "execution_count": 44,
   "metadata": {},
   "outputs": [],
   "source": [
    "living_Data['U1400'].drop(columns = 'construction', inplace = True)\n",
    "living_Data['U1401'].drop(columns = 'construction', inplace = True)"
   ]
  },
  {
   "cell_type": "code",
   "execution_count": 45,
   "metadata": {},
   "outputs": [],
   "source": [
    "def TF(x) :\n",
    "    if x :\n",
    "        return 1\n",
    "    else :\n",
    "        return 0"
   ]
  },
  {
   "cell_type": "code",
   "execution_count": 46,
   "metadata": {},
   "outputs": [],
   "source": [
    "List = ['vehicle', 'motorcycle', 'bicycle', 'radio', 'radiotape',\n",
    "       'TVbw', 'TV', 'VHS_VCD_DVD', 'computer', 'cellphone', 'freezer',\n",
    "       'refridgerator', 'fridge', 'stove', 'vacuum', 'washingmachine',\n",
    "       'sewingmachine', 'fan', 'evapcoolingportable', 'splitportable',\n",
    "       'dishwasher', 'microwave', 'none', 'pipewater', 'electricity',\n",
    "       'pipegas', 'telephone', 'internet', 'bathroom', 'kitchen',\n",
    "       'evapcooling', 'centralcooling', 'centralheating', 'package', 'split',\n",
    "       'wastewater']"
   ]
  },
  {
   "cell_type": "code",
   "execution_count": 47,
   "metadata": {},
   "outputs": [],
   "source": [
    "for item in List :\n",
    "    living_Data['U1400'][item] = living_Data['U1400'][item].apply(lambda x : TF(x))\n",
    "    living_Data['U1401'][item] = living_Data['U1401'][item].apply(lambda x : TF(x))"
   ]
  },
  {
   "cell_type": "code",
   "execution_count": 48,
   "metadata": {},
   "outputs": [],
   "source": [
    "def cookingfuel(x) :\n",
    "    if x == 'LiquidGas' or x == 'Gasoline' or x == 'Oil' :\n",
    "        return 0\n",
    "    else :\n",
    "        return 1"
   ]
  },
  {
   "cell_type": "code",
   "execution_count": 49,
   "metadata": {},
   "outputs": [],
   "source": [
    "living_Data['U1400']['cookingfuel'] = living_Data['U1400']['cookingfuel'].apply(lambda x : cookingfuel(x))\n",
    "living_Data['U1401']['cookingfuel'] = living_Data['U1401']['cookingfuel'].apply(lambda x : cookingfuel(x))"
   ]
  },
  {
   "cell_type": "code",
   "execution_count": 50,
   "metadata": {},
   "outputs": [],
   "source": [
    "def heatingfuel(x):\n",
    "    if x == 'NaturalGas' or x == 'Electricity':\n",
    "        return 1\n",
    "    else :\n",
    "        return 0"
   ]
  },
  {
   "cell_type": "code",
   "execution_count": 51,
   "metadata": {},
   "outputs": [],
   "source": [
    "living_Data['U1400']['heatingfuel'] = living_Data['U1400']['heatingfuel'].apply(lambda x : heatingfuel(x))\n",
    "living_Data['U1401']['heatingfuel'] = living_Data['U1401']['heatingfuel'].apply(lambda x : heatingfuel(x))"
   ]
  },
  {
   "cell_type": "code",
   "execution_count": 52,
   "metadata": {},
   "outputs": [],
   "source": [
    "living_Data['U1400']['waterheatingfuel'] = living_Data['U1400']['waterheatingfuel'].apply(lambda x : heatingfuel(x))\n",
    "living_Data['U1401']['waterheatingfuel'] = living_Data['U1401']['waterheatingfuel'].apply(lambda x : heatingfuel(x))"
   ]
  },
  {
   "cell_type": "code",
   "execution_count": 53,
   "metadata": {},
   "outputs": [],
   "source": [
    "living_Data['U1400'].drop(columns = 'Address', inplace = True)\n",
    "living_Data['U1401'].drop(columns = 'Address', inplace = True)"
   ]
  },
  {
   "cell_type": "code",
   "execution_count": 65,
   "metadata": {},
   "outputs": [],
   "source": [
    "score_1400 = living_Data['U1400'].sum(axis = 1)\n",
    "score_1401 = living_Data['U1401'].sum(axis = 1)"
   ]
  },
  {
   "cell_type": "code",
   "execution_count": 64,
   "metadata": {},
   "outputs": [],
   "source": [
    "def change_score(x) :\n",
    "    if x <= 12 :\n",
    "        return 'Poor'\n",
    "    elif x <= 22 :\n",
    "        return 'Normal'\n",
    "    else :\n",
    "        return 'Rich'"
   ]
  },
  {
   "cell_type": "code",
   "execution_count": 66,
   "metadata": {},
   "outputs": [],
   "source": [
    "score_1400 = score_1400.apply(lambda x : change_score(x))\n",
    "score_1401 = score_1401.apply(lambda x : change_score(x))"
   ]
  },
  {
   "cell_type": "code",
   "execution_count": 67,
   "metadata": {},
   "outputs": [
    {
     "data": {
      "image/png": "[encoded data removed]",
      "text/plain": [
       "<Figure size 2000x2000 with 1 Axes>"
      ]
     },
     "metadata": {},
     "output_type": "display_data"
    }
   ],
   "source": [
    "plt.figure(figsize=(20 , 20))\n",
    "plt.bar(['Normal', 'Rich', 'Poor'], score_1400.value_counts(), color='r', label = 1400)\n",
    "plt.grid(True, alpha = 0.5)\n",
    "plt.bar(['Normal', 'Rich', 'Poor'], score_1401.value_counts(),  color='b', alpha = 0.7, label = 1401)\n",
    "plt.grid(True, alpha = 0.5)\n",
    "plt.xlabel('Level of Living', fontsize=14)\n",
    "plt.ylabel('Number of Households', fontsize=14)\n",
    "plt.title('Number of Households by Living Level for 1400 and 1401', fontsize=18)\n",
    "plt.legend()\n",
    "plt.tight_layout()\n",
    "plt.show()"
   ]
  },
  {
   "cell_type": "markdown",
   "metadata": {},
   "source": [
    "طبق نمودار میشه فهمید با اینکه درآمد در طول 2 سال تغییر چشم گیری نداشته توقع داشتیم که حداقل افراد در همون سطح بمونن ولی افراد فقیر که خیلی کم شدن ولی افراد پولدار یکم کمتر شدن\n",
    "پس میشه گفت که رفاه زندگی شون بیشتر شده"
   ]
  },
  {
   "cell_type": "markdown",
   "metadata": {},
   "source": [
    "ولی نمیشه بگیم با توجه به نمودار پس یه ازمون فرض هم میریم"
   ]
  },
  {
   "cell_type": "code",
   "execution_count": 84,
   "metadata": {},
   "outputs": [
    {
     "data": {
      "text/html": [
       "<div>\n",
       "<style scoped>\n",
       "    .dataframe tbody tr th:only-of-type {\n",
       "        vertical-align: middle;\n",
       "    }\n",
       "\n",
       "    .dataframe tbody tr th {\n",
       "        vertical-align: top;\n",
       "    }\n",
       "\n",
       "    .dataframe thead th {\n",
       "        text-align: right;\n",
       "    }\n",
       "</style>\n",
       "<table border=\"1\" class=\"dataframe\">\n",
       "  <thead>\n",
       "    <tr style=\"text-align: right;\">\n",
       "      <th></th>\n",
       "      <th>1400</th>\n",
       "      <th>1401</th>\n",
       "    </tr>\n",
       "  </thead>\n",
       "  <tbody>\n",
       "    <tr>\n",
       "      <th>Normal</th>\n",
       "      <td>10318</td>\n",
       "      <td>10462</td>\n",
       "    </tr>\n",
       "    <tr>\n",
       "      <th>Rich</th>\n",
       "      <td>9043</td>\n",
       "      <td>8840</td>\n",
       "    </tr>\n",
       "    <tr>\n",
       "      <th>Poor</th>\n",
       "      <td>2155</td>\n",
       "      <td>265</td>\n",
       "    </tr>\n",
       "  </tbody>\n",
       "</table>\n",
       "</div>"
      ],
      "text/plain": [
       "         1400   1401\n",
       "Normal  10318  10462\n",
       "Rich     9043   8840\n",
       "Poor     2155    265"
      ]
     },
     "execution_count": 84,
     "metadata": {},
     "output_type": "execute_result"
    }
   ],
   "source": [
    "scores = pd.DataFrame({1400 : score_1400.value_counts(), 1401 : score_1401.value_counts()})\n",
    "scores"
   ]
  },
  {
   "cell_type": "code",
   "execution_count": 69,
   "metadata": {},
   "outputs": [
    {
     "data": {
      "text/plain": [
       "Chi2ContingencyResult(statistic=1390.0434429993502, pvalue=1.4318632734228268e-302, dof=2, expected_freq=array([[10882.90728525,  9897.09271475],\n",
       "       [ 9365.68965265,  8517.31034735],\n",
       "       [ 1267.40306209,  1152.59693791]]))"
      ]
     },
     "execution_count": 69,
     "metadata": {},
     "output_type": "execute_result"
    }
   ],
   "source": [
    "stats.chi2_contingency(scores)"
   ]
  },
  {
   "cell_type": "markdown",
   "metadata": {},
   "source": [
    "- **H0**: توزیع مقادیر در دو گروه مشابه است\n",
    "- **H1**: توزیع مقادیر در دو گروه مشابه نیست\n",
    "- **ALPHA** : 0.05"
   ]
  },
  {
   "cell_type": "markdown",
   "metadata": {},
   "source": [
    "### تحلیل آزمون Chi-Square\n",
    "\n",
    "**نتایج آزمون Chi-Square**:\n",
    "\n",
    "- **آماره آزمون (Chi-Square Statistic)**: 1390.04\n",
    "- **مقدار p (P-value)**: 1.43e-302\n",
    "- **درجه آزادی (Degrees of Freedom)**: 2\n",
    "\n",
    "#### فراوانی‌های مورد انتظار (Expected Frequencies):\n",
    "| گروه‌ها         | دسته 1     | دسته 2     |\n",
    "|-----------------|------------|------------|\n",
    "| گروه 1          | 10882.91   | 9897.09    |\n",
    "| گروه 2          | 9365.69    | 8517.31    |\n",
    "| گروه 3          | 1267.40    | 1152.60    |\n",
    "\n",
    "### تحلیل:\n",
    "- **آماره آزمون Chi-Square** برابر با 1390.04 است که نشان‌دهنده تفاوت قابل‌توجه بین فراوانی‌های مشاهده شده و فراوانی‌های مورد انتظار است.\n",
    "- **مقدار p (P-value)** بسیار کوچک (حدود 1.43e-302) است که نشان می‌دهد احتمال بسیار کمی وجود دارد که این تفاوت‌ها تصادفی باشند. بنابراین، فرض صفر (عدم تفاوت بین گروه‌ها) با اطمینان بسیار بالا رد می‌شود.\n",
    "- **درجه آزادی** 2 نشان می‌دهد که این آزمون بر روی داده‌هایی با سه دسته مستقل انجام شده است.\n",
    "\n",
    "### نتیجه‌گیری:\n",
    "با توجه به آماره آزمون و مقدار p بسیار کوچک، تفاوت‌های مشاهده شده بین دسته‌های مختلف از نظر آماری معنادار هستند.\n"
   ]
  },
  {
   "cell_type": "markdown",
   "metadata": {},
   "source": [
    "با اینکه ازمون میگه توزیع مقادیر در دو گروه مشابه نیست و تفاوت معناداری بین آن‌ها وجود دارد ولی باید به تعداد افراد هر سال هم توجه کرد"
   ]
  },
  {
   "cell_type": "code",
   "execution_count": 71,
   "metadata": {},
   "outputs": [
    {
     "data": {
      "text/plain": [
       "1400    21516\n",
       "1401    19567\n",
       "dtype: int64"
      ]
     },
     "execution_count": 71,
     "metadata": {},
     "output_type": "execute_result"
    }
   ],
   "source": [
    "scores.sum(axis=0)"
   ]
  },
  {
   "cell_type": "markdown",
   "metadata": {},
   "source": [
    "- سال 1400 : 21516\n",
    "- سال 1401 : 19567"
   ]
  },
  {
   "cell_type": "code",
   "execution_count": 77,
   "metadata": {},
   "outputs": [
    {
     "data": {
      "text/plain": [
       "1949"
      ]
     },
     "execution_count": 77,
     "metadata": {},
     "output_type": "execute_result"
    }
   ],
   "source": [
    "21516 - 19567"
   ]
  },
  {
   "cell_type": "markdown",
   "metadata": {},
   "source": [
    "حدود 2000 نفر تفاوت دارن که اگه این مقدار رو فرض بگیریم برای افراد فقیری بودن که کم شدن و یه بار دیگه ازمون رو انجام بدیم"
   ]
  },
  {
   "cell_type": "code",
   "execution_count": 85,
   "metadata": {},
   "outputs": [
    {
     "data": {
      "text/html": [
       "<div>\n",
       "<style scoped>\n",
       "    .dataframe tbody tr th:only-of-type {\n",
       "        vertical-align: middle;\n",
       "    }\n",
       "\n",
       "    .dataframe tbody tr th {\n",
       "        vertical-align: top;\n",
       "    }\n",
       "\n",
       "    .dataframe thead th {\n",
       "        text-align: right;\n",
       "    }\n",
       "</style>\n",
       "<table border=\"1\" class=\"dataframe\">\n",
       "  <thead>\n",
       "    <tr style=\"text-align: right;\">\n",
       "      <th></th>\n",
       "      <th>1400</th>\n",
       "      <th>1401</th>\n",
       "    </tr>\n",
       "  </thead>\n",
       "  <tbody>\n",
       "    <tr>\n",
       "      <th>Normal</th>\n",
       "      <td>10318</td>\n",
       "      <td>10462</td>\n",
       "    </tr>\n",
       "    <tr>\n",
       "      <th>Rich</th>\n",
       "      <td>9043</td>\n",
       "      <td>8840</td>\n",
       "    </tr>\n",
       "    <tr>\n",
       "      <th>Poor</th>\n",
       "      <td>2155</td>\n",
       "      <td>2214</td>\n",
       "    </tr>\n",
       "  </tbody>\n",
       "</table>\n",
       "</div>"
      ],
      "text/plain": [
       "         1400   1401\n",
       "Normal  10318  10462\n",
       "Rich     9043   8840\n",
       "Poor     2155   2214"
      ]
     },
     "execution_count": 85,
     "metadata": {},
     "output_type": "execute_result"
    }
   ],
   "source": [
    "scores.loc['Poor', 1401] += 1949\n",
    "scores"
   ]
  },
  {
   "cell_type": "code",
   "execution_count": 87,
   "metadata": {},
   "outputs": [
    {
     "data": {
      "text/plain": [
       "Index(['Normal', 'Rich', 'Poor'], dtype='object')"
      ]
     },
     "execution_count": 87,
     "metadata": {},
     "output_type": "execute_result"
    }
   ],
   "source": [
    "scores[1400].index"
   ]
  },
  {
   "cell_type": "code",
   "execution_count": 88,
   "metadata": {},
   "outputs": [
    {
     "data": {
      "image/png": "[encoded data removed]",
      "text/plain": [
       "<Figure size 2000x2000 with 1 Axes>"
      ]
     },
     "metadata": {},
     "output_type": "display_data"
    }
   ],
   "source": [
    "plt.figure(figsize=(20 , 20))\n",
    "plt.bar(scores[1400].index, scores[1400], color='r', label = 1400)\n",
    "plt.grid(True, alpha = 0.5)\n",
    "plt.bar(scores[1401].index, scores[1401],  color='b', alpha = 0.7, label = 1401)\n",
    "plt.grid(True, alpha = 0.5)\n",
    "plt.xlabel('Level of Living', fontsize=14)\n",
    "plt.ylabel('Number of Households', fontsize=14)\n",
    "plt.title('Number of Households by Living Level for 1400 and 1401', fontsize=18)\n",
    "plt.legend()\n",
    "plt.tight_layout()\n",
    "plt.show()"
   ]
  },
  {
   "cell_type": "code",
   "execution_count": 89,
   "metadata": {},
   "outputs": [
    {
     "data": {
      "text/plain": [
       "Chi2ContingencyResult(statistic=4.098999683923362, pvalue=0.12879930748936783, dof=2, expected_freq=array([[10390. , 10390. ],\n",
       "       [ 8941.5,  8941.5],\n",
       "       [ 2184.5,  2184.5]]))"
      ]
     },
     "execution_count": 89,
     "metadata": {},
     "output_type": "execute_result"
    }
   ],
   "source": [
    "stats.chi2_contingency(scores)"
   ]
  },
  {
   "cell_type": "markdown",
   "metadata": {},
   "source": [
    "### تحلیل آزمون Chi-Square\n",
    "\n",
    "**نتایج آزمون Chi-Square**:\n",
    "\n",
    "- **آماره آزمون (Chi-Square Statistic)**: 4.10\n",
    "- **مقدار p (P-value)**: 0.1288\n",
    "- **درجه آزادی (Degrees of Freedom)**: 2\n",
    "\n",
    "#### فراوانی‌های مورد انتظار (Expected Frequencies):\n",
    "| گروه‌ها         | دسته 1     | دسته 2     |\n",
    "|-----------------|------------|------------|\n",
    "| گروه 1          | 10390.00   | 10390.00   |\n",
    "| گروه 2          | 8941.50    | 8941.50    |\n",
    "| گروه 3          | 2184.50    | 2184.50    |\n",
    "\n",
    "### تحلیل:\n",
    "- **آماره آزمون Chi-Square** برابر با 4.10 است که نشان‌دهنده وجود تفاوت‌های کوچکی بین فراوانی‌های مشاهده شده و فراوانی‌های مورد انتظار است.\n",
    "- **مقدار p (P-value)** برابر با 0.1288 است که **بزرگ‌تر** از سطح معناداری 0.05 است. این به این معناست که شواهد کافی برای رد فرض صفر (**H0**) وجود ندارد.\n",
    "\n",
    "### نتیجه‌گیری:\n",
    "- **فرض صفر (H0)**: \"توزیع مقادیر در دو گروه مشابه است\" **رد نمی‌شود**.\n",
    "- بنابراین، نتیجه‌گیری می‌شود که **توزیع مقادیر در دو گروه مشابه است** و تفاوت معناداری بین گروه‌ها وجود ندارد.\n"
   ]
  },
  {
   "cell_type": "markdown",
   "metadata": {},
   "source": [
    "اینجا ولی تنیجه معکوس میگیریم پس میشه گفت که داده های 1401 ممکنه ناقص باشه پس اگه بخوایم بر اساس داده های موجود بگیم باید بگیم که فرض صفر رد میشه"
   ]
  }
 ],
 "metadata": {
  "kernelspec": {
   "display_name": "bootcamp",
   "language": "python",
   "name": "python3"
  },
  "language_info": {
   "codemirror_mode": {
    "name": "ipython",
    "version": 3
   },
   "file_extension": ".py",
   "mimetype": "text/x-python",
   "name": "python",
   "nbconvert_exporter": "python",
   "pygments_lexer": "ipython3",
   "version": "3.9.18"
  }
 },
 "nbformat": 4,
 "nbformat_minor": 2
}
